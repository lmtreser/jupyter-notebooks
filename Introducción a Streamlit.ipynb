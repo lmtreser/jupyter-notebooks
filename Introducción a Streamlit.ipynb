{
 "cells": [
  {
   "cell_type": "markdown",
   "id": "f75dd301",
   "metadata": {},
   "source": [
    "# **Introducción a Streamlit**\n",
    "\n",
    "## Bloque 1: Introducción a Streamlit\n",
    "\n",
    "### 1.1. ¿Qué es Streamlit?\n",
    "\n",
    "[Streamlit](https://streamlit.io/) es un framework en Python que permite crear aplicaciones web de manera simple y rápida. Ideal para visualizar datos, crear prototipos de machine learning y dashboards interactivos. La documentación oficial se puede consultar en [https://docs.streamlit.io/](https://docs.streamlit.io/)\n",
    "\n",
    "### 1.2. Instalación y Configuración\n",
    "\n",
    "Asegúrate de tener Python instalado (versión >=3.7), luego ejecutar:\n",
    "\n",
    "```bash\n",
    "pip install streamlit\n",
    "```\n",
    "\n",
    "Verifica la instalación ejecutando:\n",
    "\n",
    "```bash\n",
    "python -m streamlit hello\n",
    "```\n",
    "\n",
    "### 1.3. Crear una aplicación\n",
    "\n",
    "Crear un archivo llamado `app.py` y escribir:"
   ]
  },
  {
   "cell_type": "code",
   "execution_count": null,
   "id": "558d76a5",
   "metadata": {},
   "outputs": [],
   "source": [
    "import streamlit as st\n",
    "\n",
    "st.title(\"¡Hola, Streamlit!\")\n",
    "st.write(\"Esta es una primera aplicación\")"
   ]
  },
  {
   "cell_type": "markdown",
   "id": "fab32435",
   "metadata": {},
   "source": [
    "Navegar a la carpeta donde está el archivo y ejecutar: `streamlit run app.py` o `python -m streamlit run app.py`. Esto abrirá la aplicación en el navegador.\n",
    "\n",
    "### 1.4. Widgets básicos\n",
    "\n",
    "Se puede insertar distintos widgets como:\n",
    "\n",
    "- Entradas de texto (`st.text_input`)\n",
    "- Botones (`st.button`)\n",
    "- Sliders (`st.slider`)"
   ]
  },
  {
   "cell_type": "code",
   "execution_count": null,
   "id": "7afae509",
   "metadata": {},
   "outputs": [],
   "source": [
    "# Input de texto\n",
    "nombre = st.text_input(\"¿Cuál es tu nombre?\")\n",
    "st.write(f\"Hola, {nombre}\")\n",
    "\n",
    "# Botones\n",
    "if st.button(\"Haz clic aquí\"):\n",
    "    st.write(\"¡Botón presionado!\")\n",
    "\n",
    "# Sliders\n",
    "edad = st.slider(\"Selecciona tu edad\", 0, 100, 25)\n",
    "st.write(f\"Tienes {edad} años.\")"
   ]
  },
  {
   "cell_type": "markdown",
   "id": "91a8d85c",
   "metadata": {},
   "source": [
    "### 1.5. Configuración de la app\n",
    "\n",
    "Es posible configurar algunas cuestiones relacionadas a la app mediante `set_page_config`, por ejemplo, el icono y el layout de la aplicación."
   ]
  },
  {
   "cell_type": "code",
   "execution_count": null,
   "id": "196c72a9",
   "metadata": {},
   "outputs": [],
   "source": [
    "st.set_page_config(\n",
    "    page_title=\"Titulo de la App\",\n",
    "    page_icon=\"🌐\",\n",
    "    layout=\"wide\",\n",
    "    initial_sidebar_state=\"collapsed\"\n",
    "    )"
   ]
  },
  {
   "cell_type": "markdown",
   "id": "0a9442ca",
   "metadata": {},
   "source": [
    "### 1.6. Ejercitación\n",
    "\n",
    "1. Instalar Streamlit y verificar el estado de la instalación.\n",
    "2. Crear una primera aplicación, ejecutarla y explorar su interfaz.\n",
    "3. Modificar la aplicación utilizando algún widget."
   ]
  },
  {
   "cell_type": "markdown",
   "id": "558ebe77",
   "metadata": {},
   "source": [
    "---\n",
    "\n",
    "## Bloque 2: Diseño, Interactividad y Estado\n",
    "\n",
    "### 2.1. Componentes básicos"
   ]
  },
  {
   "cell_type": "code",
   "execution_count": null,
   "id": "0253eee9",
   "metadata": {},
   "outputs": [],
   "source": [
    "# Títulos y texto\n",
    "import streamlit as st\n",
    "\n",
    "st.title(\"Titulo\")\n",
    "st.header(\"Encabezado\")\n",
    "st.subheader(\"Subencabezado\")\n",
    "st.text(\"Texto simple\")\n",
    "st.write(\"¡Hola, Mundo!\")\n",
    "st.markdown(\"**Texto en negrita**\")"
   ]
  },
  {
   "cell_type": "code",
   "execution_count": null,
   "id": "e0615621",
   "metadata": {},
   "outputs": [],
   "source": [
    "# Entrada de texto\n",
    "nombre = st.text_input(\"Ingresar nombre:\")\n",
    "st.write(f\"Texto ingresado: {nombre}\")\n",
    "\n",
    "# Botón\n",
    "if st.button(\"Enviar\"):  \n",
    "    st.write(\"Press!\")\n",
    "\n",
    "# Deslizador\n",
    "edad = st.slider(\"Seleccionar edad:\", 0, 100, 25)\n",
    "\n",
    "# Selector dinámicos\n",
    "color = st.selectbox(\"Elegir un color:\", [\"Rojo\", \"Verde\", \"Azul\"])\n",
    "\n",
    "# Selectores dinámicos\n",
    "opciones = ['Opción 1', 'Opción 2', 'Opción 3']\n",
    "seleccion = st.selectbox('Elegir una opción', opciones)\n",
    "st.write(f'Opción elegida: {seleccion}')\n",
    "\n",
    "# Checkbox\n",
    "check = st.checkbox(\"Tildar opción\")\n",
    "if check:\n",
    "    st.text(\"Opción marcada\")\n",
    "    \n",
    "# Radio\n",
    "radio = st.radio(\"Elegir una opción:\", [\"Opción 1\", \"Opción 2\", \"Opción 3\"])\n",
    "\n",
    "options = [\"Opción 1\", \"Opción 2\", \"Opción 3\", \"Opción 4\"]\n",
    "selection = st.segmented_control(\n",
    "                                 \"Filtrar:\", options, default=\"Opción 1\", \n",
    "                                 selection_mode=\"single\"\n",
    "                                 )"
   ]
  },
  {
   "cell_type": "code",
   "execution_count": null,
   "id": "0466f01e",
   "metadata": {},
   "outputs": [],
   "source": [
    "# Emojis\n",
    "st.write(\"Es posible utilizar emojis: 😍 🐈\")\n",
    "        \n",
    "# Imagenes\n",
    "st.image(\"lamp.svg\", width=50)\n",
    "\n",
    "# Archivos\n",
    "archivo = st.file_uploader(\"Subir un archivo CSV\")  \n",
    "if archivo:\n",
    "    st.write(\"Archivo subido\")"
   ]
  },
  {
   "cell_type": "code",
   "execution_count": null,
   "id": "ed215412",
   "metadata": {},
   "outputs": [],
   "source": [
    "import time\n",
    "\n",
    "# Barra de progreso animada\n",
    "progress = st.progress(0)\n",
    "for i in range(100):\n",
    "    time.sleep(0.1)\n",
    "    progress.progress(i + 1)"
   ]
  },
  {
   "cell_type": "markdown",
   "id": "5b998a2a",
   "metadata": {},
   "source": [
    "### 2.2. App Layout\n",
    "\n",
    "En Streamlit, organizar elementos en pantalla se logra principalmente usando columnas (`st.columns`), pestañas (`st.tabs`), contenedores (`st.container`) y expansores (`st.expander`).\n",
    "\n",
    "**Usar Columnas**\n",
    "\n",
    "Las columnas permiten organizar elementos en una disposición horizontal."
   ]
  },
  {
   "cell_type": "code",
   "execution_count": null,
   "id": "736b07ee",
   "metadata": {},
   "outputs": [],
   "source": [
    "# Crear columnas\n",
    "col1, col2, col3 = st.columns(3)\n",
    "\n",
    "# Añadir contenido a cada columna\n",
    "col1.header(\"Columna 1\")\n",
    "col1.write(\"Contenido de la primera columna.\")\n",
    "col2.header(\"Columna 2\")\n",
    "col2.button(\"Botón en columna 2\")\n",
    "col3.header(\"Columna 3\")\n",
    "col3.write(\"Texto en la tercera columna.\")"
   ]
  },
  {
   "cell_type": "code",
   "execution_count": null,
   "id": "445980b4",
   "metadata": {},
   "outputs": [],
   "source": [
    "# Ajustar el tamaño relativo de las columnas especificando proporciones\n",
    "col4, col5 = st.columns([1, 2])  # col5 será más ancha que col4\n",
    "\n",
    "col4.header(\"Columna 4\")\n",
    "col4.write(\"Lorem ipsum dolor sit amet, consectetur adipiscing elit. Nullam nec purus nec nunc\")\n",
    "col5.header(\"Columna 5\")\n",
    "col5.write(\"Lorem ipsum dolor sit amet, consectetur adipiscing elit. Nullam nec purus nec nunc\")"
   ]
  },
  {
   "cell_type": "code",
   "execution_count": null,
   "id": "cbb097ab",
   "metadata": {},
   "outputs": [],
   "source": [
    "# Usar notación with para insertar elementos en las columnas\n",
    "col6, col7 = st.columns(2)\n",
    "\n",
    "with col6:\n",
    "    st.header(\"Columna 6\")\n",
    "    st.write(\"Contenido de la columna 6\")\n",
    "with col7:\n",
    "    st.header(\"Columna 7\")\n",
    "    st.write(\"Contenido de la columna 7\")"
   ]
  },
  {
   "cell_type": "markdown",
   "id": "0a25f141",
   "metadata": {},
   "source": [
    "**Usar Pestañas (Tabs)**\n",
    "\n",
    "Las pestañas son un elemento de navegación que permite a los usuarios moverse fácilmente entre grupos de contenido relacionado. Para agregar elementos se puede utilizar la notación `with` (preferida) o simplemente llamar a los métodos directamente en el objeto."
   ]
  },
  {
   "cell_type": "code",
   "execution_count": null,
   "id": "545b3505",
   "metadata": {},
   "outputs": [],
   "source": [
    "# Usar pestañas para organizar el contenido\n",
    "tab1, tab2, tab3 = st.tabs([\"Pestaña 1\", \"Pestaña 2\", \"Pestaña 3\"])\n",
    "\n",
    "with tab1:\n",
    "    st.write(\"Contenido de la pestaña 1\")\n",
    "with tab2:\n",
    "    st.write(\"Contenido de la pestaña 2\")\n",
    "with tab3:\n",
    "    st.write(\"Contenido de la pestaña 3\")"
   ]
  },
  {
   "cell_type": "markdown",
   "id": "62db8554",
   "metadata": {},
   "source": [
    "**Usar Contenedores**\n",
    "\n",
    "Un contenedor invisible puede usarse para contener varios elementos. Esto permite, por ejemplo, insertar varios elementos en la aplicación sin seguir un orden. Para agregar elementos al contenedor, se puede usar la notación `with` (preferible) o simplemente llamar a los métodos directamente en el objeto."
   ]
  },
  {
   "cell_type": "code",
   "execution_count": null,
   "id": "5020a937",
   "metadata": {},
   "outputs": [],
   "source": [
    "# Usar contenedores con borde\n",
    "with st.container(border=True):\n",
    "    st.write(\"Contenido dentro del contenedor\")\n",
    "st.write(\"Contenido fuera del contenedor\")"
   ]
  },
  {
   "cell_type": "markdown",
   "id": "b1f3445b",
   "metadata": {},
   "source": [
    "**Usar Expansores**\n",
    "\n",
    "Un expansor se puede usar para contener varios elementos y que el usuario puede expandir o contraer. Cuando está contraído, lo único que queda visible es la etiqueta proporcionada."
   ]
  },
  {
   "cell_type": "code",
   "execution_count": null,
   "id": "adb13af6",
   "metadata": {},
   "outputs": [],
   "source": [
    "# Usar expansores\n",
    "with st.expander(\"Haz clic aquí para expandir\"):\n",
    "    st.write(\"Contenido del expansor\")"
   ]
  },
  {
   "cell_type": "markdown",
   "id": "b2861b23",
   "metadata": {},
   "source": [
    "### 2.3. Barra Lateral\n",
    "\n",
    "No solo se puede agregar interactividad a una aplicación con widgets, sino que también puede organizarlos en una barra lateral. Los elementos se pueden pasar a `st.sidebar` mediante notación de objetos y con notación `with`."
   ]
  },
  {
   "cell_type": "code",
   "execution_count": null,
   "id": "288d002d",
   "metadata": {},
   "outputs": [],
   "source": [
    "# Sidebar\n",
    "with st.sidebar:\n",
    "    st.header(\"Opciones\")\n",
    "    opcion = st.radio(\"Escoge una opción:\", [\"A\", \"B\", \"C\"])\n",
    "    st.write(f\"Opción seleccionada: {opcion}\")"
   ]
  },
  {
   "cell_type": "markdown",
   "id": "fd8c1c8a",
   "metadata": {},
   "source": [
    "### 2.4. Session State\n",
    "\n",
    "*Session State* proporciona una interfaz similar a un diccionario donde se puede guardar información que se conserva entre las repeticiones de la ejecución de un script. Utiliza `st.session_state` para almacenar y recuperar valores. Por ejemplo, `st.session_state[\"my_key\"]` o `st.session_state.my_key`. Recordar que los widgets manejan su estado por sí solos, por lo que no siempre es necesario usar *Session State*.\n",
    "\n",
    "**¿Qué es una sesión?**\n",
    "\n",
    "Una sesión es una instancia única de visualización de una aplicación. Si visualizas una aplicación desde dos pestañas diferentes en tu navegador, cada pestaña tendrá su propia sesión. Por lo tanto, cada visor de una aplicación tendrá un estado de sesión vinculado a su vista específica. Streamlit mantiene esta sesión mientras el usuario interactúa con la aplicación. Si el usuario actualiza la página de su navegador o recarga la URL de la aplicación, su estado de sesión se restablece y comienza nuevamente con una nueva sesión."
   ]
  },
  {
   "cell_type": "code",
   "execution_count": null,
   "id": "bb212cd9",
   "metadata": {},
   "outputs": [],
   "source": [
    "# Almacenar datos en la sesión\n",
    "if \"contador\" not in st.session_state:\n",
    "    st.session_state.contador = 0\n",
    "\n",
    "if st.button(\"Incrementar\"):\n",
    "    st.session_state.contador += 1\n",
    "\n",
    "st.write(f\"Contador: {st.session_state.contador}\")"
   ]
  },
  {
   "cell_type": "markdown",
   "id": "8eb3799f",
   "metadata": {},
   "source": [
    "### 2.5. Ejercitación\n",
    "\n",
    "1. Diseñar una app utilizando los diferentes componentes vistos.\n",
    "2. Modificar el layout de la app mediante columnas, tabs y contenedores.\n",
    "3. Almacenar cambios de estado mediante Session State."
   ]
  },
  {
   "cell_type": "markdown",
   "id": "d8fb321a",
   "metadata": {},
   "source": [
    "---\n",
    "\n",
    "## Bloque 3: Visualización de Datos"
   ]
  },
  {
   "cell_type": "markdown",
   "id": "f97fdd20",
   "metadata": {},
   "source": [
    "### 3.1. Carga y Preprocesamiento de Datos\n",
    "\n",
    "Cargar datos es el primer paso para trabajar en cualquier proyecto de visualización. En este caso, utilizaremos un dataset de un sistema domótico, que incluye información sobre sensores y actuadores."
   ]
  },
  {
   "cell_type": "code",
   "execution_count": null,
   "id": "183487ae",
   "metadata": {},
   "outputs": [],
   "source": [
    "import pandas as pd\n",
    "import streamlit as st\n",
    "\n",
    "# Cargar los datos con cache para mejorar rendimiento\n",
    "@st.cache_data\n",
    "def load_data():\n",
    "    return pd.read_csv(\"dataset.csv\")\n",
    "\n",
    "data = load_data()\n",
    "\n",
    "# Mostrar los primeros registros\n",
    "st.write(\"Vista previa de los datos:\")\n",
    "st.write(data.head())"
   ]
  },
  {
   "cell_type": "markdown",
   "id": "62b66d04",
   "metadata": {},
   "source": [
    "### 3.2. Gráficos Básicos con Streamlit\n",
    "\n",
    "Streamlit permite crear gráficos simples de forma rápida y sin librerías externas."
   ]
  },
  {
   "cell_type": "code",
   "execution_count": null,
   "id": "f5cfe168",
   "metadata": {},
   "outputs": [],
   "source": [
    "# Gráfico de área para visualizar tendencias de temperatura\n",
    "st.write(\"Gráfico de área\")\n",
    "st.area_chart(data[\"sensor_temperatura\"], use_container_width=True)"
   ]
  },
  {
   "cell_type": "code",
   "execution_count": null,
   "id": "fa4aea5f",
   "metadata": {},
   "outputs": [],
   "source": [
    "# Gráfico de barras para contar el estado de los actuadores\n",
    "st.write(\"Gráfico de barras\")\n",
    "st.bar_chart(data[\"actuador_luces\"].value_counts(), use_container_width=True)"
   ]
  },
  {
   "cell_type": "code",
   "execution_count": null,
   "id": "24f3e016",
   "metadata": {},
   "outputs": [],
   "source": [
    "# Gráfico de líneas para visualizar la evolución de la humedad\n",
    "st.write(\"Gráfico de líneas\")\n",
    "st.line_chart(data[\"sensor_humedad\"], use_container_width=True)"
   ]
  },
  {
   "cell_type": "markdown",
   "id": "c4e67684",
   "metadata": {},
   "source": [
    "### 3.3. Gráficos Interactivos con Plotly\n",
    "\n",
    "[Plotly](https://plotly.com/python/) es una biblioteca de visualización de datos interactiva y de código abierto, diseñada para crear gráficos dinámicos y de alta calidad en aplicaciones web o de escritorio. Es compatible con varios lenguajes de programación como Python, R y JavaScript."
   ]
  },
  {
   "cell_type": "code",
   "execution_count": null,
   "id": "79781394",
   "metadata": {},
   "outputs": [],
   "source": [
    "# Gráfico de dispersión (Scatter Plot), relación entre temperatura y humedad\n",
    "import plotly.graph_objects as go\n",
    "\n",
    "fig = go.Figure()\n",
    "fig.add_trace(go.Scatter(\n",
    "    x=data[\"sensor_temperatura\"],\n",
    "    y=data[\"sensor_humedad\"],\n",
    "    mode=\"markers\",\n",
    "    marker=dict(color=data[\"sensor_luz\"], colorscale=\"Viridis\", size=5),\n",
    "    name=\"Sensores\"\n",
    "))\n",
    "\n",
    "fig.update_layout(title=\"Relación entre Temperatura y Humedad\",\n",
    "                  xaxis_title=\"Temperatura (C)\",\n",
    "                  yaxis_title=\"Humedad (%)\")\n",
    "st.plotly_chart(fig)"
   ]
  },
  {
   "cell_type": "code",
   "execution_count": null,
   "id": "8d3fe401",
   "metadata": {},
   "outputs": [],
   "source": [
    "# Gráfico de indicador (Gauge), visualizar promedio de temperatura\n",
    "avg_temp = data[\"sensor_temperatura\"].mean()\n",
    "\n",
    "fig = go.Figure(go.Indicator(\n",
    "    mode=\"gauge+number\",\n",
    "    value=avg_temp,\n",
    "    title={\"text\": \"Temperatura Promedio\"},\n",
    "    gauge={\"axis\": {\"range\": [0, 40]}, \"bar\": {\"color\": \"blue\"}}\n",
    "))\n",
    "st.plotly_chart(fig)"
   ]
  },
  {
   "cell_type": "markdown",
   "id": "e43ab666",
   "metadata": {},
   "source": [
    "### 3.4. Ejercitación\n",
    "\n",
    "1. Cargar un dataset y hacer una exploración mediante Pandas.\n",
    "2. Mostrar el resultado de la exploración.\n",
    "3. Graficar valores resultantes."
   ]
  },
  {
   "cell_type": "markdown",
   "id": "bfae04ec",
   "metadata": {},
   "source": [
    "---\n",
    "\n",
    "## Bloque 4: Optimización y Publicación\n",
    "\n",
    "### 4.1. Optimización de rendimiento\n",
    "\n",
    "- Organizar el código para cargar datos al inicio de la aplicación, preferiblemente utilizando funciones reutilizables.\n",
    "- Mediante el decorador `@st.cache_data` se puede evitar recargar datos innecesariamente, lo que mejora la velocidad de la aplicación.\n",
    "- Mejorar la legibilidad organizando el código en módulos y funciones bien definidas.\n",
    "- Optimizar imágenes y recursos estáticos para reducir el tiempo de carga.\n",
    "- Utilizar bibliotecas eficientes para el manejo de datos, como `pandas` o `numpy`."
   ]
  },
  {
   "cell_type": "code",
   "execution_count": null,
   "id": "f5d1efb1",
   "metadata": {},
   "outputs": [],
   "source": [
    "@st.cache_data\n",
    "def cargar_datos(ruta):\n",
    "    return pd.read_csv(ruta)\n",
    "\n",
    "datos = cargar_datos(\"datos.csv\")"
   ]
  },
  {
   "cell_type": "markdown",
   "id": "32db34b5",
   "metadata": {},
   "source": [
    "### 4.2. Desplegar la aplicación\n",
    "\n",
    "Desplegar una aplicación significa ponerla en un entorno accesible para los usuarios finales. Es el proceso de mover una aplicación desde el entorno de desarrollo (donde se crea y prueba) al entorno de producción (donde los usuarios pueden usarla). De manera genérica, implica:\n",
    "\n",
    "1. Preparar la aplicación: asegurarse de que el código esté completo, probado y listo para funcionar.\n",
    "2. Configurar el entorno: instalar las herramientas, bibliotecas y servicios necesarios para que la aplicación funcione, como servidores, bases de datos o servicios en la nube.\n",
    "3. Subir la aplicación: transferir el código y los recursos asociados (como imágenes o datos) al servidor o plataforma donde será alojada.\n",
    "4. Hacerla accesible: establecer una URL o punto de acceso para que los usuarios puedan interactuar con ella desde sus dispositivos.\n",
    "\n",
    "El despliegue puede hacerse de muchas formas, dependiendo de la tecnología y el alcance del proyecto, por ejemplo:\n",
    "\n",
    "- En la nube: usando servicios como Streamlit Cloud, AWS, o Google Cloud.\n",
    "- En servidores propios: configurando máquinas físicas o virtuales para alojar la aplicación.\n",
    "- En contenedores: utilizando herramientas como Docker para encapsular la aplicación y hacerla portable.\n",
    "\n",
    "### 4.3. Publicación en Streamlit Cloud\n",
    "\n",
    "*Streamlit Cloud* es un servicio en la nube diseñado específicamente para desplegar aplicaciones desarrolladas con Streamlit de forma rápida y sencilla. Permite a los desarrolladores compartir sus aplicaciones sin necesidad de gestionar servidores o configuraciones complejas.\n",
    "\n",
    "**Pasos para publicar tu aplicación**\n",
    "\n",
    "1. Crear una cuenta en [Streamlit Community Cloud](https://streamlit.io/cloud) para acceder a sus servicios.\n",
    "2. Subir el proyecto a un repositorio en [GitHub](https://github.com/), incluyendo un archivo `requirements.txt` con todas las dependencias necesarias para ejecutar la aplicación.\n",
    "3. Verificar que el repositorio sea público o asegúrarse de tener los permisos necesarios si es privado.\n",
    "4. En el dashboard de Streamlit Cloud, seleccionar la opción para crear una nueva aplicación.\n",
    "5. Proporcionar la URL del repositorio y especificar el archivo principal de la aplicación (por ejemplo, `app.py`).\n",
    "6. Una vez configurada, Streamlit Cloud desplegará la aplicación y generará una URL para compartir.\n",
    "\n",
    "**Ventajas de utilizar Streamlit Cloud**\n",
    "\n",
    "El servicio Streamlit Cloud posee integración directa con GitHub, lo que permite una implementación rápida sin configuraciones avanzadas. Además, las actualización se realizan de forma automática al modificar el código en el repositorio.\n",
    "\n",
    "### 4.4. Otros métodos de despliegue\n",
    "\n",
    "**Docker**\n",
    "\n",
    "[Docker](https://www.docker.com/) permite empaquetar una aplicación junto con todas sus dependencias en contenedores portátiles, asegurando que se ejecuten de manera consistente en cualquier entorno, desde el desarrollo local hasta los servidores de producción. Esto ofrece un control total sobre el entorno de ejecución y facilita la integración continua. \n",
    "\n",
    "**Heroku**\n",
    "\n",
    "[Heroku](https://www.heroku.com/) es una plataforma como servicio (PaaS) que simplifica el despliegue en la nube al abstraer la infraestructura subyacente. Con Heroku, los desarrolladores pueden centrarse en el código de la aplicación, mientras la plataforma gestiona aspectos como la escalabilidad, el monitoreo y la configuración. Ambas herramientas son complementarias: Docker es ideal para un control granular y portabilidad, mientras que Heroku destaca por su facilidad de uso y rapidez para lanzar aplicaciones.\n",
    "\n",
    "### 4.5. Ejercitación\n",
    "\n",
    "1. Realizar el despliegue en la nube, mediante Streamlit Cloud, de una pequeña app. Para esto, primero hay que preparar un proyecto básico."
   ]
  },
  {
   "cell_type": "code",
   "execution_count": null,
   "id": "70791cde",
   "metadata": {},
   "outputs": [],
   "source": [
    "import streamlit as st\n",
    "\n",
    "st.title(\"Mi Primera App en Streamlit Cloud\")\n",
    "st.write(\"¡Hola, mundo!\")"
   ]
  },
  {
   "cell_type": "markdown",
   "id": "c28c434d",
   "metadata": {},
   "source": [
    "2. Generar un archivo `requirements.txt` con las dependencias del proyecto: `pip freeze > requirements.txt`.\n",
    "3. Crear un repositorio en GitHub y subir los archivos `app.py` y `requirements.txt`.\n",
    "4. Desplegar la aplicación en Streamlit Community Cloud."
   ]
  },
  {
   "cell_type": "markdown",
   "id": "f8353f69",
   "metadata": {},
   "source": [
    "---\n",
    "\n",
    "## Bloque 5: Proyecto Final\n",
    "\n",
    "1. Crear un panel completo basado en el código proporcionado.\n",
    "   - Cargar datos, visualizar métricas en tiempo real y gráficos históricos.\n",
    "   - Implementar control interactivo de variables, como iluminación y temperatura.\n",
    "\n",
    "2. Documentar y refactorizar el código:\n",
    "   - Incluir comentarios, nombres descriptivos y modularización.\n",
    "\n",
    "3. Entregar la aplicación funcional."
   ]
  },
  {
   "cell_type": "markdown",
   "id": "112e7027",
   "metadata": {},
   "source": [
    "---\n",
    "\n",
    "## Resumen Final\n",
    "\n",
    "| **Método**             | **Descripción**                                                                 |\n",
    "| ---------------------- | ------------------------------------------------------------------------------- |\n",
    "| `st.title`             | Muestra un título destacado en la aplicación.                                   |\n",
    "| `st.header`            | Crea un encabezado más pequeño que el título principal.                         |\n",
    "| `st.subheader`         | Genera un subencabezado para organizar contenido jerárquicamente.               |\n",
    "| `st.text`              | Muestra texto simple sin formato.                                               |\n",
    "| `st.write`             | Permite mostrar texto, gráficos o datos procesados dinámicamente.               |\n",
    "| `st.markdown`          | Renderiza texto en formato Markdown para agregar estilos como negrita.          |\n",
    "| `st.text_input`        | Crea un campo de entrada para texto.                                            |\n",
    "| `st.button`            | Muestra un botón interactivo que ejecuta una acción al ser presionado.          |\n",
    "| `st.slider`            | Genera un deslizador para seleccionar valores dentro de un rango.               |\n",
    "| `st.selectbox`         | Muestra un menú desplegable con opciones seleccionables.                        |\n",
    "| `st.checkbox`          | Crea una casilla de verificación para seleccionar o deseleccionar opciones.     |\n",
    "| `st.radio`             | Ofrece un grupo de botones para elegir una única opción.                        |\n",
    "| `st.segmented_control` | Proporciona un control segmentado para filtrar opciones (disponible en themes). |\n",
    "| `st.set_page_config`   | Configura propiedades de la página, como el título, ícono y diseño.             |\n",
    "| `st.area_chart`        | Genera un gráfico de área para visualizar datos de series temporales.           |\n",
    "| `st.bar_chart`         | Crea un gráfico de barras para comparar valores entre categorías.               |\n",
    "| `st.line_chart`        | Produce un gráfico de líneas para analizar tendencias en datos.                 |\n",
    "| `st.plotly_chart`      | Renderiza gráficos interactivos creados con Plotly.                             |\n",
    "| `st.tabs`              | Permite organizar contenido en pestañas interactivas.                          |\n",
    "| `st.container`         | Define un contenedor para agrupar elementos visuales.                           |\n",
    "| `st.expander`          | Muestra un elemento expandible para ocultar o revelar contenido.                |\n",
    "| `st.sidebar`           | Añade una barra lateral para organizar controles y contenido adicional.         |\n",
    "| `st.file_uploader`     | Habilita la carga de archivos para procesarlos en la aplicación.                |\n",
    "| `st.progress`          | Muestra una barra de progreso para indicar el estado de un proceso.            |"
   ]
  }
 ],
 "metadata": {
  "kernelspec": {
   "display_name": "Python 3",
   "language": "python",
   "name": "python3"
  },
  "language_info": {
   "codemirror_mode": {
    "name": "ipython",
    "version": 3
   },
   "file_extension": ".py",
   "mimetype": "text/x-python",
   "name": "python",
   "nbconvert_exporter": "python",
   "pygments_lexer": "ipython3",
   "version": "3.12.3"
  }
 },
 "nbformat": 4,
 "nbformat_minor": 5
}
