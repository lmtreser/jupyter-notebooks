{
 "cells": [
  {
   "cell_type": "markdown",
   "metadata": {},
   "source": [
    "# Introducción a MicroPython\n",
    "\n",
    "---\n",
    "\n",
    "*Esta Notebook para funcionar necesita el Kernel [Jupyter MicroPython Kernel](https://pypi.org/project/jupyter_micropython_kernel/), instalable vía `pip install jupyter_micropython_kernel`. Los comandos soportados son:*\n",
    "\n",
    "- *`%serialconnect` para conectarse a la placa*\n",
    "- *`%esptool` para flashear el dispositivo*\n",
    "- *`%lsmagic` para listar los comandos*\n",
    "\n",
    "*La Notebook fue confeccionada mediante material original del Laboratorio de Instrumentación Virtual y Robótica Aplicada (LIVRA) de la Facultad de Ingeniería de la Universidad Nacional de Mar del Plata, y contenido propio.*\n",
    "\n",
    "---\n",
    "\n",
    "## 0. Introducción\n",
    "\n",
    "[MicroPython](https://micropython.org/) es una implementación del lenguaje de programación Python 3, escrita en C, optimizada para poder ejecutarse en un microcontrolador. MicroPython lo creó originalmente el programador y físico australiano Damien George, después de una exitosa campaña de Kickstarter que apoyó el proyecto en 2013. Aunque durante la campaña original de Kickstarter se lanzó MicroPython en conjunción con la placa de microcontrolador PyBoard, en la actualidad MicroPython soporta un amplio número de arquitecturas basadas en ARM.\n",
    "\n",
    "MicroPython es un compilador completo del lenguaje Python a bytecode y un motor e intérprete en tiempo de ejecución del bytecode, que funciona en el hardware del microcontrolador. Al usuario se le presenta una línea de órdenes interactiva (el REPL) que soporta la ejecución inmediata de órdenes. Se incluye una selección de bibliotecas fundamentales de Python: MicroPython incluye módulos que permiten al programador el acceso al hardware en bajo nivel.\n",
    "\n",
    "La documentación oficial se encuentra en [https://docs.micropython.org/en/latest/index.html](https://docs.micropython.org/en/latest/index.html).\n",
    "\n",
    "## 1. La placa ESP32\n",
    "\n",
    "Trabajaremos con la placa ESP32, la referencia rápida oficial se encuentra en [https://docs.micropython.org/en/latest/esp32/quickref.html](https://docs.micropython.org/en/latest/esp32/quickref.html), y el pinout es el siguiente:\n",
    "\n",
    "![](ESP32%20Pinout.jpg)\n",
    "\n",
    "No todos los GPIO son accesibles en todas las placas de desarrollo, pero cada GPIO específico funciona de la misma manera independientemente de la placa de desarrollo que estés usando. Si recién estás comenzando con el ESP32, te recomendamos leer la guía: [ESP32 Pinout Reference: Which GPIO pins should you use?](https://randomnerdtutorials.com/esp32-pinout-reference-gpios/)\n",
    "\n",
    "| GPIO | Input      | Output | Notes                                                                      |\n",
    "|------|------------|--------|----------------------------------------------------------------------------|\n",
    "| 0    | pulled up  | OK     | outputs PWM signal at boot, must be LOW to enter flashing mode             |\n",
    "| 1    | TX pin     | OK     | debug output at boot                                                       |\n",
    "| 2    | OK         | OK     | connected to on-board LED, must be left floating or LOW to enter flashing mode |\n",
    "| 3    | OK         | RX pin | HIGH at boot                                                               |\n",
    "| 4    | OK         | OK     |                                                                            |\n",
    "| 5    | OK         | OK     | outputs PWM signal at boot, strapping pin                                  |\n",
    "| 6    | x          | x      | connected to the integrated SPI flash                                      |\n",
    "| 7    | x          | x      | connected to the integrated SPI flash                                      |\n",
    "| 8    | x          | x      | connected to the integrated SPI flash                                      |\n",
    "| 9    | x          | x      | connected to the integrated SPI flash                                      |\n",
    "| 10   | x          | x      | connected to the integrated SPI flash                                      |\n",
    "| 11   | x          | x      | connected to the integrated SPI flash                                      |\n",
    "| 12   | OK         | OK     | boot fails if pulled high, strapping pin                                   |\n",
    "| 13   | OK         | OK     |                                                                            |\n",
    "| 14   | OK         | OK     | outputs PWM signal at boot                                                 |\n",
    "| 15   | OK         | OK     | outputs PWM signal at boot, strapping pin                                  |\n",
    "| 16   | OK         | OK     |                                                                            |\n",
    "| 17   | OK         | OK     |                                                                            |\n",
    "| 18   | OK         | OK     |                                                                            |\n",
    "| 19   | OK         | OK     |                                                                            |\n",
    "| 21   | OK         | OK     |                                                                            |\n",
    "| 22   | OK         | OK     |                                                                            |\n",
    "| 23   | OK         | OK     |                                                                            |\n",
    "| 25   | OK         | OK     |                                                                            |\n",
    "| 26   | OK         | OK     |                                                                            |\n",
    "| 27   | OK         | OK     |                                                                            |\n",
    "| 32   | OK         | OK     |                                                                            |\n",
    "| 33   | OK         | OK     |                                                                            |\n",
    "| 34   | OK         |        | input only                                                                 |\n",
    "| 35   | OK         |        | input only                                                                 |\n",
    "| 36   | OK         |        | input only                                                                 |\n",
    "| 39   | OK         |        | input only                                                                 |\n",
    "\n",
    "Para conectar la placa a esta Notebook, hay que correr el siguiente comando:"
   ]
  },
  {
   "cell_type": "code",
   "execution_count": null,
   "metadata": {
    "vscode": {
     "languageId": "python"
    }
   },
   "outputs": [],
   "source": [
    "# Conectarse a la placa\n",
    "%serialconnect"
   ]
  },
  {
   "cell_type": "markdown",
   "metadata": {},
   "source": [
    "### El archivo boot\n",
    "\n",
    "El archivo `boot.py` es un script especial que se ejecuta automáticamente al iniciar el microcontrolador. Su función principal es realizar configuraciones iniciales del sistema antes de que se ejecute un archivo principal (`main.py`).\n",
    "\n",
    "Es similar al concepto de un archivo de arranque en un sistema operativo, y sus posibles funciones son:\n",
    "\n",
    "1. **Configuración del sistema.** Establecer la conexión a una red WiFi, configurar pines o dispositivos periféricos, configurar la frecuencia de la CPU.\n",
    "2. **Opciones de depuración.** Habilitar o deshabilitar el acceso al REPL (Read-Eval-Print Loop). Configurar un servidor Telnet o FTP.\n",
    "3. **Inicialización de periféricos.** Configurar UART, I2C, SPI u otros periféricos.\n",
    "\n",
    "Desde el archivo `boot.py` podemos llamar al script que ejecutará nuestro programa principal. Por ejemplo:"
   ]
  },
  {
   "cell_type": "code",
   "execution_count": null,
   "metadata": {
    "vscode": {
     "languageId": "python"
    }
   },
   "outputs": [],
   "source": [
    "# boot.py\n",
    "print(\"Booting...\")\n",
    "\n",
    "# Llama al archivo main.py\n",
    "import main"
   ]
  },
  {
   "cell_type": "markdown",
   "metadata": {},
   "source": [
    "\n",
    "### Sensor de temperatura del CPU\n",
    "\n",
    "Es posible medir la temperatura del ESP32 mediante un sensor integrado. Hay que tener en cuenta que el sensor normalmente indicará valores más altos que la temperatura ambiente debido a que el SoC se calienta mientras está en funcionamiento."
   ]
  },
  {
   "cell_type": "code",
   "execution_count": null,
   "metadata": {
    "vscode": {
     "languageId": "python"
    }
   },
   "outputs": [],
   "source": [
    "import esp32\n",
    "import time\n",
    "\n",
    "while True:\n",
    "    temp_fahrenheit = esp32.raw_temperature()\n",
    "    temp_celsius = (temp_fahrenheit - 32) / 1.8\n",
    "    print(f\"Temperatura interna: {temp_celsius:.2f} °C\")\n",
    "    time.sleep(1)"
   ]
  },
  {
   "cell_type": "markdown",
   "metadata": {},
   "source": [
    "## 2. Entradas/Salidas\n",
    "\n",
    "Para acceder a los pines de entrada/salida de la ESP32, hay que importar del módulo `machine` la definición correspondiente. Más información en [machine — functions related to the hardware](https://docs.micropython.org/en/latest/library/machine.html)."
   ]
  },
  {
   "cell_type": "code",
   "execution_count": null,
   "metadata": {
    "vscode": {
     "languageId": "python"
    }
   },
   "outputs": [],
   "source": [
    "from machine import Pin\n",
    "\n",
    "# Crear pines de entrada\n",
    "pin_5 = Pin(5, Pin.IN)              # Pin en modo entrada\n",
    "pin_4 = Pin(4, Pin.IN, Pin.PULL_UP) # Habilita el resistor pull-up interno\n",
    "\n",
    "# Crear pines de salida\n",
    "pin_2 = Pin(2, Pin.OUT)\n",
    "pin_0 = Pin(0, Pin.OUT, value=1)    # Coloca el pin en alto al crearlo\n",
    "\n",
    "pin_2.value(0)"
   ]
  },
  {
   "cell_type": "markdown",
   "metadata": {},
   "source": [
    "Al crear el objeto `pin`, se deben pasar como parámetros el número de pin y su modo (entrada o salida). En caso de que se ingrese solo el número de pin, se asume que es una entrada (que también puede explicitarse con `Pin.IN`).\n",
    "\n",
    "Para acceder o modificar su valor, se puede usar el método `value()` de la siguiente manera:"
   ]
  },
  {
   "cell_type": "code",
   "execution_count": null,
   "metadata": {
    "vscode": {
     "languageId": "python"
    }
   },
   "outputs": [],
   "source": [
    "pin_status = pin_0.value() # Devuelve el valor del pin\n",
    "print(\"El pin se encuentra en el estado:\", pin_status)\n"
   ]
  },
  {
   "cell_type": "code",
   "execution_count": null,
   "metadata": {
    "vscode": {
     "languageId": "python"
    }
   },
   "outputs": [],
   "source": [
    "# Coloca en alto el pin 2\n",
    "pin_2.value(1)"
   ]
  },
  {
   "cell_type": "code",
   "execution_count": null,
   "metadata": {
    "vscode": {
     "languageId": "python"
    }
   },
   "outputs": [],
   "source": [
    "# Coloca en bajo el pin 2\n",
    "pin_2.off()"
   ]
  },
  {
   "cell_type": "code",
   "execution_count": null,
   "metadata": {
    "vscode": {
     "languageId": "python"
    }
   },
   "outputs": [],
   "source": [
    "# Coloca en alto el pin 2\n",
    "pin_2.on()"
   ]
  },
  {
   "cell_type": "markdown",
   "metadata": {},
   "source": [
    "También podemos configurar una salida como PWM (modulación de ancho de pulso). Para esto usamos la función PWM definida en el módulo `machine` y pasamos como argumento uno de los pines compatibles."
   ]
  },
  {
   "cell_type": "code",
   "execution_count": null,
   "metadata": {
    "vscode": {
     "languageId": "python"
    }
   },
   "outputs": [],
   "source": [
    "from machine import PWM, Pin\n",
    "\n",
    "pwm = PWM(Pin(2))\n",
    "pwm.freq(10000) # Configura la frecuencia a 10kHz, acepta valores desde 1Hz a 40MHz\n",
    "pwm.duty(512)   # Configura el duty cycle al 50% (0 - 1023)\n",
    "\n",
    "# También podemos configurarlo todo en una sola línea\n",
    "# pwm = PWM(Pin(2, freq=10000, duty=512))\n",
    "\n",
    "# Podemos ver la configuración actual imprimiendo el objeto pwm\n",
    "print(pwm)"
   ]
  },
  {
   "cell_type": "code",
   "execution_count": null,
   "metadata": {
    "vscode": {
     "languageId": "python"
    }
   },
   "outputs": [],
   "source": [
    "# Obtenemos el duty cycle actual\n",
    "duty = pwm.duty()\n",
    "print(\"El duty cycle es:\", duty)"
   ]
  },
  {
   "cell_type": "code",
   "execution_count": null,
   "metadata": {
    "vscode": {
     "languageId": "python"
    }
   },
   "outputs": [],
   "source": [
    "# Obtenemos el duty cycle en nanosegundos\n",
    "duty_ns = pwm.duty_ns()\n",
    "print(\"El duty cycle en nanosegundos es:\", duty_ns)"
   ]
  },
  {
   "cell_type": "code",
   "execution_count": null,
   "metadata": {
    "vscode": {
     "languageId": "python"
    }
   },
   "outputs": [],
   "source": [
    "# Detenemos la salida\n",
    "pwm.deinit()"
   ]
  },
  {
   "cell_type": "markdown",
   "metadata": {},
   "source": [
    "Hay diez pines Touch (capacitivos) que se pueden utilizar en el ESP32: `0`, `2`, `4`, `12`, `13`, `14`, `15`, `27`, `32` y `33`. La función `TouchPad.read` devuelve un valor relativo a la variación capacitiva: números pequeños (del orden de las decenas) son comunes cuando se toca un pin, y números más grandes (por encima de mil) cuando no hay contacto."
   ]
  },
  {
   "cell_type": "code",
   "execution_count": null,
   "metadata": {
    "vscode": {
     "languageId": "python"
    }
   },
   "outputs": [],
   "source": [
    "from machine import TouchPad, Pin\n",
    "\n",
    "touch_pin = TouchPad(Pin(14))\n",
    "event = touch_pin.read() # Returns a smaller number when touched\n",
    "print(\"Valor obtenido:\", event)"
   ]
  },
  {
   "cell_type": "markdown",
   "metadata": {},
   "source": [
    "## 3. Control de tiempo\n",
    "\n",
    "Podemos usar el módulo `time` que nos permite contar tiempos para poder realizar pausas o medir tiempo entre operaciones:"
   ]
  },
  {
   "cell_type": "code",
   "execution_count": null,
   "metadata": {
    "vscode": {
     "languageId": "python"
    }
   },
   "outputs": [],
   "source": [
    "import time\n",
    "\n",
    "time.sleep(1)               # espera 1 segundo\n",
    "time.sleep_ms(1000)         # ídem a anterior pero en milisegundos\n",
    "time.sleep_us(1000000)      # ídem a anterior pero en microsegundos\n",
    "\n",
    "inicio = time.ticks_ms()    # almacena la cantidad de ms\n",
    "                            # desde el inicio del dispositivo\n",
    "\n",
    "# se ejecutan varias operaciones que toman tiempo\n",
    "time.sleep_ms(1000)\n",
    "\n",
    "fin = time.ticks_ms()\n",
    "\n",
    "# Se muestra la diferencia de tiempos en la misma unidad (ms)\n",
    "print(time.ticks_diff(fin, inicio))"
   ]
  },
  {
   "cell_type": "markdown",
   "metadata": {},
   "source": [
    "El código \"Blink\" de MicroPython es:"
   ]
  },
  {
   "cell_type": "code",
   "execution_count": null,
   "metadata": {
    "vscode": {
     "languageId": "python"
    }
   },
   "outputs": [],
   "source": [
    "from machine import Pin\n",
    "import time\n",
    "\n",
    "led_builtin = Pin(2, Pin.OUT)\n",
    "\n",
    "while True:\n",
    "    print(\"Ejecutando...\");\n",
    "    led_builtin.value(1)\n",
    "    time.sleep(1)\n",
    "    led_builtin.value(0)\n",
    "    time.sleep(1)"
   ]
  },
  {
   "cell_type": "markdown",
   "metadata": {},
   "source": [
    "También se pueden programar tareas repetitivas o después de pasado determinado tiempo usando los Timers internos de la ESP32. Se pueden acceder a cada Timer mediante su ID (del 0 a 3 inclusive): `tim = Timer(ID)`"
   ]
  },
  {
   "cell_type": "code",
   "execution_count": null,
   "metadata": {
    "vscode": {
     "languageId": "python"
    }
   },
   "outputs": [],
   "source": [
    "from machine import Timer\n",
    "\n",
    "def tarea_repetitiva(timer):\n",
    "    print(\"Tarea invocada por el timer\", timer)\n",
    "\n",
    "tim = Timer(0)\n",
    "tim.init(period=1000, mode=Timer.PERIODIC,\n",
    "        callback=tarea_repetitiva)"
   ]
  },
  {
   "cell_type": "code",
   "execution_count": null,
   "metadata": {
    "vscode": {
     "languageId": "python"
    }
   },
   "outputs": [],
   "source": [
    "# Detener el timer\n",
    "tim.deinit()"
   ]
  },
  {
   "cell_type": "markdown",
   "metadata": {},
   "source": [
    "En este ejemplo, se inicializa un timer que ejecuta una función de forma periódica cada 1 segundo (1000 ms). La función debe incorporar un parámetro que corresponde al timer que la ejecutó. Alternativamente, se puede cambiar el modo `mode=Timer.ONE_SHOT` que hace que se ejecute una sola vez pasado el tiempo indicado por `period`."
   ]
  },
  {
   "cell_type": "code",
   "execution_count": null,
   "metadata": {
    "vscode": {
     "languageId": "python"
    }
   },
   "outputs": [],
   "source": [
    "def tarea_oneshot(timer):\n",
    "    print(\"Tarea ONE_SHOT invocada por el timer\", timer)\n",
    "\n",
    "tim = Timer(0)\n",
    "tim.init(period=1000, mode=Timer.ONE_SHOT, callback=tarea_oneshot)"
   ]
  },
  {
   "cell_type": "markdown",
   "metadata": {},
   "source": [
    "## 4. Sensores, actuadores y periféricos\n",
    "\n",
    "### 4.1. Control de servomotor\n",
    "\n",
    "Utilizando el concepto de PWM visto anteriormente, es posible controlar el ángulo de giro de un servomotor según el ciclo de trabajo. Para esto, primero se configura una salida PWM a `50Hz` y los anchos de pulso según el ángulo requerido. A modo de referencia, deberían tomar aproximadamente los siguientes valores:\n",
    "\n",
    "- Para la posición 0°: pulso de 1ms\n",
    "- Para la posición 90°: pulso de 1.5ms\n",
    "- Para la posición 180°: pulso de 2ms\n",
    "\n",
    "Luego se ajusta el ciclo de trabajo acorde a la resolución del PWM (0 a 1023) y, teniendo en cuenta que 0ms se configura con 0 y 20ms es el pulso completo, se obtienen los siguientes valores:\n",
    "\n",
    "- Para la posición 0°: ciclo de trabajo 51\n",
    "- Para la posición 90°: ciclo de trabajo 76\n",
    "- Para la posición 180°: ciclo de trabajo 102"
   ]
  },
  {
   "cell_type": "code",
   "execution_count": null,
   "metadata": {
    "vscode": {
     "languageId": "python"
    }
   },
   "outputs": [],
   "source": [
    "from machine import PWM, Pin\n",
    "from time import sleep_ms\n",
    "\n",
    "pwm = PWM(Pin(14))\n",
    "pwm.freq(50)\n",
    "\n",
    "for i in range(51, 103):\n",
    "    pwm.duty(i)\n",
    "    sleep_ms(10)"
   ]
  },
  {
   "cell_type": "markdown",
   "metadata": {},
   "source": [
    "### 4.2. Conversión analógico-digital\n",
    "\n",
    "El ESP32 contiene puertos de conversión de entrada analógica a digital ubicados en los pines `32` a `39` (bloque 1) y los pines `0`, `2`, `4`, `12` a `15` y `25` a `27` (bloque 2). Sin embargo, el bloque 2 es usado también por WiFi por lo que no se pueden usar en simultáneo.\n",
    "\n",
    "Para configurar un pin, se lo pasamos a la función `ADC` del módulo `machine` de la misma manera que con PWM. Luego podemos leer su valor con el método `read()` o `read_uv()` para obtener la tensión en μV. También es posible ajustar el factor de atenuación para ampliar el rango de conversión:\n",
    "\n",
    "- `ADC.ATTN_0DB`: 100mV - 950mV\n",
    "- `ADC.ATTN_2_5DB`: 100mV - 1250mV\n",
    "- `ADC.ATTN_6DB`: 150mV - 1750mV\n",
    "- `ADC.ATTN_11DB`: 150mV - 2450mV"
   ]
  },
  {
   "cell_type": "code",
   "execution_count": null,
   "metadata": {
    "vscode": {
     "languageId": "python"
    }
   },
   "outputs": [],
   "source": [
    "from machine import ADC\n",
    "\n",
    "# adc = ADC(Pin(35), atten=ADC.ATTN_11DB)\n",
    "adc = ADC(Pin(35))\n",
    "\n",
    "# Devuelve el valor ADC sin procesar según la resolución del bloque\n",
    "# Por ejemplo, 0-4095 para una resolución de 12 bits.\n",
    "lectura = adc.read()\n",
    "\n",
    "# Devuelve el valor analógico sin procesar en el rango 0-65535\n",
    "# lectura = adc.read_u16() \n",
    "# Devuelve el valor analógico en microvoltios\n",
    "# lectura = adc.read_uv()\n",
    "print(lectura)"
   ]
  },
  {
   "cell_type": "markdown",
   "metadata": {},
   "source": [
    "### 4.3. DAC\n",
    "\n",
    "Tambien es posible generar valores analógicos arbitrarios utilizando el conversor digital-analógico integrado al ESP32. Este nos permite convertir valores digitales de 8 bits a tensión de salida. La funcionalidad DAC está disponible en los pines `25` y `26`. En el ESP32S2 está disponible en los pines `17` y `18`."
   ]
  },
  {
   "cell_type": "code",
   "execution_count": null,
   "metadata": {
    "vscode": {
     "languageId": "python"
    }
   },
   "outputs": [],
   "source": [
    "from machine import Pin, DAC\n",
    "\n",
    "dac = DAC(Pin(25))\n",
    "dac.write(127)"
   ]
  },
  {
   "cell_type": "markdown",
   "metadata": {},
   "source": [
    "### 4.4. Sensor de temperatura y humedad DHT11/22\n",
    "\n",
    "El lenguaje MicroPython incorpora una implementación del driver de los dispositivos DHT11 y DHT22."
   ]
  },
  {
   "cell_type": "code",
   "execution_count": null,
   "metadata": {
    "vscode": {
     "languageId": "python"
    }
   },
   "outputs": [],
   "source": [
    "from dht import DHT11\n",
    "from machine import Pin\n",
    "\n",
    "dht = DHT11(Pin(32))\n",
    "dht.measure()\n",
    "\n",
    "print(f\"Temperatura: {dht.temperature()} °C\")\n",
    "print(f\"Humedad: {dht.humidity()} %\")"
   ]
  },
  {
   "cell_type": "markdown",
   "metadata": {},
   "source": [
    "### 4.5. Sensor de temperatura DS18B20\n",
    "\n",
    "Micropython incluye un driver para los populares sensores de temperatura DS18B20."
   ]
  },
  {
   "cell_type": "code",
   "execution_count": null,
   "metadata": {
    "vscode": {
     "languageId": "python"
    }
   },
   "outputs": [],
   "source": [
    "import machine, onewire, ds18x20, time\n",
    "\n",
    "ds_pin = machine.Pin(22)\n",
    "ds_sensor = ds18x20.DS18X20(onewire.OneWire(ds_pin))\n",
    "\n",
    "roms = ds_sensor.scan()\n",
    "print('Found DS devices: ', roms)\n",
    "\n",
    "while True:\n",
    "    ds_sensor.convert_temp()\n",
    "    time.sleep_ms(750)\n",
    "    for rom in roms:\n",
    "        temperature = ds_sensor.read_temp(rom)\n",
    "        print(\"Temperature:\", temperature, \"°C\")\n",
    "        time.sleep(5)"
   ]
  },
  {
   "cell_type": "markdown",
   "metadata": {},
   "source": [
    "### 4.6. NeoPixel\n",
    "\n",
    "También se incluye el driver para LEDs WS2812B, también conocidos como NeoPixel."
   ]
  },
  {
   "cell_type": "code",
   "execution_count": null,
   "metadata": {
    "vscode": {
     "languageId": "python"
    }
   },
   "outputs": [],
   "source": [
    "from neopixel import NeoPixel\n",
    "from machine import Pin\n",
    "\n",
    "# Create un NeoPixel: Pin, # pixels\n",
    "np = NeoPixel(Pin(27), 1)\n",
    "\n",
    "# Orden: G, R, B\n",
    "np[0] = (0, 255, 0)\n",
    "\n",
    "# Se aplican los cambios\n",
    "np.write()"
   ]
  },
  {
   "cell_type": "markdown",
   "metadata": {},
   "source": [
    "### 4.7. Pantalla LCD\n",
    "\n",
    "Ejemplo para controlar una pantalla LCD en modo **paralelo**. El pinout es el siguiente:\n",
    "\n",
    "| LCD Pin | ESP32 Pin (GPIO) | Descripción      |\n",
    "|---------|-------------------|------------------|\n",
    "| VSS     | GND               | Tierra           |\n",
    "| VDD     | 3.3V o 5V         | Alimentación     |\n",
    "| VO      | Potenciómetro o GND | Contraste       |\n",
    "| RS      | GPIO 25           | Registro select  |\n",
    "| RW      | GND               | Escritura        |\n",
    "| E       | GPIO 26           | Enable           |\n",
    "| D4      | GPIO 16           | Datos (bit 4)    |\n",
    "| D5      | GPIO 17           | Datos (bit 5)    |\n",
    "| D6      | GPIO 18           | Datos (bit 6)    |\n",
    "| D7      | GPIO 19           | Datos (bit 7)    |\n",
    "\n",
    "Crear un archivo `lcd.py` para realizar la implementación:"
   ]
  },
  {
   "cell_type": "code",
   "execution_count": null,
   "metadata": {
    "vscode": {
     "languageId": "python"
    }
   },
   "outputs": [],
   "source": [
    "from machine import Pin\n",
    "from time import sleep\n",
    "\n",
    "class LCD:\n",
    "    def __init__(self, rs, enable, d4, d5, d6, d7):\n",
    "        self.rs = Pin(rs, Pin.OUT)\n",
    "        self.enable = Pin(enable, Pin.OUT)\n",
    "        self.data_pins = [\n",
    "            Pin(d4, Pin.OUT),\n",
    "            Pin(d5, Pin.OUT),\n",
    "            Pin(d6, Pin.OUT),\n",
    "            Pin(d7, Pin.OUT)\n",
    "        ]\n",
    "        self.init_lcd()\n",
    "\n",
    "    def pulse_enable(self):\n",
    "        self.enable.value(1)\n",
    "        sleep(0.0001)\n",
    "        self.enable.value(0)\n",
    "        sleep(0.0001)\n",
    "\n",
    "    def send_nibble(self, nibble):\n",
    "        for i in range(4):\n",
    "            self.data_pins[i].value((nibble >> i) & 0x01)\n",
    "        self.pulse_enable()\n",
    "\n",
    "    def send_byte(self, byte, mode):\n",
    "        self.rs.value(mode)\n",
    "        self.send_nibble(byte >> 4)  # High nibble\n",
    "        self.send_nibble(byte & 0x0F)  # Low nibble\n",
    "\n",
    "    def command(self, cmd):\n",
    "        self.send_byte(cmd, 0)\n",
    "\n",
    "    def write_char(self, char):\n",
    "        self.send_byte(ord(char), 1)\n",
    "\n",
    "    def init_lcd(self):\n",
    "        sleep(0.02)\n",
    "        self.send_nibble(0x03)\n",
    "        sleep(0.005)\n",
    "        self.send_nibble(0x03)\n",
    "        sleep(0.0001)\n",
    "        self.send_nibble(0x03)\n",
    "        self.send_nibble(0x02)\n",
    "\n",
    "        self.command(0x28)  # 4-bit mode, 2 lines, 5x8 dots\n",
    "        self.command(0x0C)  # Display on, cursor off\n",
    "        self.command(0x01)  # Clear display\n",
    "        sleep(0.002)\n",
    "\n",
    "    def clear(self):\n",
    "        self.command(0x01)\n",
    "        sleep(0.002)\n",
    "\n",
    "    def putstr(self, string):\n",
    "        for char in string:\n",
    "            self.write_char(char)"
   ]
  },
  {
   "cell_type": "markdown",
   "metadata": {},
   "source": [
    "El funcionamiento es el siguiente:\n",
    "\n",
    "1. `init_lcd` configura el LCD en modo de 4 bits.\n",
    "2. `putstr` envía caracteres al LCD.\n",
    "3. Los comandos como `0x01` (borrar pantalla) y `0x0C` (activar pantalla) controlan el comportamiento del LCD.\n",
    "\n",
    "Ejemplo para testear la pantalla:"
   ]
  },
  {
   "cell_type": "code",
   "execution_count": null,
   "metadata": {
    "vscode": {
     "languageId": "python"
    }
   },
   "outputs": [],
   "source": [
    "from lcd import LCD\n",
    "from time import sleep\n",
    "\n",
    "# Configura los pines del ESP32\n",
    "lcd = LCD(rs=25, enable=26, d4=16, d5=17, d6=18, d7=19)\n",
    "\n",
    "# Mensaje en la pantalla LCD\n",
    "lcd.putstr(\"Hola, Mundo!\")\n",
    "sleep(2)\n",
    "\n",
    "# Borrar y mostrar un nuevo mensaje\n",
    "lcd.clear()\n",
    "lcd.putstr(\"MicroPython!!!\")"
   ]
  },
  {
   "cell_type": "markdown",
   "metadata": {},
   "source": [
    "### 4.8. Reloj de tiempo real (RTC)\n",
    "\n",
    "La placa ESP32 posee un RTC interno, aunque no tiene batería de respaldo para mantener la fecha y hora."
   ]
  },
  {
   "cell_type": "code",
   "execution_count": null,
   "metadata": {
    "vscode": {
     "languageId": "python"
    }
   },
   "outputs": [],
   "source": [
    "from machine import RTC\n",
    "\n",
    "rtc = RTC()\n",
    "# set a specific date and time\n",
    "# (year, month, day, weekday, hours, minutes, seconds, subseconds)\n",
    "rtc.datetime((2020, 1, 1, 0, 0, 0, 0, 0))\n",
    "\n",
    "timestamp = rtc.datetime() # get date and time\n",
    "print(timestamp)"
   ]
  },
  {
   "cell_type": "markdown",
   "metadata": {},
   "source": [
    "Es posible sincronizar la fecha y hora mediante servidores NTP. Por ejemplo:\n",
    "\n",
    "- `pool.ntp.org`\n",
    "- `time.google.com`\n",
    "- `time.windows.com`\n",
    "- `time.nist.gov`"
   ]
  },
  {
   "cell_type": "code",
   "execution_count": null,
   "metadata": {
    "vscode": {
     "languageId": "python"
    }
   },
   "outputs": [],
   "source": [
    "import ntptime\n",
    "\n",
    "ntptime.settime()\n",
    "timestamp = rtc.datetime() # get date and time\n",
    "\n",
    "# Mostrar en formato \"humano\"\n",
    "year, month, day, weekday, hours, minutes, seconds, subseconds = timestamp\n",
    "print(\"Tupla:\", timestamp)\n",
    "print(f\"UTC: {year}-{month}-{day}T{hours}:{minutes}:{seconds}Z\")\n",
    "print(f\"Human: {day}-{month}-{year} {hours}:{minutes}:{seconds}\")"
   ]
  },
  {
   "cell_type": "markdown",
   "metadata": {},
   "source": [
    "También se puede acceder a los servidores NTP mediante el siguiente script:"
   ]
  },
  {
   "cell_type": "code",
   "execution_count": null,
   "metadata": {
    "vscode": {
     "languageId": "python"
    }
   },
   "outputs": [],
   "source": [
    "import socket, struct, time\n",
    "\n",
    "# Configuración de servidor NTP\n",
    "NTP_SERVER = \"pool.ntp.org\"\n",
    "NTP_PORT = 123\n",
    "NTP_DELTA = 2208988800  # Delta de tiempo entre 1900 y 1970 (segundos)\n",
    "NTP_ZONE = 10800  # Zona horaria (UTC-3)\n",
    "\n",
    "# Conectar al servidor NTP\n",
    "addr = socket.getaddrinfo(NTP_SERVER, NTP_PORT)[0][-1]\n",
    "s = socket.socket(socket.AF_INET, socket.SOCK_DGRAM)\n",
    "s.settimeout(5)\n",
    "\n",
    "# Enviar solicitud NTP\n",
    "msg = b'\\x1b' + 47 * b'\\0'\n",
    "s.sendto(msg, addr)\n",
    "\n",
    "# Recibir respuesta\n",
    "msg, _ = s.recvfrom(48)\n",
    "s.close()\n",
    "\n",
    "# Extraer los primeros 32 bits (timestamp)\n",
    "timestamp = struct.unpack(\"!I\", msg[40:44])[0]\n",
    "timestamp -= NTP_DELTA + NTP_ZONE  # Ajuste de zona horaria\n",
    "print(\"UnixTime:\", timestamp)"
   ]
  },
  {
   "cell_type": "markdown",
   "metadata": {},
   "source": [
    "## 5. Almacenamiento\n",
    "\n",
    "### 5.1. Almacenamiento flash\n",
    "\n",
    "La ESP32 no tiene una EEPROM interna física como algunas placas Arduino, pero es posible simular una pequeña memoria EEPROM usando el almacenamiento flash para almacenar datos persistentes. Mediante el módulo `os` es posible escribir y leer archivos en la memoria flash de la ESP32:"
   ]
  },
  {
   "cell_type": "code",
   "execution_count": null,
   "metadata": {
    "vscode": {
     "languageId": "python"
    }
   },
   "outputs": [],
   "source": [
    "# Escribir datos en un archivo\n",
    "with open(\"data.txt\", \"w\") as f:\n",
    "    f.write(\"12345\")  # Datos a almacenar\n",
    "    \n",
    "# Leer datos del archivo\n",
    "with open(\"data.txt\", \"r\") as f:\n",
    "    datos = f.read()\n",
    "    print(\"Datos leídos:\", datos)"
   ]
  },
  {
   "cell_type": "markdown",
   "metadata": {},
   "source": [
    "Mediante el módulo `os` podemos trabajar con el sistema de archivos. Algunos comandos útiles:"
   ]
  },
  {
   "cell_type": "code",
   "execution_count": null,
   "metadata": {
    "vscode": {
     "languageId": "python"
    }
   },
   "outputs": [],
   "source": [
    "import os\n",
    "\n",
    "# Lista el contenido del sistema de archivos\n",
    "os.listdir()\n",
    "\n",
    "# Crea un directorio\n",
    "os.mkdir(\"libraries\")\n",
    "\n",
    "# Renombra un directorio o archivo\n",
    "os.rename(\"libraries\", \"lib\")\n",
    "\n",
    "# Cambia a un directorio\n",
    "os.chdir(\"lib\")\n",
    "\n",
    "# Volver al directorio raíz\n",
    "os.chdir(\"/\")\n",
    "\n",
    "# Borra un directorio\n",
    "os.rmdir(\"lib\")\n",
    "\n",
    "# Indica el directorio actual\n",
    "os.getcwd()"
   ]
  },
  {
   "cell_type": "markdown",
   "metadata": {},
   "source": [
    "### 5.2. EEPROM externa\n",
    "\n",
    "Para trabajar con una EEPROM externa, como la 24LC256, se utiliza el bus I2C para leer y escribir datos."
   ]
  },
  {
   "cell_type": "code",
   "execution_count": null,
   "metadata": {
    "vscode": {
     "languageId": "python"
    }
   },
   "outputs": [],
   "source": [
    "from machine import I2C, Pin\n",
    "\n",
    "# Configurar I2C\n",
    "i2c = I2C(1, scl=Pin(22), sda=Pin(21), freq=400000)\n",
    "direccion_eeprom = 0x50  # Dirección I2C de la EEPROM\n",
    "\n",
    "# Escribir un byte (0x42) en la dirección 0x0000\n",
    "i2c.writeto_mem(direccion_eeprom, 0x0000, b'\\x42')\n",
    "\n",
    "# Leer un byte desde la dirección 0x0000\n",
    "data = i2c.readfrom_mem(direccion_eeprom, 0x0000, 1)\n",
    "print(\"Dato leído de EEPROM:\", data)"
   ]
  },
  {
   "cell_type": "markdown",
   "metadata": {},
   "source": [
    "## 6. Comunicaciones Serial\n",
    "\n",
    "Ejemplos de uso de *UART*, *I2C* y *SPI* para comunicarse con otros dispositivos.\n",
    "\n",
    "### 6.1. UART\n",
    "\n",
    "La comunicación UART es esencial para enviar y recibir datos entre la ESP32 y otros dispositivos seriales. En MicroPython, la comunicación UART se maneja mediante el módulo `machine` y su clase `UART`."
   ]
  },
  {
   "cell_type": "code",
   "execution_count": null,
   "metadata": {
    "vscode": {
     "languageId": "python"
    }
   },
   "outputs": [],
   "source": [
    "from machine import UART, Pin\n",
    "\n",
    "# Configura el UART 1 con un baudrate de 9600, pines TX en 17 y RX en 16\n",
    "uart1 = UART(1, baudrate=9600, tx=Pin(17), rx=Pin(16))\n",
    "\n",
    "# Enviar datos\n",
    "uart1.write('Hola desde ESP32!')\n",
    "\n",
    "# Leer datos recibidos (si hay datos disponibles)\n",
    "if uart1.any():\n",
    "    datos = uart1.read()  # Lee todos los datos disponibles\n",
    "    print('Datos recibidos:', datos)"
   ]
  },
  {
   "cell_type": "markdown",
   "metadata": {},
   "source": [
    "Para probar la comunicación bidireccional (echo), puedes implementar un eco serial. Este programa lee datos y los reenvía al dispositivo de origen:"
   ]
  },
  {
   "cell_type": "code",
   "execution_count": null,
   "metadata": {
    "vscode": {
     "languageId": "python"
    }
   },
   "outputs": [],
   "source": [
    "while True:\n",
    "    if uart1.any():\n",
    "        recibido = uart1.read()\n",
    "        uart1.write(recibido)  # Enviar de vuelta los datos recibidos\n",
    "        print('Echo:', recibido)"
   ]
  },
  {
   "cell_type": "markdown",
   "metadata": {},
   "source": [
    "### 6.2. I2C\n",
    "\n",
    "La comunicación I2C es útil para conectar sensores y otros periféricos. En MicroPython, se configura mediante el módulo `machine` y la clase `I2C`."
   ]
  },
  {
   "cell_type": "code",
   "execution_count": null,
   "metadata": {
    "vscode": {
     "languageId": "python"
    }
   },
   "outputs": [],
   "source": [
    "from machine import I2C, Pin\n",
    "\n",
    "# Configura el I2C en modo maestro con pines de SDA (21) y SCL (22)\n",
    "i2c = I2C(1, scl=Pin(22), sda=Pin(21), freq=400000)\n",
    "\n",
    "# Escanea dispositivos en el bus I2C\n",
    "dispositivos = i2c.scan()\n",
    "print('Dispositivos I2C encontrados:', dispositivos)"
   ]
  },
  {
   "cell_type": "markdown",
   "metadata": {},
   "source": [
    "A continuación, se muestra un ejemplo genérico para leer datos de un sensor I2C en la dirección `0x40`:"
   ]
  },
  {
   "cell_type": "code",
   "execution_count": null,
   "metadata": {
    "vscode": {
     "languageId": "python"
    }
   },
   "outputs": [],
   "source": [
    "# Dirección del sensor\n",
    "direccion_sensor = 0x40\n",
    "\n",
    "# Leer 2 bytes de datos desde el registro 0xE3 del sensor\n",
    "data = i2c.readfrom_mem(direccion_sensor, 0xE3, 2)\n",
    "\n",
    "# Convertir los datos en temperatura\n",
    "# Fórmula genérica, ajustar según el sensor\n",
    "temp = (data[0] << 8 | data[1]) * 0.00268127\n",
    "print('Temperatura:', temp, '°C')"
   ]
  },
  {
   "cell_type": "markdown",
   "metadata": {},
   "source": [
    "### 6.3. SPI\n",
    "\n",
    "La interfaz SPI (Serial Peripheral Interface) permite la comunicación rápida entre la ESP32 y otros dispositivos como pantallas y memorias flash. En MicroPython, el módulo `machine` contiene la clase `SPI` para configurar esta comunicación."
   ]
  },
  {
   "cell_type": "code",
   "execution_count": null,
   "metadata": {
    "vscode": {
     "languageId": "python"
    }
   },
   "outputs": [],
   "source": [
    "from machine import Pin, SPI\n",
    "\n",
    "# Configura SPI con los pines de SCK, MOSI, MISO y CS\n",
    "spi = SPI(1, baudrate=1000000, polarity=0, phase=0, sck=Pin(18), mosi=Pin(23), miso=Pin(19))\n",
    "\n",
    "# Pin de Chip Select (CS)\n",
    "cs = Pin(5, Pin.OUT)\n",
    "\n",
    "# Comunicación con un dispositivo SPI\n",
    "cs.value(0)  # Habilitar el dispositivo\n",
    "spi.write(b'\\x9F')  # Comando de ejemplo para leer el ID del dispositivo\n",
    "id_dispositivo = spi.read(3)  # Leer 3 bytes\n",
    "cs.value(1)  # Deshabilitar el dispositivo\n",
    "\n",
    "print('ID del dispositivo:', id_dispositivo)"
   ]
  },
  {
   "cell_type": "markdown",
   "metadata": {},
   "source": [
    "Lectura y escritura en un dispositivo SPI (ej. memoria flash):"
   ]
  },
  {
   "cell_type": "code",
   "execution_count": null,
   "metadata": {
    "vscode": {
     "languageId": "python"
    }
   },
   "outputs": [],
   "source": [
    "# Comando de escritura de datos\n",
    "cs.value(0)\n",
    "spi.write(b'\\x02')  # Comando de escritura\n",
    "spi.write(b'\\x00\\x00\\x00')  # Dirección de memoria\n",
    "spi.write(b'Hello')  # Datos a escribir\n",
    "cs.value(1)\n",
    "\n",
    "# Comando de lectura de datos\n",
    "cs.value(0)\n",
    "spi.write(b'\\x03')  # Comando de lectura\n",
    "spi.write(b'\\x00\\x00\\x00')  # Dirección de memoria\n",
    "data = spi.read(5)  # Leer 5 bytes\n",
    "cs.value(1)\n",
    "\n",
    "print('Datos leídos:', data)"
   ]
  },
  {
   "cell_type": "markdown",
   "metadata": {},
   "source": [
    "## 7. Bluetooth Low Energy (BLE)\n",
    "\n",
    "Bluetooth Low Energy, BLE (también llamado Bluetooth Smart), es una variante de Bluetooth con ahorro de energía. La aplicación principal de BLE es la transmisión a corta distancia de pequeñas cantidades de datos (ancho de banda bajo). A diferencia de Bluetooth, que siempre está activado, BLE permanece en modo de suspensión constantemente, excepto cuando se inicia una conexión, esto hace que consuma muy poca energía.\n",
    "\n",
    "Para funcionar, se necesitan los siguientes módulos:\n",
    "\n",
    "- `ble_advertising.py`\n",
    "- `ble_simple_peripheral.py`"
   ]
  },
  {
   "cell_type": "code",
   "execution_count": null,
   "metadata": {
    "vscode": {
     "languageId": "python"
    }
   },
   "outputs": [],
   "source": [
    "# This example demonstrates a UART periperhal.\n",
    "\n",
    "import bluetooth\n",
    "import random\n",
    "import struct\n",
    "import time\n",
    "\n",
    "from ble_simple_peripheral import BLESimplePeripheral\n",
    "from ble_advertising import advertising_payload\n",
    "from micropython import const\n",
    "\n",
    "ble = bluetooth.BLE()\n",
    "p = BLESimplePeripheral(ble)\n",
    "\n",
    "# Recepción de datos\n",
    "def on_rx(v):\n",
    "    print(\"RX\", v)\n",
    "\n",
    "p.on_write(on_rx)\n",
    "\n",
    "# Envio de datos\n",
    "i = 0\n",
    "while True:\n",
    "    if p.is_connected():\n",
    "        # Short burst of queued notifications.\n",
    "        for _ in range(3):\n",
    "            data = str(i) + \"_\"\n",
    "            print(\"TX\", data)\n",
    "            p.send(data)\n",
    "            i += 1\n",
    "    time.sleep_ms(1000)"
   ]
  },
  {
   "cell_type": "markdown",
   "metadata": {},
   "source": [
    "**Funcionamiento:**\n",
    "\n",
    "La función `on_rx(v)` es un callback que se ejecuta cuando el periférico BLE recibe datos del cliente conectado, imprime los datos recibidos `(v)`. Con `p.on_write(on_rx)` se asocia la función de recepción de datos al periférico BLE.\n",
    "\n",
    "Luego se utiliza un bucle infinito para mantener la funcionalidad del periférico:\n",
    "\n",
    "- `p.is_connected()` verifica si un cliente BLE está conectado al periférico.\n",
    "- Se envían tres notificaciones consecutivas al cliente mediante `p.send(data)`."
   ]
  },
  {
   "cell_type": "markdown",
   "metadata": {},
   "source": [
    "## 8. WiFi\n",
    "\n",
    "Para conectarnos a una red o crear una red propia en la ESP32, podemos usar el módulo `network`.\n",
    "\n",
    "### 8.1. ESP32 como Access Point"
   ]
  },
  {
   "cell_type": "code",
   "execution_count": null,
   "metadata": {
    "vscode": {
     "languageId": "python"
    }
   },
   "outputs": [],
   "source": [
    "import network\n",
    "\n",
    "ap = network.WLAN(network.AP_IF)    # se configura el modo AP\n",
    "ap.config(essid=\"nombre de red\")\n",
    "ap.config(max_clients=4)            # cantidad máxima de conexiones\n",
    "ap.active(True)"
   ]
  },
  {
   "cell_type": "markdown",
   "metadata": {},
   "source": [
    "### 8.2. Conexión a una red existente\n",
    "\n",
    "Para conectarnos a una red existente, podemos hacerlo interactivamente desde la línea de comandos para comprender cómo es el proceso:"
   ]
  },
  {
   "cell_type": "code",
   "execution_count": null,
   "metadata": {
    "vscode": {
     "languageId": "python"
    }
   },
   "outputs": [],
   "source": [
    "import network"
   ]
  },
  {
   "cell_type": "code",
   "execution_count": null,
   "metadata": {
    "vscode": {
     "languageId": "python"
    }
   },
   "outputs": [],
   "source": [
    "wlan = network.WLAN(network.STA_IF)"
   ]
  },
  {
   "cell_type": "code",
   "execution_count": null,
   "metadata": {
    "vscode": {
     "languageId": "python"
    }
   },
   "outputs": [],
   "source": [
    "wlan.active(True)"
   ]
  },
  {
   "cell_type": "markdown",
   "metadata": {},
   "source": [
    "En primer lugar, se crea el objeto `wlan` con el cual usaremos para conectarnos a una red WiFi. Con el método `active()` activamos o desactivamos la red. Una vez activa, podemos escanear las redes visibles:"
   ]
  },
  {
   "cell_type": "code",
   "execution_count": null,
   "metadata": {
    "vscode": {
     "languageId": "python"
    }
   },
   "outputs": [],
   "source": [
    "wlan.scan()"
   ]
  },
  {
   "cell_type": "markdown",
   "metadata": {},
   "source": [
    "Después de un tiempo, se genera una lista de redes con sus nombres, potencias y otros parámetros. Para ver una simple lista con los nombres, podemos usar un ciclo:"
   ]
  },
  {
   "cell_type": "code",
   "execution_count": null,
   "metadata": {
    "vscode": {
     "languageId": "python"
    }
   },
   "outputs": [],
   "source": [
    "for red in wlan.scan():\n",
    "    print(red[0])"
   ]
  },
  {
   "cell_type": "markdown",
   "metadata": {},
   "source": [
    "Para conectarnos con la red, se puede usar el método `connect`:"
   ]
  },
  {
   "cell_type": "code",
   "execution_count": null,
   "metadata": {
    "vscode": {
     "languageId": "python"
    }
   },
   "outputs": [],
   "source": [
    "wlan.connect(\"ssid\", \"password\")"
   ]
  },
  {
   "cell_type": "markdown",
   "metadata": {},
   "source": [
    "Luego de un tiempo, podemos verificar si se conectó exitosamente:"
   ]
  },
  {
   "cell_type": "code",
   "execution_count": null,
   "metadata": {
    "vscode": {
     "languageId": "python"
    }
   },
   "outputs": [],
   "source": [
    "wlan.isconnected()\n",
    "# Conexion exitosa: True"
   ]
  },
  {
   "cell_type": "code",
   "execution_count": null,
   "metadata": {
    "vscode": {
     "languageId": "python"
    }
   },
   "outputs": [],
   "source": [
    "wlan.ifconfig()[0]\n",
    "# Dirección IP asignada"
   ]
  },
  {
   "cell_type": "markdown",
   "metadata": {},
   "source": [
    "Puede ser conveniente utilizar un archivo para almacenar las credenciales y de cierta forma ocultarlas. Por ejemplo crear un archivo `secrets.py`:"
   ]
  },
  {
   "cell_type": "code",
   "execution_count": null,
   "metadata": {
    "vscode": {
     "languageId": "python"
    }
   },
   "outputs": [],
   "source": [
    "WIFI_SSID = \"ssid\"\n",
    "WIFI_PASSWORD = \"password\""
   ]
  },
  {
   "cell_type": "markdown",
   "metadata": {},
   "source": [
    "Para automatizar este proceso y pueda ser ejecutado en la ESP32 y bloquee la ejecución hasta que logre conectarse, se puede usar el siguiente script:"
   ]
  },
  {
   "cell_type": "code",
   "execution_count": null,
   "metadata": {
    "vscode": {
     "languageId": "python"
    }
   },
   "outputs": [],
   "source": [
    "# import secrets\n",
    "import network\n",
    "from time import sleep_ms\n",
    "\n",
    "wlan = network.WLAN(network.STA_IF)\n",
    "if not wlan.active():\n",
    "    wlan.active(True)\n",
    "\n",
    "if not wlan.isconnected():\n",
    "    wlan.connect(WIFI_SSID, WIFI_PASSWORD)\n",
    "\n",
    "    print(\"Conectando...\")\n",
    "    while not wlan.isconnected():\n",
    "        sleep_ms(1000)\n",
    "\n",
    "config = wlan.ifconfig()\n",
    "print(f\"Conectado con ip {config[0]}\")"
   ]
  },
  {
   "cell_type": "markdown",
   "metadata": {},
   "source": [
    "## 9. MQTT\n",
    "\n",
    "MQTT es un protocolo de mensajería estandarizado que distribuye la información a través de publicación y suscripción (publish/subscribe) a determinado tema (topic) y es eficiente para situaciones que se transporta poca información ya que consume poco ancho de banda.\n",
    "\n",
    "Cada dispositivo se puede comportar como publicador o suscriptor en forma simultánea. La comunicación es manejada por un servidor, también denominado broker. Para dirigir la comunicación, se utilizan topics, los cuales, para este curso concreto, pueden seguir la siguiente convención:\n",
    "\n",
    "- Único dispositivo: `/<parámetro>`\n",
    "- Múltiples dispositivos: `/<dispositivo>/<parámetro>`\n",
    "\n",
    "A modo de ejemplo, estos topics pueden ser:\n",
    "\n",
    "- `/humedad`\n",
    "- `/cocina/temperatura`\n",
    "\n",
    "El cliente MQTT no está disponible de forma nativa para MicroPython, por lo que es necesario instalarlo. Para esto, se utiliza el gestor de paquetes `upip` desde la línea de comandos de un dispositivo ESP32 con MicroPython y, a la vez, conectado a una red WiFi con acceso a internet."
   ]
  },
  {
   "cell_type": "code",
   "execution_count": null,
   "metadata": {
    "vscode": {
     "languageId": "python"
    }
   },
   "outputs": [],
   "source": [
    "import upip"
   ]
  },
  {
   "cell_type": "code",
   "execution_count": null,
   "metadata": {
    "vscode": {
     "languageId": "python"
    }
   },
   "outputs": [],
   "source": [
    "upip.install(\"micropython-umqtt.simple\")"
   ]
  },
  {
   "cell_type": "code",
   "execution_count": null,
   "metadata": {
    "vscode": {
     "languageId": "python"
    }
   },
   "outputs": [],
   "source": [
    "upip.install(\"micropython-umqtt.robust\")"
   ]
  },
  {
   "cell_type": "markdown",
   "metadata": {},
   "source": [
    "El cliente *simple* implementa el protocolo MQTT, mientras que el cliente *robust* construye sobre el cliente simple un mecanismo de reconexión en caso de pérdida de conexión al servidor. En caso de utilizar un archivo para almacenar las credenciales, agregar las siguientes líneas al mismo:"
   ]
  },
  {
   "cell_type": "code",
   "execution_count": null,
   "metadata": {
    "vscode": {
     "languageId": "python"
    }
   },
   "outputs": [],
   "source": [
    "MQTT_BROKER = \"test.mosquitto.org\"\n",
    "MQTT_USERNAME = \"user\"\n",
    "MQTT_PASSWORD = \"password\"\n",
    "MQTT_PORT = 1883\n",
    "MQTT_CLIENT_ID = \"micropython_client\"\n",
    "\n",
    "API_KEY = \"API_Key\"\n",
    "TOPIC = \"micropython/tests\""
   ]
  },
  {
   "cell_type": "markdown",
   "metadata": {},
   "source": [
    "Para crear el cliente se puede ejecutar el siguiente script:"
   ]
  },
  {
   "cell_type": "code",
   "execution_count": null,
   "metadata": {
    "vscode": {
     "languageId": "python"
    }
   },
   "outputs": [],
   "source": [
    "from umqtt.robust import MQTTClient\n",
    "\n",
    "cliente = MQTTClient(MQTT_CLIENT_ID, MQTT_BROKER, keepalive=30)\n",
    "print(\"Conectando con servidor MQTT...\")\n",
    "\n",
    "cliente.connect(clean_session=False)\n",
    "print(\"Conectado\")"
   ]
  },
  {
   "cell_type": "markdown",
   "metadata": {},
   "source": [
    "De esta manera, se establece una conexión al servidor indicando el nombre del dispositivo, y con `keepalive` se especifica en segundos un *heartbeat* para mantener la conexión activa. Es importante tener en cuenta que los nombres de los dispositivos son únicos en la red por lo que es recomendable utilizar nombres distintos para cada conexión. Luego, se establece una conexión con `clean_session=False` para garantizar persistencia en el caso que se desconecte y sea necesario reconectar, como las suscripciones activas y mensajes pendientes (si el cliente usa QoS 1 o QoS 2).\n",
    "\n",
    "Es posible utilizar la MAC del dispositivo como `nombre`:"
   ]
  },
  {
   "cell_type": "code",
   "execution_count": null,
   "metadata": {
    "vscode": {
     "languageId": "python"
    }
   },
   "outputs": [],
   "source": [
    "# Obtener la dirección MAC\n",
    "mac = wlan.config('mac')\n",
    "mac_address = ':'.join('{:02x}'.format(b) for b in mac)\n",
    "print(\"Dirección MAC:\", mac_address)"
   ]
  },
  {
   "cell_type": "markdown",
   "metadata": {},
   "source": [
    "### 9.1. Suscripciones\n",
    "\n",
    "Una vez conectado el cliente, se puede suscribir a diferentes topic de forma tal que estará constantemente esperando la llegada de nuevos mensajes.\n",
    "\n",
    "Una vez que llegue un mensaje nuevo, se ejecuta una función callback que permita decidir qué hacer según el mensaje.\n",
    "\n",
    "Para suscribirse a un topic se usa el método subscribe y como parámetro un topic. Para conectarse a más topics, se puede repetir la invocación. Por otro lado, para escuchar todo los topics se puede utilizar `#` o `/jerarquía/#` para escuchar topics que pertenezcan a determinada jerarquía.\n",
    "\n",
    "También hay que definir la función `callback`, la cual es una función de Python con dos parámetros: `topic` y `msg` los cuales llegan en formato bytes y pueden ser convertidos a cadena de texto con el método `decode()`.\n",
    "\n",
    "Finalmente, se crea un bucle infinito dentro del cual se realiza la revisión de mensajes nuevos con el método del cliente `check_msg()`.\n",
    "\n",
    "A continuación se muestra un script de cómo incorporar esto al código anterior."
   ]
  },
  {
   "cell_type": "code",
   "execution_count": null,
   "metadata": {
    "vscode": {
     "languageId": "python"
    }
   },
   "outputs": [],
   "source": [
    "from umqtt.robust import MQTTClient\n",
    "from time import sleep_ms\n",
    "\n",
    "def callback(topic, msg):\n",
    "    topic = topic.decode()\n",
    "    msg = msg.decode()\n",
    "\n",
    "    if topic == \"/servidor\":\n",
    "        print(f\"Llegó {msg} de {topic}\")\n",
    "\n",
    "cliente = MQTTClient(\"nombre\", \"servidor\", keepalive=30)\n",
    "print(\"Conectando a servidor MQTT...\")\n",
    "cliente.set_callback(callback)\n",
    "cliente.connect(clean_session=False)\n",
    "print(\"Conectado\")\n",
    "cliente.subscribe(\"#\")\n",
    "\n",
    "while True:\n",
    "    cliente.check_msg()\n",
    "    sleep_ms(500)"
   ]
  },
  {
   "cell_type": "markdown",
   "metadata": {},
   "source": [
    "### 9.2. Publicaciones\n",
    "\n",
    "Para publicar dentro de un topic, no es necesaria ninguna configuración extra. Solo se utiliza el método del cliente `publish` con argumentos `topic` y `mensaje`."
   ]
  },
  {
   "cell_type": "code",
   "execution_count": null,
   "metadata": {
    "vscode": {
     "languageId": "python"
    }
   },
   "outputs": [],
   "source": [
    "cliente.publish(\"topic\", \"mensaje\")"
   ]
  },
  {
   "cell_type": "markdown",
   "metadata": {},
   "source": [
    "## 10. Ejemplo de aplicación: Adafruit IO\n",
    "\n",
    "[Adafruit IO](https://io.adafruit.com/) es una plataforma para acercar a todos el mundo del Internet de las cosas (IoT). Es una forma más sencilla de transmitir, registrar e interactuar con sus datos."
   ]
  },
  {
   "cell_type": "code",
   "execution_count": null,
   "metadata": {
    "vscode": {
     "languageId": "python"
    }
   },
   "outputs": [],
   "source": [
    "import network, urandom\n",
    "from umqtt.robust import MQTTClient\n",
    "from machine import Timer, Pin\n",
    "from time import sleep_ms\n",
    "\n",
    "#--- Credenciales ------------------------------------#\n",
    "wifi_ssid = \"UAA\"\n",
    "wifi_password = \"atlantida\"\n",
    "\n",
    "mqtt_server = \"io.adafruit.com\"\n",
    "mqtt_user = \"lmtreser\"\n",
    "mqtt_password = \"aio_dJdv11oekd3IcZG9LUTSjyjOPHjr\"\n",
    "mqtt_topic_1 = \"lmtreser/feeds/led\"\n",
    "mqtt_topic_2 = \"lmtreser/feeds/temperatura\"\n",
    "\n",
    "#--- Setup ------------------------------------------#\n",
    "pin_2 = Pin(2, Pin.OUT, value=0)\n",
    "\n",
    "#--- Conexión a WiFi --------------------------------#\n",
    "wlan = network.WLAN(network.STA_IF)\n",
    "if not wlan.active():\n",
    "    wlan.active(True)\n",
    "\n",
    "if not wlan.isconnected():\n",
    "    wlan.connect(wifi_ssid, wifi_password)\n",
    "\n",
    "    print(\"Conectando...\")\n",
    "    while not wlan.isconnected():\n",
    "        sleep_ms(1000)\n",
    "\n",
    "config = wlan.ifconfig()\n",
    "print(f\"Conectado con ip {config[0]}\")\n",
    "\n",
    "#--- Conexión a MQTT --------------------------------#\n",
    "def callback(topic, msg):\n",
    "    topic = topic.decode()\n",
    "    msg = msg.decode()\n",
    "    print(f\"Llegó {msg} de {topic}\")\n",
    "\n",
    "    # De acuerdo al mensaje recibido, encender o apagar el pin 2\n",
    "    if topic == mqtt_topic_1 and msg == \"ON\":\n",
    "        pin_2.on()\n",
    "    elif topic == mqtt_topic_1 and msg == \"OFF\":\n",
    "        pin_2.off()\n",
    "\n",
    "# Obtener la dirección MAC para el ID del cliente\n",
    "mac = wlan.config('mac')\n",
    "mac_address = ':'.join('{:02x}'.format(b) for b in mac)\n",
    "print(\"Dirección MAC:\", mac_address)\n",
    "\n",
    "cliente = MQTTClient(mac_address, mqtt_server, user=mqtt_user, \n",
    "                        password=mqtt_password, keepalive=30)\n",
    "print(\"Conectando a\", mqtt_server)\n",
    "cliente.set_callback(callback)\n",
    "cliente.connect(clean_session=False)\n",
    "print(\"Conectado\")\n",
    "cliente.subscribe(mqtt_topic_1)\n",
    "\n",
    "# Publicar en el servidor un valor aleatorio\n",
    "def publisher(timer):\n",
    "    temperature = urandom.randint(0, 50)\n",
    "    print(\"Publicando\", temperature, \"°C\")\n",
    "    cliente.publish(mqtt_topic_2, str(temperature))\n",
    "\n",
    "tim = Timer(0)\n",
    "tim.init(period=10000, mode=Timer.PERIODIC, callback=publisher)\n",
    "\n",
    "#--- Bucle infinito ----------------------------------#\n",
    "while True:\n",
    "    cliente.check_msg()\n",
    "    sleep_ms(500)"
   ]
  },
  {
   "cell_type": "markdown",
   "metadata": {},
   "source": [
    "## 11. Programación asincrónica: ejecutar múltiples tareas\n",
    "\n",
    "*Basado en el tutorial [MicroPython: ESP32/ESP8266 Asynchronous Programming – Run Multiple Tasks](https://randomnerdtutorials.com/micropython-esp32-esp8266-asynchronous-programming/).*\n",
    "\n",
    "La programación asincrónica es una arquitectura no bloqueante, permite iniciar una tarea que puede tener una larga duración y que siga respondiendo a otros eventos mientras se ejecuta esa tarea, en lugar de tener que esperar hasta que esa tarea haya terminado. A diferencia de la programación sincrónica, arquitectura bloqueante, en la que la ejecución de cada operación depende de que se complete la anterior.\n",
    "\n",
    "Esto se logra ejecutando tareas de manera no bloqueante y utilizando funciones callbacks para manejar los resultados. De esta manera, el programa puede continuar ejecutando otras tareas mientras espera los resultados de la tarea asincrónica. Por otro lado, en la programación sincrónica, cada tarea debe esperar a que se complete la tarea anterior antes de comenzar.\n",
    "\n",
    "### El módulo asyncio\n",
    "\n",
    "MicroPython proporciona el módulo `asyncio`, que es un marco ligero para entrada/salida asincrónica inspirado en el módulo `asyncio` de Python. Puedes consultar todos los detalles sobre este módulo de MicroPython en el [siguiente enlace](https://docs.micropython.org/en/latest/library/asyncio.html).\n",
    "\n",
    "- *Bucle de eventos (Event Loop):* es un bucle que verifica continuamente eventos (tareas o corutinas) y los ejecuta.  \n",
    "- *Tareas (Tasks):* unidades individuales de trabajo o corutinas programadas para ejecutarse concurrentemente dentro del bucle de eventos.  \n",
    "- *Funciones asincrónicas:* también conocidas como corutinas, son funciones que pueden pausarse y reanudarse sin bloquear otras operaciones, lo que permite la ejecución concurrente de múltiples tareas.  \n",
    "- *await:* es una palabra clave utilizada dentro de las corutinas para pausar la ejecución de la corutina actual hasta que se complete un evento u operación específica, permitiendo que otras corutinas se ejecuten mientras tanto.  \n",
    "\n",
    "### Event Loop\n",
    "\n",
    "Un bucle de eventos es el núcleo de la programación asincrónica. Es un bucle que verifica continuamente eventos (tareas o corutinas) y los ejecuta. En `asyncio`, puedes crear un bucle de eventos usando `asyncio.get_event_loop()`."
   ]
  },
  {
   "cell_type": "code",
   "execution_count": null,
   "metadata": {
    "vscode": {
     "languageId": "python"
    }
   },
   "outputs": [],
   "source": [
    "# Crea una instancia del bucle de eventos\n",
    "# Dicho bucle se utiliza para gestionar y programar tareas asincrónicas\n",
    "loop = asyncio.get_event_loop()"
   ]
  },
  {
   "cell_type": "markdown",
   "metadata": {},
   "source": [
    "\n",
    "### Creación de tareas (Tasks)  \n",
    "\n",
    "En la programación asincrónica, las tareas representan unidades de trabajo. Se deben crear tareas para ejecutar corutinas de manera concurrente. Las corutinas son funciones definidas con la palabra clave `async`, que pueden pausarse y reanudarse, permitiendo la programación asincrónica."
   ]
  },
  {
   "cell_type": "code",
   "execution_count": null,
   "metadata": {
    "vscode": {
     "languageId": "python"
    }
   },
   "outputs": [],
   "source": [
    "async def blink_led():\n",
    "    # Código para hacer parpadear un LED\n",
    "    print(\"Task #1\")"
   ]
  },
  {
   "cell_type": "markdown",
   "metadata": {},
   "source": [
    "Luego, usar `loop.create_task()` para programar esta corutina como una tarea que será ejecutada por el bucle de eventos."
   ]
  },
  {
   "cell_type": "code",
   "execution_count": null,
   "metadata": {
    "vscode": {
     "languageId": "python"
    }
   },
   "outputs": [],
   "source": [
    "loop.create_task(blink_led())"
   ]
  },
  {
   "cell_type": "markdown",
   "metadata": {},
   "source": [
    "### Ejecución del bucle de eventos\n",
    "\n",
    "Una vez creadas las tareas, iniciar el bucle de eventos para ejecutarlas. El bucle verificará continuamente las tareas programadas y las ejecutará."
   ]
  },
  {
   "cell_type": "code",
   "execution_count": null,
   "metadata": {
    "vscode": {
     "languageId": "python"
    }
   },
   "outputs": [],
   "source": [
    "# Inicia el bucle de eventos\n",
    "loop = asyncio.get_event_loop()"
   ]
  },
  {
   "cell_type": "markdown",
   "metadata": {},
   "source": [
    "Luego, `loop.run_forever()` hace que se ejecute indefinidamente, revisando constantemente las tareas a ejecutar."
   ]
  },
  {
   "cell_type": "code",
   "execution_count": null,
   "metadata": {
    "vscode": {
     "languageId": "python"
    }
   },
   "outputs": [],
   "source": [
    "loop.run_forever()"
   ]
  },
  {
   "cell_type": "markdown",
   "metadata": {},
   "source": [
    "### Funciones asincrónicas – async def  \n",
    "\n",
    "Una función asincrónica se define usando la sintaxis `async def`. Estas funciones, conocidas también como corutinas, pueden pausarse con la palabra clave `await`, permitiendo que otras corutinas se ejecuten mientras tanto. Por ejemplo:"
   ]
  },
  {
   "cell_type": "code",
   "execution_count": null,
   "metadata": {
    "vscode": {
     "languageId": "python"
    }
   },
   "outputs": [],
   "source": [
    "async def blink_led():\n",
    "    while True:\n",
    "        led.toggle()\n",
    "        await asyncio.sleep(1)"
   ]
  },
  {
   "cell_type": "markdown",
   "metadata": {},
   "source": [
    "`blink_led()` es una función asincrónica que cambia el estado de un LED y luego se pausa durante 1 segundo utilizando `await asyncio.sleep(1)`. Durante esta pausa, otras tareas pueden ejecutarse.\n",
    "\n",
    "### Retardo asincrónico – asyncio.sleep()  \n",
    "\n",
    "`asyncio.sleep()` es una corutina proporcionada por el módulo `asyncio` que se utiliza para introducir un retardo en la ejecución de una corutina durante un tiempo especificado sin bloquear el bucle de eventos completo. Así que, para crear una función asincrónica, se debe reemplazar todos los `time.sleep()` con `asyncio.sleep()`.  \n",
    "\n",
    "Cuando `asyncio.sleep()` se llama dentro de una corutina, suspende temporalmente la ejecución de esa corutina, permitiendo que otras corutinas se ejecuten mientras tanto. El bucle de eventos continúa ejecutándose mientras la corutina está pausada, verificando otras tareas y eventos. Después de la duración especificada (en segundos), la corutina pausada reanuda la ejecución desde el punto donde se llamó `asyncio.sleep()`.  \n",
    "\n",
    "`await asyncio.sleep()` es una forma no bloqueante de ceder el control a otras corutinas en el bucle de eventos sin introducir ningún retraso real. Efectivamente, permite que otras corutinas se ejecuten de inmediato.  \n",
    "\n",
    "### await\n",
    "\n",
    "La palabra clave `await` se utiliza dentro de corutinas para indicar un punto donde la corutina puede suspenderse temporalmente hasta que se complete un evento específico. En el siguiente ejemplo, la corutina se pausa durante 1 segundo sin bloquear el bucle de eventos completo:"
   ]
  },
  {
   "cell_type": "code",
   "execution_count": null,
   "metadata": {
    "vscode": {
     "languageId": "python"
    }
   },
   "outputs": [],
   "source": [
    "await asyncio.sleep(1)"
   ]
  },
  {
   "cell_type": "markdown",
   "metadata": {},
   "source": [
    "### Ejemplo de aplicación\n",
    "\n"
   ]
  },
  {
   "cell_type": "code",
   "execution_count": null,
   "metadata": {
    "vscode": {
     "languageId": "python"
    }
   },
   "outputs": [],
   "source": [
    "import asyncio\n",
    "from machine import Pin\n",
    "\n",
    "led_builtin = Pin(2, Pin.OUT, value=0)\n",
    "\n",
    "# Definir una corutina\n",
    "async def blink_led_builtin():\n",
    "    while True:\n",
    "        status_led = led_builtin.value()\n",
    "        led_builtin.value(not status_led)\n",
    "        await asyncio.sleep(0.5) \n",
    "\n",
    "# Definir una corutina\n",
    "async def print_msg():\n",
    "    while True:\n",
    "        print(\"Task #2\")\n",
    "        await asyncio.sleep(1)\n",
    "\n",
    "# Definir la funcion main para ejecutar el event loop\n",
    "async def main():\n",
    "    # Crear las tareas concurrentes\n",
    "    asyncio.create_task(blink_led_builtin())\n",
    "    asyncio.create_task(print_msg())\n",
    "\n",
    "# Crear y ejecutar el event loop\n",
    "loop = asyncio.get_event_loop()\n",
    "loop.create_task(main())  # Crear una tarea para ejecutar la funcion main\n",
    "loop.run_forever()  # Ejecutar el event loop indefinidamente"
   ]
  },
  {
   "cell_type": "markdown",
   "metadata": {},
   "source": [
    "En `asyncio`, las tareas cooperan y ceden el control al event loop cuando ejecutan `await`. Si dos tareas esperan por el mismo intervalo de tiempo, ambas estarán disponibles para reanudar al mismo tiempo después de que expire el período de espera.\n",
    "\n",
    "`asyncio` no garantiza un orden específico para reanudar tareas que están listas simultáneamente. Generalmente, la tarea que se creó primero o que ya estaba esperando tiende a ejecutarse primero, pero esto depende del planificador interno del event loop. El comportamiento debería ser equitativo: ninguna tarea \"bloquea\" a la otra, y se completan, pero no simultáneamente. Esto ocurre porque `asyncio` es **monohilo**.\n",
    "\n",
    "### Compartir recursos\n",
    "\n",
    "Es posible compartir recursos globales entre tareas y protegerlos usando un mecanismo similar a un **mutex**, por ejemplo usando variables simples o flags para coordinar el acceso a recursos compartidos."
   ]
  },
  {
   "cell_type": "code",
   "execution_count": null,
   "metadata": {
    "vscode": {
     "languageId": "python"
    }
   },
   "outputs": [],
   "source": [
    "import asyncio\n",
    "from machine import Pin\n",
    "\n",
    "# Recurso global compartido\n",
    "led_builtin = Pin(2, Pin.OUT, value=0)\n",
    "\n",
    "# Mutex simple mediante una variable booleana\n",
    "lock = False\n",
    "\n",
    "# Función para adquirir el \"lock\"\n",
    "async def acquire_lock():\n",
    "    global lock\n",
    "    while lock:\n",
    "        await asyncio.sleep(0)  # Esperar hasta que el lock esté disponible\n",
    "    lock = True\n",
    "\n",
    "# Función para liberar el \"lock\"\n",
    "def release_lock():\n",
    "    global lock\n",
    "    lock = False\n",
    "\n",
    "# Tarea 1: Controlar el LED\n",
    "async def task_led_control():\n",
    "    global led_builtin\n",
    "    while True:\n",
    "        await acquire_lock()  # Intentar adquirir el lock\n",
    "        print(\"Tarea LED: Controlando LED\")\n",
    "        led_builtin.value(1)\n",
    "        await asyncio.sleep(0.5)\n",
    "        led_builtin.value(0)\n",
    "        await asyncio.sleep(0.5)\n",
    "        release_lock()  # Liberar el lock\n",
    "        await asyncio.sleep(0)  # Ceder el control al event loop\n",
    "\n",
    "# Tarea 2: Otra operación que también usa el recurso\n",
    "async def task_other():\n",
    "    while True:\n",
    "        await acquire_lock()  # Intentar adquirir el lock\n",
    "        print(\"Tarea Other: Usando recurso compartido\")\n",
    "        # Simular una operación que usa el recurso\n",
    "        await asyncio.sleep(1)\n",
    "        release_lock()  # Liberar el lock\n",
    "        await asyncio.sleep(0)  # Ceder el control al event loop\n",
    "\n",
    "# Función main para inicializar las tareas\n",
    "async def main():\n",
    "    asyncio.create_task(task_led_control())\n",
    "    asyncio.create_task(task_other())\n",
    "\n",
    "# Ejecutar el event loop\n",
    "loop = asyncio.get_event_loop()\n",
    "loop.create_task(main())\n",
    "loop.run_forever()"
   ]
  },
  {
   "cell_type": "markdown",
   "metadata": {},
   "source": [
    "`led_builtin` es un recurso compartido entre las tareas, y está protegido por una variable similar a un \"mutex\" llamada`lock`. El \"mutex\" está implementado mediante dos funciones:\n",
    "\n",
    "- `acquire_lock()` es una función que espera hasta que el `lock` esté disponible. Usa `await asyncio.sleep(0)` para evitar bloquear el event loop.\n",
    "- `release_lock()` libera el `lock` para que otras tareas puedan usar el recurso.\n",
    "\n",
    "`task_led_control` y `task_other` se alternan en el uso del recurso gracias al \"mutex\" implementado. Si una tarea intenta adquirir el `lock` mientras está ocupado, esperará hasta que esté disponible. La clave para que todo funcione correctamente es usar `await` en todas las partes críticas del código que interactúan con el recurso compartido, permitiendo la planificación cooperativa de `asyncio`.\n",
    "\n",
    "En `asyncio` para MicroPython, puedes implementar un semáforo sencillo usando un contador global y funciones de espera y liberación. Un semáforo permite que un número limitado de tareas accedan simultáneamente a un recurso compartido, lo cual es útil cuando quieres permitir cierta concurrencia controlada.\n",
    "\n",
    "### Compartir recursos mediante un semáforo\n",
    "\n",
    "Ejemplo práctico donde varias tareas comparten un recurso (un LED) con un semáforo que limita el acceso simultáneo a una tarea a la vez."
   ]
  },
  {
   "cell_type": "code",
   "execution_count": null,
   "metadata": {
    "vscode": {
     "languageId": "python"
    }
   },
   "outputs": [],
   "source": [
    "import asyncio\n",
    "from machine import Pin\n",
    "\n",
    "# Recurso compartido\n",
    "led_builtin = Pin(2, Pin.OUT, value=0)\n",
    "\n",
    "# Semáforo con capacidad 1 (permite acceso a una tarea a la vez)\n",
    "semaphore_count = 1  # Capacidad máxima\n",
    "semaphore_lock = 0  # Contador de tareas activas\n",
    "\n",
    "# Función para adquirir el semáforo\n",
    "async def acquire_semaphore():\n",
    "    global semaphore_lock, semaphore_count\n",
    "    while semaphore_lock >= semaphore_count:\n",
    "        await asyncio.sleep(0)  # Esperar hasta que haya espacio en el semáforo\n",
    "    semaphore_lock += 1  # Reservar un lugar en el semáforo\n",
    "\n",
    "# Función para liberar el semáforo\n",
    "def release_semaphore():\n",
    "    global semaphore_lock\n",
    "    semaphore_lock = max(0, semaphore_lock - 1)  # Liberar un lugar en el semáforo\n",
    "\n",
    "# Tarea 1: Parpadeo del LED\n",
    "async def task_blink_led():\n",
    "    while True:\n",
    "        await acquire_semaphore()  # Intentar adquirir el semáforo\n",
    "        print(\"Tarea LED: Accediendo al recurso compartido\")\n",
    "        led_builtin.value(1)  # Encender LED\n",
    "        await asyncio.sleep(0.5)\n",
    "        led_builtin.value(0)  # Apagar LED\n",
    "        release_semaphore()  # Liberar el semáforo\n",
    "        await asyncio.sleep(0)  # Ceder el control al event loop\n",
    "\n",
    "# Tarea 2: Otra operación que usa el semáforo\n",
    "async def task_print_message():\n",
    "    while True:\n",
    "        await acquire_semaphore()  # Intentar adquirir el semáforo\n",
    "        print(\"Tarea Message: Accediendo al recurso compartido\")\n",
    "        await asyncio.sleep(1)  # Simular una operación\n",
    "        release_semaphore()  # Liberar el semáforo\n",
    "        await asyncio.sleep(0)  # Ceder el control al event loop\n",
    "\n",
    "# Tarea 3: Otra tarea concurrente\n",
    "async def task_dummy():\n",
    "    while True:\n",
    "        await acquire_semaphore()  # Intentar adquirir el semáforo\n",
    "        print(\"Tarea Dummy: Accediendo al recurso compartido\")\n",
    "        await asyncio.sleep(0.2)  # Operación breve\n",
    "        release_semaphore()  # Liberar el semáforo\n",
    "        await asyncio.sleep(0)  # Ceder el control al event loop\n",
    "\n",
    "# Función main para inicializar las tareas\n",
    "async def main():\n",
    "    asyncio.create_task(task_blink_led())\n",
    "    asyncio.create_task(task_print_message())\n",
    "    asyncio.create_task(task_dummy())\n",
    "\n",
    "# Ejecutar el event loop\n",
    "loop = asyncio.get_event_loop()\n",
    "loop.create_task(main())\n",
    "loop.run_forever()"
   ]
  },
  {
   "cell_type": "markdown",
   "metadata": {},
   "source": [
    "Tres tareas concurrentes intentan acceder al semáforo, y solo una puede acceder al recurso compartido a la vez debido a la capacidad de 1. En caso de necesitar que varias tareas accedan simultáneamente al recurso, se deberá cambiar `semaphore_count` a un valor mayor.\n",
    "\n",
    "- `semaphore_count` define la capacidad del semáforo (máximo número de tareas que pueden acceder al recurso simultáneamente).\n",
    "- `semaphore_lock` lleva un conteo de cuántas tareas están actualmente usando el recurso.\n",
    "- `acquire_semaphore()` espera hasta que el número de tareas activas sea menor que la capacidad e incrementa `semaphore_lock` al adquirir el semáforo.\n",
    "- `release_semaphore()` decrementa `semaphore_lock` al liberar el semáforo, utiliza `max(0, semaphore_lock - 1)` para evitar valores negativos.\n",
    "\n",
    "### Queue (cola)\n",
    "\n",
    "Una cola (*queue*) permite que una tarea produzca datos que otra tarea consumirá en el orden en que fueron agregados (FIFO: *First In, First Out*). Esto es útil para evitar condiciones de carrera y manejar flujos de datos asíncronos."
   ]
  },
  {
   "cell_type": "code",
   "execution_count": null,
   "metadata": {
    "vscode": {
     "languageId": "python"
    }
   },
   "outputs": [],
   "source": [
    "import asyncio\n",
    "\n",
    "# Cola simple implementada con una lista\n",
    "queue = []  # Inicializar una cola vacía\n",
    "\n",
    "# Función para agregar un elemento a la cola (productor)\n",
    "async def enqueue(item):\n",
    "    queue.append(item)  # Agregar el elemento al final de la cola\n",
    "    print(f\"Elemento agregado a la cola: {item}\")\n",
    "\n",
    "# Función para extraer un elemento de la cola (consumidor)\n",
    "async def dequeue():\n",
    "    while not queue:\n",
    "        await asyncio.sleep(0)  # Esperar hasta que haya un elemento en la cola\n",
    "    item = queue.pop(0)  # Remover el primer elemento de la cola\n",
    "    print(f\"Elemento removido de la cola: {item}\")\n",
    "    return item\n",
    "\n",
    "# Tarea Productora: Produce elementos y los agrega a la cola\n",
    "async def producer():\n",
    "    counter = 0\n",
    "    while True:\n",
    "        await enqueue(f\"Mensaje {counter}\")\n",
    "        counter += 1\n",
    "        await asyncio.sleep(1)  # Simular tiempo entre producciones\n",
    "\n",
    "# Tarea Consumidora: Consume elementos de la cola\n",
    "async def consumer():\n",
    "    while True:\n",
    "        item = await dequeue()  # Esperar y consumir un elemento\n",
    "        print(f\"Consumidor procesó: {item}\")\n",
    "        await asyncio.sleep(2)  # Simular tiempo de procesamiento\n",
    "\n",
    "# Función main para iniciar tareas\n",
    "async def main():\n",
    "    asyncio.create_task(producer())\n",
    "    asyncio.create_task(consumer())\n",
    "\n",
    "# Ejecutar el event loop\n",
    "loop = asyncio.get_event_loop()\n",
    "loop.create_task(main())\n",
    "loop.run_forever()"
   ]
  },
  {
   "cell_type": "markdown",
   "metadata": {},
   "source": [
    "**Cola (`queue`):**\n",
    "\n",
    "- Usamos una lista para implementar la cola.\n",
    "- `append` se usa para agregar elementos al final.\n",
    "- `pop(0)` se usa para quitar elementos del principio, simulando una cola FIFO.\n",
    "\n",
    "**Productor (`producer`):**\n",
    "\n",
    "- Produce mensajes periódicamente y los coloca en la cola con `append`.\n",
    "\n",
    "**Consumidor (`consumer`):**\n",
    "\n",
    "- Extrae mensajes de la cola con `pop(0)` y los procesa.\n",
    "- Si la cola está vacía, espera hasta que un elemento esté disponible."
   ]
  },
  {
   "cell_type": "markdown",
   "metadata": {},
   "source": [
    "## 12. Compatibilidad con subprocesos múltiples (_thread)\n",
    "\n",
    "Este módulo implementa un subconjunto del módulo CPython. Es altamente experimental y su API aún no está completamente establecida y aún no se describe en la documentación oficial.\n",
    "\n",
    "Los hilos (o threads) permiten ejecutar múltiples tareas concurrentemente en la ESP32. Esto se puede hacer usando el módulo `_thread`, que proporciona una API sencilla para manejar hilos.\n",
    "\n",
    "- Cada hilo es independiente y ejecuta su propio código.\n",
    "- El hilo principal del programa (donde comienza el script) siempre está activo.\n",
    "- Los hilos adicionales deben ser gestionados cuidadosamente para evitar conflictos como condiciones de carrera o bloqueos."
   ]
  },
  {
   "cell_type": "code",
   "execution_count": null,
   "metadata": {
    "vscode": {
     "languageId": "python"
    }
   },
   "outputs": [],
   "source": [
    "import _thread\n",
    "\n",
    "# Definir una función que el hilo ejecutará\n",
    "def mi_hilo(nombre):\n",
    "   while True:\n",
    "      print(f\"Hilo ejecutando: {nombre}\")\n",
    "      time.sleep(1)"
   ]
  },
  {
   "cell_type": "markdown",
   "metadata": {},
   "source": [
    "La función `_thread.start_new_thread()` se utiliza para lanzar un hilo nuevo. Necesita dos argumentos:\n",
    "\n",
    "- La función a ejecutar.\n",
    "- Una tupla de argumentos para esa función."
   ]
  },
  {
   "cell_type": "code",
   "execution_count": null,
   "metadata": {
    "vscode": {
     "languageId": "python"
    }
   },
   "outputs": [],
   "source": [
    "import time\n",
    "import _thread\n",
    "\n",
    "def tarea_hilo(nombre):\n",
    "    while True:\n",
    "        print(f\"Hola desde el hilo: {nombre}\")\n",
    "        time.sleep(2)\n",
    "\n",
    "# Iniciar el hilo\n",
    "_thread.start_new_thread(tarea_hilo, (\"Hilo1\",))\n",
    "\n",
    "# El programa principal sigue ejecutándose\n",
    "while True:\n",
    "    print(\"Hola desde el programa principal\")\n",
    "    time.sleep(1)"
   ]
  },
  {
   "cell_type": "markdown",
   "metadata": {},
   "source": [
    "**Algunas consideraciones importantes:**\n",
    "\n",
    "Si los hilos comparten recursos (como variables globales), es importante usar mecanismos de sincronización para evitar errores. MicroPython incluye semáforos y bloqueos (`_thread.allocate_lock`)."
   ]
  },
  {
   "cell_type": "code",
   "execution_count": null,
   "metadata": {
    "vscode": {
     "languageId": "python"
    }
   },
   "outputs": [],
   "source": [
    "# Ejemplo de bloqueo\n",
    "\n",
    "recurso_compartido = 0\n",
    "lock = _thread.allocate_lock()\n",
    "\n",
    "def tarea_segura():\n",
    "    global recurso_compartido\n",
    "    with lock:\n",
    "        # Modificar el recurso compartido\n",
    "        recurso_compartido += 1"
   ]
  },
  {
   "cell_type": "markdown",
   "metadata": {},
   "source": [
    "Los hilos comparten la memoria de la ESP32, que es limitada, hay que evitar usar demasiados hilos. El Garbage Collector (GC) puede interferir si no se gestionan adecuadamente los objetos.\n",
    "\n",
    "Como alternativa para tareas concurrentes sin el uso de hilos, se puede usar el modulo `uasyncio`, que es más eficiente en términos de memoria y manejo de tareas para la ESP32."
   ]
  }
 ],
 "metadata": {
  "kernelspec": {
   "display_name": "MicroPython - USB",
   "language": "micropython",
   "name": "micropython"
  },
  "language_info": {
   "codemirror_mode": "python",
   "file_extension": ".py",
   "mimetype": "text/python",
   "name": "micropython"
  }
 },
 "nbformat": 4,
 "nbformat_minor": 2
}
