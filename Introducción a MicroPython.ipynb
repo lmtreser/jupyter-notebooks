{
 "cells": [
  {
   "cell_type": "markdown",
   "metadata": {},
   "source": [
    "# Introducción a MicroPython\n",
    "\n",
    "---\n",
    "\n",
    "*Esta Notebook para funcionar necesita el Kernel [Jupyter MicroPython Kernel](https://pypi.org/project/jupyter_micropython_kernel/), instalable vía `pip install jupyter_micropython_kernel`. Los comandos soportados son:*\n",
    "\n",
    "- *`%serialconnect` para conectarse a la placa*\n",
    "- *`%esptool` para flashear el dispositivo*\n",
    "- *`%lsmagic` para listar los comandos*\n",
    "\n",
    "*La Notebook fue confeccionada mediante material original del Laboratorio de Instrumentación Virtual y Robótica Aplicada (LIVRA) de la Facultad de Ingeniería de la Universidad Nacional de Mar del Plata.*\n",
    "\n",
    "---\n",
    "\n",
    "## 0. Introducción\n",
    "\n",
    "[MicroPython](https://micropython.org/) es una implementación del lenguaje de programación Python 3, escrita en C, optimizada para poder ejecutarse en un microcontrolador. MicroPython lo creó originalmente el programador y físico australiano Damien George, después de una exitosa campaña de Kickstarter que apoyó el proyecto en 2013. Aunque durante la campaña original de Kickstarter se lanzó MicroPython en conjunción con la placa de microcontrolador PyBoard, en la actualidad MicroPython soporta un amplio número de arquitecturas basadas en ARM.\n",
    "\n",
    "MicroPython es un compilador completo del lenguaje Python a bytecode y un motor e intérprete en tiempo de ejecución del bytecode, que funciona en el hardware del microcontrolador. Al usuario se le presenta una línea de órdenes interactiva (el REPL) que soporta la ejecución inmediata de órdenes. Se incluye una selección de bibliotecas fundamentales de Python: MicroPython incluye módulos que permiten al programador el acceso al hardware en bajo nivel.\n",
    "\n",
    "La documentación oficial se encuentra en [https://docs.micropython.org/en/latest/index.html](https://docs.micropython.org/en/latest/index.html).\n",
    "\n",
    "## 1. La placa ESP32\n",
    "\n",
    "Trabajaremos con la placa ESP32, la referencia rápida oficial se encuentra en [https://docs.micropython.org/en/latest/esp32/quickref.html](https://docs.micropython.org/en/latest/esp32/quickref.html), y el pinout es el siguiente:\n",
    "\n",
    "![](ESP32%20Pinout.jpg)\n",
    "\n",
    "No todos los GPIO son accesibles en todas las placas de desarrollo, pero cada GPIO específico funciona de la misma manera independientemente de la placa de desarrollo que estés usando. Si recién estás comenzando con el ESP32, te recomendamos leer la guía: [ESP32 Pinout Reference: Which GPIO pins should you use?](https://randomnerdtutorials.com/esp32-pinout-reference-gpios/)\n",
    "\n",
    "| GPIO | Input      | Output | Notes                                                                      |\n",
    "|------|------------|--------|----------------------------------------------------------------------------|\n",
    "| 0    | pulled up  | OK     | outputs PWM signal at boot, must be LOW to enter flashing mode             |\n",
    "| 1    | TX pin     | OK     | debug output at boot                                                       |\n",
    "| 2    | OK         | OK     | connected to on-board LED, must be left floating or LOW to enter flashing mode |\n",
    "| 3    | OK         | RX pin | HIGH at boot                                                               |\n",
    "| 4    | OK         | OK     |                                                                            |\n",
    "| 5    | OK         | OK     | outputs PWM signal at boot, strapping pin                                  |\n",
    "| 6    | x          | x      | connected to the integrated SPI flash                                      |\n",
    "| 7    | x          | x      | connected to the integrated SPI flash                                      |\n",
    "| 8    | x          | x      | connected to the integrated SPI flash                                      |\n",
    "| 9    | x          | x      | connected to the integrated SPI flash                                      |\n",
    "| 10   | x          | x      | connected to the integrated SPI flash                                      |\n",
    "| 11   | x          | x      | connected to the integrated SPI flash                                      |\n",
    "| 12   | OK         | OK     | boot fails if pulled high, strapping pin                                   |\n",
    "| 13   | OK         | OK     |                                                                            |\n",
    "| 14   | OK         | OK     | outputs PWM signal at boot                                                 |\n",
    "| 15   | OK         | OK     | outputs PWM signal at boot, strapping pin                                  |\n",
    "| 16   | OK         | OK     |                                                                            |\n",
    "| 17   | OK         | OK     |                                                                            |\n",
    "| 18   | OK         | OK     |                                                                            |\n",
    "| 19   | OK         | OK     |                                                                            |\n",
    "| 21   | OK         | OK     |                                                                            |\n",
    "| 22   | OK         | OK     |                                                                            |\n",
    "| 23   | OK         | OK     |                                                                            |\n",
    "| 25   | OK         | OK     |                                                                            |\n",
    "| 26   | OK         | OK     |                                                                            |\n",
    "| 27   | OK         | OK     |                                                                            |\n",
    "| 32   | OK         | OK     |                                                                            |\n",
    "| 33   | OK         | OK     |                                                                            |\n",
    "| 34   | OK         |        | input only                                                                 |\n",
    "| 35   | OK         |        | input only                                                                 |\n",
    "| 36   | OK         |        | input only                                                                 |\n",
    "| 39   | OK         |        | input only                                                                 |\n",
    "\n",
    "Para conectar la placa a esta Notebook, hay que correr el siguiente comando:"
   ]
  },
  {
   "cell_type": "code",
   "execution_count": null,
   "metadata": {
    "vscode": {
     "languageId": "python"
    }
   },
   "outputs": [],
   "source": [
    "# Conectarse a la placa\n",
    "%serialconnect"
   ]
  },
  {
   "cell_type": "markdown",
   "metadata": {},
   "source": [
    "## 2. Entradas/Salidas\n",
    "\n",
    "Para acceder a los pines de entrada/salida de la ESP32, hay que importar del módulo `machine` la definición correspondiente. Más información en [machine — functions related to the hardware](https://docs.micropython.org/en/latest/library/machine.html)."
   ]
  },
  {
   "cell_type": "code",
   "execution_count": null,
   "metadata": {
    "vscode": {
     "languageId": "python"
    }
   },
   "outputs": [],
   "source": [
    "from machine import Pin\n",
    "\n",
    "# Crear pines de entrada\n",
    "pin_5 = Pin(5, Pin.IN)              # Pin en modo entrada\n",
    "pin_4 = Pin(4, Pin.IN, Pin.PULL_UP) # Habilita el resistor pull-up interno\n",
    "\n",
    "# Crear pines de salida\n",
    "pin_2 = Pin(2, Pin.OUT)\n",
    "pin_0 = Pin(0, Pin.OUT, value=1)    # Coloca el pin en alto al crearlo\n",
    "\n",
    "pin_2.value(0)"
   ]
  },
  {
   "cell_type": "markdown",
   "metadata": {},
   "source": [
    "Al crear el objeto `pin`, se deben pasar como parámetros el número de pin y su modo (entrada o salida). En caso de que se ingrese solo el número de pin, se asume que es una entrada (que también puede explicitarse con `Pin.IN`).\n",
    "\n",
    "Para acceder o modificar su valor, se puede usar el método `value()` de la siguiente manera:"
   ]
  },
  {
   "cell_type": "code",
   "execution_count": null,
   "metadata": {
    "vscode": {
     "languageId": "python"
    }
   },
   "outputs": [],
   "source": [
    "pin_status = pin_0.value() # Devuelve el valor del pin\n",
    "print(\"El pin se encuentra en el estado:\", pin_status)\n"
   ]
  },
  {
   "cell_type": "code",
   "execution_count": null,
   "metadata": {
    "vscode": {
     "languageId": "python"
    }
   },
   "outputs": [],
   "source": [
    "# Coloca en alto el pin 2\n",
    "pin_2.value(1)"
   ]
  },
  {
   "cell_type": "code",
   "execution_count": null,
   "metadata": {
    "vscode": {
     "languageId": "python"
    }
   },
   "outputs": [],
   "source": [
    "# Coloca en bajo el pin 2\n",
    "pin_2.off()"
   ]
  },
  {
   "cell_type": "code",
   "execution_count": null,
   "metadata": {
    "vscode": {
     "languageId": "python"
    }
   },
   "outputs": [],
   "source": [
    "# Coloca en alto el pin 2\n",
    "pin_2.on()"
   ]
  },
  {
   "cell_type": "markdown",
   "metadata": {},
   "source": [
    "También podemos configurar una salida como PWM (modulación de ancho de pulso). Para esto usamos la función PWM definida en el módulo `machine` y pasamos como argumento uno de los pines compatibles."
   ]
  },
  {
   "cell_type": "code",
   "execution_count": null,
   "metadata": {
    "vscode": {
     "languageId": "python"
    }
   },
   "outputs": [],
   "source": [
    "from machine import PWM, Pin\n",
    "\n",
    "pwm = PWM(Pin(2))\n",
    "pwm.freq(10000) # Configura la frecuencia a 10kHz, acepta valores desde 1Hz a 40MHz\n",
    "pwm.duty(512)   # Configura el duty cycle al 50% (0 - 1023)\n",
    "\n",
    "# También podemos configurarlo todo en una sola línea\n",
    "# pwm = PWM(Pin(2, freq=10000, duty=512))\n",
    "\n",
    "# Podemos ver la configuración actual imprimiendo el objeto pwm\n",
    "print(pwm)"
   ]
  },
  {
   "cell_type": "code",
   "execution_count": null,
   "metadata": {
    "vscode": {
     "languageId": "python"
    }
   },
   "outputs": [],
   "source": [
    "# Obtenemos el duty cycle actual\n",
    "duty = pwm.duty()\n",
    "print(\"El duty cycle es:\", duty)"
   ]
  },
  {
   "cell_type": "code",
   "execution_count": null,
   "metadata": {
    "vscode": {
     "languageId": "python"
    }
   },
   "outputs": [],
   "source": [
    "# Obtenemos el duty cycle en nanosegundos\n",
    "duty_ns = pwm.duty_ns()\n",
    "print(\"El duty cycle en nanosegundos es:\", duty_ns)"
   ]
  },
  {
   "cell_type": "code",
   "execution_count": null,
   "metadata": {
    "vscode": {
     "languageId": "python"
    }
   },
   "outputs": [],
   "source": [
    "# Detenemos la salida\n",
    "pwm.deinit()"
   ]
  },
  {
   "cell_type": "markdown",
   "metadata": {},
   "source": [
    "## 3. Control de tiempo\n",
    "\n",
    "Podemos usar el módulo `time` que nos permite contar tiempos para poder realizar pausas o medir tiempo entre operaciones:"
   ]
  },
  {
   "cell_type": "code",
   "execution_count": null,
   "metadata": {
    "vscode": {
     "languageId": "python"
    }
   },
   "outputs": [],
   "source": [
    "import time\n",
    "\n",
    "time.sleep(1)               # espera 1 segundo\n",
    "time.sleep_ms(1000)         # ídem a anterior pero en milisegundos\n",
    "time.sleep_us(1000000)      # ídem a anterior pero en microsegundos\n",
    "\n",
    "inicio = time.ticks_ms()    # almacena la cantidad de ms\n",
    "                            # desde el inicio del dispositivo\n",
    "\n",
    "# se ejecutan varias operaciones que toman tiempo\n",
    "time.sleep_ms(1000)\n",
    "\n",
    "fin = time.ticks_ms()\n",
    "\n",
    "# Se muestra la diferencia de tiempos en la misma unidad (ms)\n",
    "print(time.ticks_diff(fin, inicio))"
   ]
  },
  {
   "cell_type": "markdown",
   "metadata": {},
   "source": [
    "El código \"Blink\" de MicroPython es:"
   ]
  },
  {
   "cell_type": "code",
   "execution_count": null,
   "metadata": {
    "vscode": {
     "languageId": "python"
    }
   },
   "outputs": [],
   "source": [
    "from machine import Pin\n",
    "import time\n",
    "\n",
    "led_builtin = Pin(2, Pin.OUT)\n",
    "\n",
    "while True:\n",
    "    print(\"Ejecutando...\");\n",
    "    led_builtin.value(1)\n",
    "    time.sleep(1)\n",
    "    led_builtin.value(0)\n",
    "    time.sleep(1)"
   ]
  },
  {
   "cell_type": "markdown",
   "metadata": {},
   "source": [
    "También se pueden programar tareas repetitivas o después de pasado determinado tiempo usando los Timers internos de la ESP32. Se pueden acceder a cada Timer mediante su ID (del 0 a 3 inclusive): `tim = Timer(ID)`"
   ]
  },
  {
   "cell_type": "code",
   "execution_count": null,
   "metadata": {
    "vscode": {
     "languageId": "python"
    }
   },
   "outputs": [],
   "source": [
    "from machine import Timer\n",
    "\n",
    "def tarea_repetitiva(timer):\n",
    "    print(\"Tarea invocada por el timer\", timer)\n",
    "\n",
    "tim = Timer(0)\n",
    "tim.init(period=1000, mode=Timer.PERIODIC,\n",
    "        callback=tarea_repetitiva)"
   ]
  },
  {
   "cell_type": "code",
   "execution_count": null,
   "metadata": {
    "vscode": {
     "languageId": "python"
    }
   },
   "outputs": [],
   "source": [
    "# Detener el timer\n",
    "tim.deinit()"
   ]
  },
  {
   "cell_type": "markdown",
   "metadata": {},
   "source": [
    "En este ejemplo, se inicializa un timer que ejecuta una función de forma periódica cada 1 segundo (1000 ms). La función debe incorporar un parámetro que corresponde al timer que la ejecutó. Alternativamente, se puede cambiar el modo `mode=Timer.ONE_SHOT` que hace que se ejecute una sola vez pasado el tiempo indicado por `period`."
   ]
  },
  {
   "cell_type": "code",
   "execution_count": null,
   "metadata": {
    "vscode": {
     "languageId": "python"
    }
   },
   "outputs": [],
   "source": [
    "def tarea_oneshot(timer):\n",
    "    print(\"Tarea ONE_SHOT invocada por el timer\", timer)\n",
    "\n",
    "tim = Timer(0)\n",
    "tim.init(period=1000, mode=Timer.ONE_SHOT, callback=tarea_oneshot)"
   ]
  },
  {
   "cell_type": "markdown",
   "metadata": {},
   "source": [
    "## 4. Sensores, actuadores y periféricos\n",
    "\n",
    "### 4.1. Control de servomotor\n",
    "\n",
    "Utilizando el concepto de PWM visto anteriormente, es posible controlar el ángulo de giro de un servomotor según el ciclo de trabajo. Para esto, primero se configura una salida PWM a `50Hz` y los anchos de pulso según el ángulo requerido. A modo de referencia, deberían tomar aproximadamente los siguientes valores:\n",
    "\n",
    "- Para la posición 0°: pulso de 1ms\n",
    "- Para la posición 90°: pulso de 1.5ms\n",
    "- Para la posición 180°: pulso de 2ms\n",
    "\n",
    "Luego se ajusta el ciclo de trabajo acorde a la resolución del PWM (0 a 1023) y, teniendo en cuenta que 0ms se configura con 0 y 20ms es el pulso completo, se obtienen los siguientes valores:\n",
    "\n",
    "- Para la posición 0°: ciclo de trabajo 51\n",
    "- Para la posición 90°: ciclo de trabajo 76\n",
    "- Para la posición 180°: ciclo de trabajo 102"
   ]
  },
  {
   "cell_type": "code",
   "execution_count": null,
   "metadata": {
    "vscode": {
     "languageId": "python"
    }
   },
   "outputs": [],
   "source": [
    "from machine import PWM, Pin\n",
    "from time import sleep_ms\n",
    "\n",
    "pwm = PWM(Pin(14))\n",
    "pwm.freq(50)\n",
    "\n",
    "for i in range(51, 103):\n",
    "    pwm.duty(i)\n",
    "    sleep_ms(10)"
   ]
  },
  {
   "cell_type": "markdown",
   "metadata": {},
   "source": [
    "### 4.2. Conversión analógico-digital\n",
    "\n",
    "El ESP32 contiene puertos de conversión de entrada analógica a digital ubicados en los pines `32` a `39` (bloque 1) y los pines `0`, `2`, `4`, `12` a `15` y `25` a `27` (bloque 2). Sin embargo, el bloque 2 es usado también por WiFi por lo que no se pueden usar en simultáneo.\n",
    "\n",
    "Para configurar un pin, se lo pasamos a la función `ADC` del módulo `machine` de la misma manera que con PWM. Luego podemos leer su valor con el método `read()` o `read_uv()` para obtener la tensión en μV. También es posible ajustar el factor de atenuación para ampliar el rango de conversión:\n",
    "\n",
    "- `ADC.ATTN_0DB`: 100mV - 950mV\n",
    "- `ADC.ATTN_2_5DB`: 100mV - 1250mV\n",
    "- `ADC.ATTN_6DB`: 150mV - 1750mV\n",
    "- `ADC.ATTN_11DB`: 150mV - 2450mV"
   ]
  },
  {
   "cell_type": "code",
   "execution_count": null,
   "metadata": {
    "vscode": {
     "languageId": "python"
    }
   },
   "outputs": [],
   "source": [
    "from machine import ADC\n",
    "\n",
    "# adc = ADC(Pin(35), atten=ADC.ATTN_11DB)\n",
    "adc = ADC(Pin(35))\n",
    "\n",
    "# Devuelve el valor ADC sin procesar según la resolución del bloque\n",
    "# Por ejemplo, 0-4095 para una resolución de 12 bits.\n",
    "lectura = adc.read()\n",
    "\n",
    "# Devuelve el valor analógico sin procesar en el rango 0-65535\n",
    "# lectura = adc.read_u16() \n",
    "# Devuelve el valor analógico en microvoltios\n",
    "# lectura = adc.read_uv()\n",
    "print(lectura)"
   ]
  },
  {
   "cell_type": "markdown",
   "metadata": {},
   "source": [
    "### 4.3. DAC\n",
    "\n",
    "Tambien es posible generar valores analógicos arbitrarios utilizando el conversor digital-analógico integrado al ESP32. Este nos permite convertir valores digitales de 8 bits a tensión de salida. La funcionalidad DAC está disponible en los pines `25` y `26`. En el ESP32S2 está disponible en los pines `17` y `18`."
   ]
  },
  {
   "cell_type": "code",
   "execution_count": null,
   "metadata": {
    "vscode": {
     "languageId": "python"
    }
   },
   "outputs": [],
   "source": [
    "from machine import Pin, DAC\n",
    "\n",
    "dac = DAC(Pin(25))\n",
    "dac.write(127)"
   ]
  },
  {
   "cell_type": "markdown",
   "metadata": {},
   "source": [
    "### 4.4. Sensor de temperatura y humedad DHT11/22\n",
    "\n",
    "El lenguaje MicroPython incorpora una implementación del driver de los dispositivos DHT11 y DHT22."
   ]
  },
  {
   "cell_type": "code",
   "execution_count": null,
   "metadata": {
    "vscode": {
     "languageId": "python"
    }
   },
   "outputs": [],
   "source": [
    "from dht import DHT11\n",
    "from machine import Pin\n",
    "\n",
    "dht = DHT11(Pin(32))\n",
    "dht.measure()\n",
    "\n",
    "print(f\"Temperatura: {dht.temperature()} °C\")\n",
    "print(f\"Humedad: {dht.humidity()} %\")"
   ]
  },
  {
   "cell_type": "markdown",
   "metadata": {},
   "source": [
    "### 4.5. NeoPixel\n",
    "\n",
    "También se incluye el driver para LEDs WS2812B, también conocidos como NeoPixel."
   ]
  },
  {
   "cell_type": "code",
   "execution_count": null,
   "metadata": {
    "vscode": {
     "languageId": "python"
    }
   },
   "outputs": [],
   "source": [
    "from neopixel import NeoPixel\n",
    "from machine import Pin\n",
    "\n",
    "# Create un NeoPixel: Pin, # pixels\n",
    "np = NeoPixel(Pin(27), 1)\n",
    "\n",
    "# Orden: G, R, B\n",
    "np[0] = (0, 255, 0)\n",
    "\n",
    "# Se aplican los cambios\n",
    "np.write()"
   ]
  },
  {
   "cell_type": "markdown",
   "metadata": {},
   "source": [
    "### 4.6. Pantalla LCD\n",
    "\n",
    "Ejemplo para controlar una pantalla LCD en modo **paralelo**. El pinout es el siguiente:\n",
    "\n",
    "| LCD Pin | ESP32 Pin (GPIO) | Descripción      |\n",
    "|---------|-------------------|------------------|\n",
    "| VSS     | GND               | Tierra           |\n",
    "| VDD     | 3.3V o 5V         | Alimentación     |\n",
    "| VO      | Potenciómetro o GND | Contraste       |\n",
    "| RS      | GPIO 25           | Registro select  |\n",
    "| RW      | GND               | Escritura        |\n",
    "| E       | GPIO 26           | Enable           |\n",
    "| D4      | GPIO 16           | Datos (bit 4)    |\n",
    "| D5      | GPIO 17           | Datos (bit 5)    |\n",
    "| D6      | GPIO 18           | Datos (bit 6)    |\n",
    "| D7      | GPIO 19           | Datos (bit 7)    |\n",
    "\n",
    "Crear un archivo `lcd.py` para realizar la implementación:"
   ]
  },
  {
   "cell_type": "code",
   "execution_count": null,
   "metadata": {
    "vscode": {
     "languageId": "python"
    }
   },
   "outputs": [],
   "source": [
    "from machine import Pin\n",
    "from time import sleep\n",
    "\n",
    "class LCD:\n",
    "    def __init__(self, rs, enable, d4, d5, d6, d7):\n",
    "        self.rs = Pin(rs, Pin.OUT)\n",
    "        self.enable = Pin(enable, Pin.OUT)\n",
    "        self.data_pins = [\n",
    "            Pin(d4, Pin.OUT),\n",
    "            Pin(d5, Pin.OUT),\n",
    "            Pin(d6, Pin.OUT),\n",
    "            Pin(d7, Pin.OUT)\n",
    "        ]\n",
    "        self.init_lcd()\n",
    "\n",
    "    def pulse_enable(self):\n",
    "        self.enable.value(1)\n",
    "        sleep(0.0001)\n",
    "        self.enable.value(0)\n",
    "        sleep(0.0001)\n",
    "\n",
    "    def send_nibble(self, nibble):\n",
    "        for i in range(4):\n",
    "            self.data_pins[i].value((nibble >> i) & 0x01)\n",
    "        self.pulse_enable()\n",
    "\n",
    "    def send_byte(self, byte, mode):\n",
    "        self.rs.value(mode)\n",
    "        self.send_nibble(byte >> 4)  # High nibble\n",
    "        self.send_nibble(byte & 0x0F)  # Low nibble\n",
    "\n",
    "    def command(self, cmd):\n",
    "        self.send_byte(cmd, 0)\n",
    "\n",
    "    def write_char(self, char):\n",
    "        self.send_byte(ord(char), 1)\n",
    "\n",
    "    def init_lcd(self):\n",
    "        sleep(0.02)\n",
    "        self.send_nibble(0x03)\n",
    "        sleep(0.005)\n",
    "        self.send_nibble(0x03)\n",
    "        sleep(0.0001)\n",
    "        self.send_nibble(0x03)\n",
    "        self.send_nibble(0x02)\n",
    "\n",
    "        self.command(0x28)  # 4-bit mode, 2 lines, 5x8 dots\n",
    "        self.command(0x0C)  # Display on, cursor off\n",
    "        self.command(0x01)  # Clear display\n",
    "        sleep(0.002)\n",
    "\n",
    "    def clear(self):\n",
    "        self.command(0x01)\n",
    "        sleep(0.002)\n",
    "\n",
    "    def putstr(self, string):\n",
    "        for char in string:\n",
    "            self.write_char(char)"
   ]
  },
  {
   "cell_type": "markdown",
   "metadata": {},
   "source": [
    "El funcionamiento es el siguiente:\n",
    "\n",
    "1. `init_lcd` configura el LCD en modo de 4 bits.\n",
    "2. `putstr` envía caracteres al LCD.\n",
    "3. Los comandos como `0x01` (borrar pantalla) y `0x0C` (activar pantalla) controlan el comportamiento del LCD.\n",
    "\n",
    "Ejemplo para testear la pantalla:"
   ]
  },
  {
   "cell_type": "code",
   "execution_count": null,
   "metadata": {
    "vscode": {
     "languageId": "python"
    }
   },
   "outputs": [],
   "source": [
    "from lcd import LCD\n",
    "from time import sleep\n",
    "\n",
    "# Configura los pines del ESP32\n",
    "lcd = LCD(rs=25, enable=26, d4=16, d5=17, d6=18, d7=19)\n",
    "\n",
    "# Mensaje en la pantalla LCD\n",
    "lcd.putstr(\"Hola, Mundo!\")\n",
    "sleep(2)\n",
    "\n",
    "# Borrar y mostrar un nuevo mensaje\n",
    "lcd.clear()\n",
    "lcd.putstr(\"MicroPython!!!\")"
   ]
  },
  {
   "cell_type": "markdown",
   "metadata": {},
   "source": [
    "## 5. Almacenamiento\n",
    "\n",
    "### 5.1. Almacenamiento flash\n",
    "\n",
    "La ESP32 no tiene una EEPROM interna física como algunas placas Arduino, pero es posible simular una pequeña memoria EEPROM usando el almacenamiento flash para almacenar datos persistentes. Mediante el módulo `os` es posible escribir y leer archivos en la memoria flash de la ESP32:"
   ]
  },
  {
   "cell_type": "code",
   "execution_count": null,
   "metadata": {
    "vscode": {
     "languageId": "python"
    }
   },
   "outputs": [],
   "source": [
    "# Escribir datos en un archivo\n",
    "with open(\"data.txt\", \"w\") as f:\n",
    "    f.write(\"12345\")  # Datos a almacenar\n",
    "    \n",
    "# Leer datos del archivo\n",
    "with open(\"data.txt\", \"r\") as f:\n",
    "    datos = f.read()\n",
    "    print(\"Datos leídos:\", datos)"
   ]
  },
  {
   "cell_type": "markdown",
   "metadata": {},
   "source": [
    "### 5.2. EEPROM externa\n",
    "\n",
    "Para trabajar con una EEPROM externa, como la 24LC256, se utiliza el bus I2C para leer y escribir datos."
   ]
  },
  {
   "cell_type": "code",
   "execution_count": null,
   "metadata": {
    "vscode": {
     "languageId": "python"
    }
   },
   "outputs": [],
   "source": [
    "from machine import I2C, Pin\n",
    "\n",
    "# Configurar I2C\n",
    "i2c = I2C(1, scl=Pin(22), sda=Pin(21), freq=400000)\n",
    "direccion_eeprom = 0x50  # Dirección I2C de la EEPROM\n",
    "\n",
    "# Escribir un byte (0x42) en la dirección 0x0000\n",
    "i2c.writeto_mem(direccion_eeprom, 0x0000, b'\\x42')\n",
    "\n",
    "# Leer un byte desde la dirección 0x0000\n",
    "data = i2c.readfrom_mem(direccion_eeprom, 0x0000, 1)\n",
    "print(\"Dato leído de EEPROM:\", data)"
   ]
  },
  {
   "cell_type": "markdown",
   "metadata": {},
   "source": [
    "## 6. Comunicaciones Serial\n",
    "\n",
    "Ejemplos de uso de *UART*, *I2C* y *SPI* para comunicarse con otros dispositivos.\n",
    "\n",
    "### 6.1. UART\n",
    "\n",
    "La comunicación UART es esencial para enviar y recibir datos entre la ESP32 y otros dispositivos seriales. En MicroPython, la comunicación UART se maneja mediante el módulo `machine` y su clase `UART`."
   ]
  },
  {
   "cell_type": "code",
   "execution_count": null,
   "metadata": {
    "vscode": {
     "languageId": "python"
    }
   },
   "outputs": [],
   "source": [
    "from machine import UART, Pin\n",
    "\n",
    "# Configura el UART 1 con un baudrate de 9600, pines TX en 17 y RX en 16\n",
    "uart1 = UART(1, baudrate=9600, tx=Pin(17), rx=Pin(16))\n",
    "\n",
    "# Enviar datos\n",
    "uart1.write('Hola desde ESP32!')\n",
    "\n",
    "# Leer datos recibidos (si hay datos disponibles)\n",
    "if uart1.any():\n",
    "    datos = uart1.read()  # Lee todos los datos disponibles\n",
    "    print('Datos recibidos:', datos)"
   ]
  },
  {
   "cell_type": "markdown",
   "metadata": {},
   "source": [
    "Para probar la comunicación bidireccional (echo), puedes implementar un eco serial. Este programa lee datos y los reenvía al dispositivo de origen:"
   ]
  },
  {
   "cell_type": "code",
   "execution_count": null,
   "metadata": {
    "vscode": {
     "languageId": "python"
    }
   },
   "outputs": [],
   "source": [
    "while True:\n",
    "    if uart1.any():\n",
    "        recibido = uart1.read()\n",
    "        uart1.write(recibido)  # Enviar de vuelta los datos recibidos\n",
    "        print('Echo:', recibido)"
   ]
  },
  {
   "cell_type": "markdown",
   "metadata": {},
   "source": [
    "### 6.2. I2C\n",
    "\n",
    "La comunicación I2C es útil para conectar sensores y otros periféricos. En MicroPython, se configura mediante el módulo `machine` y la clase `I2C`."
   ]
  },
  {
   "cell_type": "code",
   "execution_count": null,
   "metadata": {
    "vscode": {
     "languageId": "python"
    }
   },
   "outputs": [],
   "source": [
    "from machine import I2C, Pin\n",
    "\n",
    "# Configura el I2C en modo maestro con pines de SDA (21) y SCL (22)\n",
    "i2c = I2C(1, scl=Pin(22), sda=Pin(21), freq=400000)\n",
    "\n",
    "# Escanea dispositivos en el bus I2C\n",
    "dispositivos = i2c.scan()\n",
    "print('Dispositivos I2C encontrados:', dispositivos)"
   ]
  },
  {
   "cell_type": "markdown",
   "metadata": {},
   "source": [
    "A continuación, se muestra un ejemplo genérico para leer datos de un sensor I2C en la dirección `0x40`:"
   ]
  },
  {
   "cell_type": "code",
   "execution_count": null,
   "metadata": {
    "vscode": {
     "languageId": "python"
    }
   },
   "outputs": [],
   "source": [
    "# Dirección del sensor\n",
    "direccion_sensor = 0x40\n",
    "\n",
    "# Leer 2 bytes de datos desde el registro 0xE3 del sensor\n",
    "data = i2c.readfrom_mem(direccion_sensor, 0xE3, 2)\n",
    "\n",
    "# Convertir los datos en temperatura\n",
    "# Fórmula genérica, ajustar según el sensor\n",
    "temp = (data[0] << 8 | data[1]) * 0.00268127\n",
    "print('Temperatura:', temp, '°C')"
   ]
  },
  {
   "cell_type": "markdown",
   "metadata": {},
   "source": [
    "### 6.3. SPI\n",
    "\n",
    "La interfaz SPI (Serial Peripheral Interface) permite la comunicación rápida entre la ESP32 y otros dispositivos como pantallas y memorias flash. En MicroPython, el módulo `machine` contiene la clase `SPI` para configurar esta comunicación."
   ]
  },
  {
   "cell_type": "code",
   "execution_count": null,
   "metadata": {
    "vscode": {
     "languageId": "python"
    }
   },
   "outputs": [],
   "source": [
    "from machine import Pin, SPI\n",
    "\n",
    "# Configura SPI con los pines de SCK, MOSI, MISO y CS\n",
    "spi = SPI(1, baudrate=1000000, polarity=0, phase=0, sck=Pin(18), mosi=Pin(23), miso=Pin(19))\n",
    "\n",
    "# Pin de Chip Select (CS)\n",
    "cs = Pin(5, Pin.OUT)\n",
    "\n",
    "# Comunicación con un dispositivo SPI\n",
    "cs.value(0)  # Habilitar el dispositivo\n",
    "spi.write(b'\\x9F')  # Comando de ejemplo para leer el ID del dispositivo\n",
    "id_dispositivo = spi.read(3)  # Leer 3 bytes\n",
    "cs.value(1)  # Deshabilitar el dispositivo\n",
    "\n",
    "print('ID del dispositivo:', id_dispositivo)"
   ]
  },
  {
   "cell_type": "markdown",
   "metadata": {},
   "source": [
    "Lectura y escritura en un dispositivo SPI (ej. memoria flash):"
   ]
  },
  {
   "cell_type": "code",
   "execution_count": null,
   "metadata": {
    "vscode": {
     "languageId": "python"
    }
   },
   "outputs": [],
   "source": [
    "# Comando de escritura de datos\n",
    "cs.value(0)\n",
    "spi.write(b'\\x02')  # Comando de escritura\n",
    "spi.write(b'\\x00\\x00\\x00')  # Dirección de memoria\n",
    "spi.write(b'Hello')  # Datos a escribir\n",
    "cs.value(1)\n",
    "\n",
    "# Comando de lectura de datos\n",
    "cs.value(0)\n",
    "spi.write(b'\\x03')  # Comando de lectura\n",
    "spi.write(b'\\x00\\x00\\x00')  # Dirección de memoria\n",
    "data = spi.read(5)  # Leer 5 bytes\n",
    "cs.value(1)\n",
    "\n",
    "print('Datos leídos:', data)"
   ]
  },
  {
   "cell_type": "markdown",
   "metadata": {},
   "source": [
    "## 7. Bluetooth Low Energy (BLE)\n",
    "\n",
    "Bluetooth Low Energy, BLE (también llamado Bluetooth Smart), es una variante de Bluetooth con ahorro de energía. La aplicación principal de BLE es la transmisión a corta distancia de pequeñas cantidades de datos (ancho de banda bajo). A diferencia de Bluetooth, que siempre está activado, BLE permanece en modo de suspensión constantemente, excepto cuando se inicia una conexión, esto hace que consuma muy poca energía.\n",
    "\n",
    "Para funcionar, se necesitan los siguientes módulos:\n",
    "\n",
    "- `ble_advertising.py`\n",
    "- `ble_simple_peripheral.py`"
   ]
  },
  {
   "cell_type": "code",
   "execution_count": null,
   "metadata": {
    "vscode": {
     "languageId": "python"
    }
   },
   "outputs": [],
   "source": [
    "# This example demonstrates a UART periperhal.\n",
    "\n",
    "import bluetooth\n",
    "import random\n",
    "import struct\n",
    "import time\n",
    "\n",
    "from ble_simple_peripheral import BLESimplePeripheral\n",
    "from ble_advertising import advertising_payload\n",
    "from micropython import const\n",
    "\n",
    "ble = bluetooth.BLE()\n",
    "p = BLESimplePeripheral(ble)\n",
    "\n",
    "# Recepción de datos\n",
    "def on_rx(v):\n",
    "    print(\"RX\", v)\n",
    "\n",
    "p.on_write(on_rx)\n",
    "\n",
    "# Envio de datos\n",
    "i = 0\n",
    "while True:\n",
    "    if p.is_connected():\n",
    "        # Short burst of queued notifications.\n",
    "        for _ in range(3):\n",
    "            data = str(i) + \"_\"\n",
    "            print(\"TX\", data)\n",
    "            p.send(data)\n",
    "            i += 1\n",
    "    time.sleep_ms(1000)"
   ]
  },
  {
   "cell_type": "markdown",
   "metadata": {},
   "source": [
    "**Funcionamiento:**\n",
    "\n",
    "La función `on_rx(v)` es un callback que se ejecuta cuando el periférico BLE recibe datos del cliente conectado, imprime los datos recibidos `(v)`. Con `p.on_write(on_rx)` se asocia la función de recepción de datos al periférico BLE.\n",
    "\n",
    "Luego se utiliza un bucle infinito para mantener la funcionalidad del periférico:\n",
    "\n",
    "- `p.is_connected()` verifica si un cliente BLE está conectado al periférico.\n",
    "- Se envían tres notificaciones consecutivas al cliente mediante `p.send(data)`."
   ]
  },
  {
   "cell_type": "markdown",
   "metadata": {},
   "source": [
    "## 8. WiFi\n",
    "\n",
    "Para conectarnos a una red o crear una red propia en la ESP32, podemos usar el módulo `network`.\n",
    "\n",
    "### 8.1. ESP32 como Access Point"
   ]
  },
  {
   "cell_type": "code",
   "execution_count": null,
   "metadata": {
    "vscode": {
     "languageId": "python"
    }
   },
   "outputs": [],
   "source": [
    "import network\n",
    "\n",
    "ap = network.WLAN(network.AP_IF)    # se configura el modo AP\n",
    "ap.config(essid=\"nombre de red\")\n",
    "ap.config(max_clients=4)            # cantidad máxima de conexiones\n",
    "ap.active(True)"
   ]
  },
  {
   "cell_type": "markdown",
   "metadata": {},
   "source": [
    "### 8.2. Conexión a una red existente\n",
    "\n",
    "Para conectarnos a una red existente, podemos hacerlo interactivamente desde la línea de comandos para comprender cómo es el proceso:"
   ]
  },
  {
   "cell_type": "code",
   "execution_count": null,
   "metadata": {
    "vscode": {
     "languageId": "python"
    }
   },
   "outputs": [],
   "source": [
    "import network"
   ]
  },
  {
   "cell_type": "code",
   "execution_count": null,
   "metadata": {
    "vscode": {
     "languageId": "python"
    }
   },
   "outputs": [],
   "source": [
    "wlan = network.WLAN(network.STA_IF)"
   ]
  },
  {
   "cell_type": "code",
   "execution_count": null,
   "metadata": {
    "vscode": {
     "languageId": "python"
    }
   },
   "outputs": [],
   "source": [
    "wlan.active(True)"
   ]
  },
  {
   "cell_type": "markdown",
   "metadata": {},
   "source": [
    "En primer lugar, se crea el objeto `wlan` con el cual usaremos para conectarnos a una red WiFi. Con el método `active()` activamos o desactivamos la red. Una vez activa, podemos escanear las redes visibles:"
   ]
  },
  {
   "cell_type": "code",
   "execution_count": null,
   "metadata": {
    "vscode": {
     "languageId": "python"
    }
   },
   "outputs": [],
   "source": [
    "wlan.scan()"
   ]
  },
  {
   "cell_type": "markdown",
   "metadata": {},
   "source": [
    "Después de un tiempo, se genera una lista de redes con sus nombres, potencias y otros parámetros. Para ver una simple lista con los nombres, podemos usar un ciclo:"
   ]
  },
  {
   "cell_type": "code",
   "execution_count": null,
   "metadata": {
    "vscode": {
     "languageId": "python"
    }
   },
   "outputs": [],
   "source": [
    "for red in wlan.scan():\n",
    "    print(red[0])"
   ]
  },
  {
   "cell_type": "markdown",
   "metadata": {},
   "source": [
    "Para conectarnos con la red, se puede usar el método `connect`:"
   ]
  },
  {
   "cell_type": "code",
   "execution_count": null,
   "metadata": {
    "vscode": {
     "languageId": "python"
    }
   },
   "outputs": [],
   "source": [
    "wlan.connect(\"ssid\", \"password\")"
   ]
  },
  {
   "cell_type": "markdown",
   "metadata": {},
   "source": [
    "Luego de un tiempo, podemos verificar si se conectó exitosamente:"
   ]
  },
  {
   "cell_type": "code",
   "execution_count": null,
   "metadata": {
    "vscode": {
     "languageId": "python"
    }
   },
   "outputs": [],
   "source": [
    "wlan.isconnected()\n",
    "# Conexion exitosa: True"
   ]
  },
  {
   "cell_type": "code",
   "execution_count": null,
   "metadata": {
    "vscode": {
     "languageId": "python"
    }
   },
   "outputs": [],
   "source": [
    "wlan.ifconfig()[0]\n",
    "# Dirección IP asignada"
   ]
  },
  {
   "cell_type": "markdown",
   "metadata": {},
   "source": [
    "Para automatizar este proceso y pueda ser ejecutado en la ESP32 y bloquee la ejecución hasta que logre conectarse, se puede usar el siguiente script:"
   ]
  },
  {
   "cell_type": "code",
   "execution_count": null,
   "metadata": {
    "vscode": {
     "languageId": "python"
    }
   },
   "outputs": [],
   "source": [
    "import network\n",
    "from time import sleep_ms\n",
    "\n",
    "wlan = network.WLAN(network.STA_IF)\n",
    "if not wlan.active():\n",
    "    wlan.active(True)\n",
    "\n",
    "if not wlan.isconnected():\n",
    "    wlan.connect(\"ssid\", \"password\")\n",
    "\n",
    "    print(\"Conectando...\")\n",
    "    while not wlan.isconnected():\n",
    "        sleep_ms(1000)\n",
    "\n",
    "config = wlan.ifconfig()\n",
    "print(f\"Conectado con ip {config[0]}\")"
   ]
  },
  {
   "cell_type": "markdown",
   "metadata": {},
   "source": [
    "## 9. MQTT\n",
    "\n",
    "MQTT es un protocolo de mensajería estandarizado que distribuye la información a través de publicación y suscripción (publish/subscribe) a determinado tema (topic) y es eficiente para situaciones que se transporta poca información ya que consume poco ancho de banda.\n",
    "\n",
    "Cada dispositivo se puede comportar como publicador o suscriptor en forma simultánea. La comunicación es manejada por un servidor, también denominado broker. Para dirigir la comunicación, se utilizan topics, los cuales, para este curso concreto, pueden seguir la siguiente convención:\n",
    "\n",
    "- Único dispositivo: `/<parámetro>`\n",
    "- Múltiples dispositivos: `/<dispositivo>/<parámetro>`\n",
    "\n",
    "A modo de ejemplo, estos topics pueden ser:\n",
    "\n",
    "- `/humedad`\n",
    "- `/cocina/temperatura`\n",
    "\n",
    "El cliente MQTT no está disponible de forma nativa para MicroPython, por lo que es necesario instalarlo. Para esto, se utiliza el gestor de paquetes `upip` desde la línea de comandos de un dispositivo ESP32 con MicroPython y, a la vez, conectado a una red WiFi con acceso a internet."
   ]
  },
  {
   "cell_type": "code",
   "execution_count": null,
   "metadata": {
    "vscode": {
     "languageId": "python"
    }
   },
   "outputs": [],
   "source": [
    "import upip"
   ]
  },
  {
   "cell_type": "code",
   "execution_count": null,
   "metadata": {
    "vscode": {
     "languageId": "python"
    }
   },
   "outputs": [],
   "source": [
    "upip.install(\"micropython-umqtt.simple\")"
   ]
  },
  {
   "cell_type": "code",
   "execution_count": null,
   "metadata": {
    "vscode": {
     "languageId": "python"
    }
   },
   "outputs": [],
   "source": [
    "upip.install(\"micropython-umqtt.robust\")"
   ]
  },
  {
   "cell_type": "markdown",
   "metadata": {},
   "source": [
    "El cliente *simple* implementa el protocolo MQTT, mientras que el cliente *robust* construye sobre el cliente simple un mecanismo de reconexión en caso de pérdida de conexión al servidor. Para crear el cliente se puede ejecutar el siguiente script:"
   ]
  },
  {
   "cell_type": "code",
   "execution_count": null,
   "metadata": {
    "vscode": {
     "languageId": "python"
    }
   },
   "outputs": [],
   "source": [
    "from umqtt.robust import MQTTClient\n",
    "\n",
    "cliente = MQTTClient(\"nombre\", \"servidor\", keepalive=30)\n",
    "print(\"Conectando con servidor MQTT...\")\n",
    "\n",
    "cliente.connect(clean_session=False)\n",
    "print(\"Conectado\")"
   ]
  },
  {
   "cell_type": "markdown",
   "metadata": {},
   "source": [
    "De esta manera, se establece una conexión al servidor indicando el nombre del dispositivo, y con `keepalive` se especifica en segundos un *heartbeat* para mantener la conexión activa. Es importante tener en cuenta que los nombres de los dispositivos son únicos en la red por lo que es recomendable utilizar nombres distintos para cada conexión. Luego, se establece una conexión con `clean_session=False` para garantizar persistencia en el caso que se desconecte y sea necesario reconectar, como las suscripciones activas y mensajes pendientes (si el cliente usa QoS 1 o QoS 2).\n",
    "\n",
    "Es posible utilizar la MAC del dispositivo como `nombre`:"
   ]
  },
  {
   "cell_type": "code",
   "execution_count": null,
   "metadata": {
    "vscode": {
     "languageId": "python"
    }
   },
   "outputs": [],
   "source": [
    "# Obtener la dirección MAC\n",
    "mac = wlan.config('mac')\n",
    "mac_address = ':'.join('{:02x}'.format(b) for b in mac)\n",
    "print(\"Dirección MAC:\", mac_address)"
   ]
  },
  {
   "cell_type": "markdown",
   "metadata": {},
   "source": [
    "### 9.1. Suscripciones\n",
    "\n",
    "Una vez conectado el cliente, se puede suscribir a diferentes topic de forma tal que estará constantemente esperando la llegada de nuevos mensajes.\n",
    "\n",
    "Una vez que llegue un mensaje nuevo, se ejecuta una función callback que permita decidir qué hacer según el mensaje.\n",
    "\n",
    "Para suscribirse a un topic se usa el método subscribe y como parámetro un topic. Para conectarse a más topics, se puede repetir la invocación. Por otro lado, para escuchar todo los topics se puede utilizar `#` o `/jerarquía/#` para escuchar topics que pertenezcan a determinada jerarquía.\n",
    "\n",
    "También hay que definir la función `callback`, la cual es una función de Python con dos parámetros: `topic` y `msg` los cuales llegan en formato bytes y pueden ser convertidos a cadena de texto con el método `decode()`.\n",
    "\n",
    "Finalmente, se crea un bucle infinito dentro del cual se realiza la revisión de mensajes nuevos con el método del cliente `check_msg()`.\n",
    "\n",
    "A continuación se muestra un script de cómo incorporar esto al código anterior."
   ]
  },
  {
   "cell_type": "code",
   "execution_count": null,
   "metadata": {
    "vscode": {
     "languageId": "python"
    }
   },
   "outputs": [],
   "source": [
    "from umqtt.robust import MQTTClient\n",
    "from time import sleep_ms\n",
    "\n",
    "def callback(topic, msg):\n",
    "    topic = topic.decode()\n",
    "    msg = msg.decode()\n",
    "\n",
    "    if topic == \"/servidor\":\n",
    "        print(f\"Llegó {msg} de {topic}\")\n",
    "\n",
    "cliente = MQTTClient(\"nombre\", \"servidor\", keepalive=30)\n",
    "print(\"Conectando a servidor MQTT...\")\n",
    "cliente.set_callback(callback)\n",
    "cliente.connect(clean_session=False)\n",
    "print(\"Conectado\")\n",
    "cliente.subscribe(\"#\")\n",
    "\n",
    "while True:\n",
    "    cliente.check_msg()\n",
    "    sleep_ms(500)"
   ]
  },
  {
   "cell_type": "markdown",
   "metadata": {},
   "source": [
    "### 9.2. Publicaciones\n",
    "\n",
    "Para publicar dentro de un topic, no es necesaria ninguna configuración extra. Solo se utiliza el método del cliente `publish` con argumentos `topic` y `mensaje`."
   ]
  },
  {
   "cell_type": "code",
   "execution_count": null,
   "metadata": {
    "vscode": {
     "languageId": "python"
    }
   },
   "outputs": [],
   "source": [
    "cliente.publish(\"topic\", \"mensaje\")"
   ]
  },
  {
   "cell_type": "markdown",
   "metadata": {},
   "source": [
    "## 10. Ejemplo de aplicación: Adafruit IO\n",
    "\n",
    "[Adafruit IO](https://io.adafruit.com/) es una plataforma para acercar a todos el mundo del Internet de las cosas (IoT). Es una forma más sencilla de transmitir, registrar e interactuar con sus datos."
   ]
  },
  {
   "cell_type": "code",
   "execution_count": null,
   "metadata": {
    "vscode": {
     "languageId": "python"
    }
   },
   "outputs": [],
   "source": [
    "import network, urandom\n",
    "from umqtt.robust import MQTTClient\n",
    "from machine import Timer, Pin\n",
    "from time import sleep_ms\n",
    "\n",
    "#--- Credenciales ------------------------------------#\n",
    "wifi_ssid = \"ssid\"\n",
    "wifi_password = \"password\"\n",
    "\n",
    "mqtt_server = \"io.adafruit.com\"\n",
    "mqtt_user = \"user\"\n",
    "mqtt_password = \"aio_key\"\n",
    "mqtt_topic_1 = \"{user}/feeds/{feedname}\"\n",
    "mqtt_topic_2 = \"{user}/feeds/{feedname}\"\n",
    "\n",
    "#--- Setup ------------------------------------------#\n",
    "pin_2 = Pin(2, Pin.OUT, value=0)\n",
    "\n",
    "#--- Conexión a WiFi --------------------------------#\n",
    "wlan = network.WLAN(network.STA_IF)\n",
    "if not wlan.active():\n",
    "    wlan.active(True)\n",
    "\n",
    "if not wlan.isconnected():\n",
    "    wlan.connect(wifi_ssid, wifi_password)\n",
    "\n",
    "    print(\"Conectando...\")\n",
    "    while not wlan.isconnected():\n",
    "        sleep_ms(1000)\n",
    "\n",
    "config = wlan.ifconfig()\n",
    "print(f\"Conectado con ip {config[0]}\")\n",
    "\n",
    "#--- Conexión a MQTT --------------------------------#\n",
    "def callback(topic, msg):\n",
    "    topic = topic.decode()\n",
    "    msg = msg.decode()\n",
    "    print(f\"Llegó {msg} de {topic}\")\n",
    "\n",
    "    # De acuerdo al mensaje recibido, encender o apagar el pin 2\n",
    "    if topic == mqtt_topic_1 and msg == \"ON\":\n",
    "        pin_2.on()\n",
    "    elif topic == mqtt_topic_1 and msg == \"OFF\":\n",
    "        pin_2.off()\n",
    "\n",
    "# Obtener la dirección MAC para el ID del cliente\n",
    "mac = wlan.config('mac')\n",
    "mac_address = ':'.join('{:02x}'.format(b) for b in mac)\n",
    "print(\"Dirección MAC:\", mac_address)\n",
    "\n",
    "cliente = MQTTClient(mac_address, mqtt_server, user=mqtt_user, \n",
    "                        password=mqtt_password, keepalive=30)\n",
    "print(\"Conectando a Adafruit IO...\")\n",
    "cliente.set_callback(callback)\n",
    "cliente.connect(clean_session=False)\n",
    "print(\"Conectado\")\n",
    "cliente.subscribe(mqtt_topic_1)\n",
    "\n",
    "# Publicar en el servidor un valor aleatorio\n",
    "def publisher(timer):\n",
    "    temperature = urandom.randint(0, 50)\n",
    "    print(\"Publicando\", temperature, \"°C\")\n",
    "    cliente.publish(mqtt_topic_2, str(temperature))\n",
    "\n",
    "tim = Timer(0)\n",
    "tim.init(period=10000, mode=Timer.PERIODIC, callback=publisher)\n",
    "\n",
    "#--- Bucle infinito ----------------------------------#\n",
    "while True:\n",
    "    cliente.check_msg()\n",
    "    sleep_ms(500)"
   ]
  },
  {
   "cell_type": "markdown",
   "metadata": {},
   "source": [
    "## 11. Programación asincrónica: ejecutar múltiples tareas\n",
    "\n",
    "[MicroPython: ESP32/ESP8266 Asynchronous Programming – Run Multiple Tasks](https://randomnerdtutorials.com/micropython-esp32-esp8266-asynchronous-programming/)"
   ]
  },
  {
   "cell_type": "code",
   "execution_count": null,
   "metadata": {
    "vscode": {
     "languageId": "python"
    }
   },
   "outputs": [],
   "source": [
    "# Rui Santos & Sara Santos - Random Nerd Tutorials\n",
    "# Complete project details at https://RandomNerdTutorials.com/micropython-esp32-esp8266-asynchronous-programming/\n",
    "\n",
    "import asyncio\n",
    "from machine import Pin\n",
    "\n",
    "green_led_pin = 14\n",
    "green_led = Pin(green_led_pin, Pin.OUT)\n",
    "blue_led_pin = 12\n",
    "blue_led = Pin(blue_led_pin, Pin.OUT)\n",
    "\n",
    "# Define coroutine function\n",
    "async def blink_green_led():\n",
    "    while True:\n",
    "        green_led.value(not green_led.value() )\n",
    "        await asyncio.sleep(0.5) \n",
    "\n",
    "# Define coroutine function\n",
    "async def blink_blue_led():\n",
    "    while True:\n",
    "        blue_led.value(not blue_led.value())\n",
    "        await asyncio.sleep(1)\n",
    "\n",
    "# Define the main function to run the event loop\n",
    "async def main():\n",
    "    # Create tasks for blinking two LEDs concurrently\n",
    "    asyncio.create_task(blink_green_led())\n",
    "    asyncio.create_task(blink_blue_led())\n",
    "\n",
    "# Create and run the event loop\n",
    "loop = asyncio.get_event_loop()  \n",
    "loop.create_task(main())  # Create a task to run the main function\n",
    "loop.run_forever()  # Run the event loop indefinitely"
   ]
  }
 ],
 "metadata": {
  "kernelspec": {
   "display_name": "MicroPython - USB",
   "language": "micropython",
   "name": "micropython"
  },
  "language_info": {
   "codemirror_mode": "python",
   "file_extension": ".py",
   "mimetype": "text/python",
   "name": "micropython"
  }
 },
 "nbformat": 4,
 "nbformat_minor": 2
}
