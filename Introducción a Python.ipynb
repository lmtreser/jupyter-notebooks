{
 "cells": [
  {
   "cell_type": "markdown",
   "metadata": {},
   "source": [
    "# Introducción a Python\n",
    "\n",
    "---\n",
    "\n",
    "*Esta Notebook fue confeccionada mediante material original del Laboratorio de Instrumentación Virtual y Robótica Aplicada (LIVRA) de la Facultad de Ingeniería de la Universidad Nacional de Mar del Plata.*\n",
    "\n",
    "---\n",
    "\n",
    "## 0. Introducción\n",
    "\n",
    "Python es un lenguaje de alto nivel, de fácil aprendizaje con un simple pero efectivo enfoque orientado a objetos. Cuenta con una sintaxis elegante con tipos dinámicos. El código es interpretado, es decir que pasa por un programa intérprete que lo ejecuta línea por línea.\n",
    "\n",
    "¿Por qué Python? Existen una gran cantidad de lenguajes de programación, cada uno de ellos con sus particularidades. Para esta capacitación hemos elegido Python, entre otros motivos por:\n",
    "\n",
    "- Curva de aprendizaje poco pronunciada.\n",
    "- Flexibilidad\n",
    "- Disponibilidad en una gran variedad de sistemas operativos\n",
    "- Es una herramienta libre y gratuita.\n",
    "\n",
    "A partir del intérprete podemos ejecutar instrucciones y obtener el resultado de forma inmediata o ejecutar un programa entero, almacenado con extensión `.py`. Al usar el intérprete, se indica con `>>>` que está esperando una instrucción. También podemos agregar comentarios usando `#` que hace\n",
    "que el resto de la línea a partir del `#` sea un comentario y se ignore para la ejecución.\n",
    "\n",
    "## 1. Tipos de datos\n",
    "\n",
    "- **Simples:** `int` (enteros), `float` (reales), `str` (strings, cadenas), `bool` (lógicos).\n",
    "- **Estructuras de datos:** listas, tuplas, diccionarios.\n",
    "\n",
    "Podemos verificar el tipo de datos mediante la función `type()`:"
   ]
  },
  {
   "cell_type": "code",
   "execution_count": null,
   "metadata": {},
   "outputs": [],
   "source": [
    "type(2)"
   ]
  },
  {
   "cell_type": "code",
   "execution_count": null,
   "metadata": {},
   "outputs": [],
   "source": [
    "type(\"Hola Mundo!\")"
   ]
  },
  {
   "cell_type": "markdown",
   "metadata": {},
   "source": [
    "\n",
    "Es posible convertir (castear) un tipo de dato en otro:\n",
    "\n",
    "- int (cadena)          --> Entero\n",
    "- float (cadena)        --> Coma flotante\n",
    "- str (entero)          --> Cadena\n",
    "- str (coma flotante)   --> Cadena\n",
    "\n",
    "Por ejemplo:"
   ]
  },
  {
   "cell_type": "code",
   "execution_count": null,
   "metadata": {},
   "outputs": [],
   "source": [
    "var_1 = 2\n",
    "type(var_1)"
   ]
  },
  {
   "cell_type": "code",
   "execution_count": null,
   "metadata": {},
   "outputs": [],
   "source": [
    "var_2 = str(var_1)\n",
    "type(var_2)"
   ]
  },
  {
   "cell_type": "markdown",
   "metadata": {},
   "source": [
    "## 2. Operaciones con números\n",
    "\n",
    "Las operaciones numéricas se ingresan de la forma esperada, respetando el orden de operaciones. Los símbolos utilizados son:\n",
    "\n",
    "- `+` suma\n",
    "- `-` resta\n",
    "- `*` multiplicación\n",
    "- `/` división\n",
    "- `//` división entera (descarta decimales)\n",
    "- `%` resto de la división\n",
    "- `**` potencia\n",
    "\n",
    "Por ejemplo:"
   ]
  },
  {
   "cell_type": "code",
   "execution_count": null,
   "metadata": {},
   "outputs": [],
   "source": [
    "2 + 2\n",
    "# Devuelve 4"
   ]
  },
  {
   "cell_type": "code",
   "execution_count": null,
   "metadata": {},
   "outputs": [],
   "source": [
    "50 - 5*6\n",
    "# Devuelve 20"
   ]
  },
  {
   "cell_type": "code",
   "execution_count": null,
   "metadata": {},
   "outputs": [],
   "source": [
    "(50 - 5*6) / 4\n",
    "# Devuelve 5.0"
   ]
  },
  {
   "cell_type": "code",
   "execution_count": null,
   "metadata": {},
   "outputs": [],
   "source": [
    "8 / 5\n",
    "# Devuelve 1.6"
   ]
  },
  {
   "cell_type": "code",
   "execution_count": null,
   "metadata": {},
   "outputs": [],
   "source": [
    "8 // 5\n",
    "# Devuelve 1"
   ]
  },
  {
   "cell_type": "code",
   "execution_count": null,
   "metadata": {},
   "outputs": [],
   "source": [
    "8 % 5\n",
    "# Devuelve 3"
   ]
  },
  {
   "cell_type": "code",
   "execution_count": null,
   "metadata": {},
   "outputs": [],
   "source": [
    "3**2\n",
    "# Devuelve 9"
   ]
  },
  {
   "cell_type": "markdown",
   "metadata": {},
   "source": [
    "La función **input()** proporciona un mecanismo para que el usuario introduzca datos en nuestro programa. Muestra el cursor en la terminal, lee lo que se escriba, y cuando se presiona `enter`, ese contenido, en formato de *cadena de caracteres*, se puede asignar a una variable.\n",
    "\n",
    "`nombre = input(\"Mensaje al usuario: )`\n",
    "\n",
    "Por ejemplo:"
   ]
  },
  {
   "cell_type": "code",
   "execution_count": null,
   "metadata": {},
   "outputs": [],
   "source": [
    "var = input(\"Introduce un número: \")\n",
    "# operacion = var + 5\n",
    "operacion = int(var) + 5\n",
    "print(operacion)"
   ]
  },
  {
   "cell_type": "markdown",
   "metadata": {},
   "source": [
    "## 3. Variables\n",
    "\n",
    "Una vez obtenidos los resultados, se pueden almacenar en una variable. No es necesario indicar el tipo de la variable como también se pueden almacenar diferentes tipos de valores dentro de una misma variable. Para esto se utiliza el símbolo `=`, como por ejemplo:"
   ]
  },
  {
   "cell_type": "code",
   "execution_count": null,
   "metadata": {},
   "outputs": [],
   "source": [
    "a = 1 + 2\n",
    "b = a / 2\n",
    "b               \n",
    "# Devuelve 1.5"
   ]
  },
  {
   "cell_type": "code",
   "execution_count": null,
   "metadata": {},
   "outputs": [],
   "source": [
    "b = \"texto\"\n",
    "b\n",
    "# Devuelve 'texto'"
   ]
  },
  {
   "cell_type": "markdown",
   "metadata": {},
   "source": [
    "También se puede combinar un operador con la asignación para modificar una variable:"
   ]
  },
  {
   "cell_type": "code",
   "execution_count": null,
   "metadata": {},
   "outputs": [],
   "source": [
    "a = 1\n",
    "a += 1\n",
    "a\n",
    "# Devuelve 2"
   ]
  },
  {
   "cell_type": "code",
   "execution_count": null,
   "metadata": {},
   "outputs": [],
   "source": [
    "a *= 2\n",
    "a\n",
    "# Devuelve 4"
   ]
  },
  {
   "cell_type": "code",
   "execution_count": null,
   "metadata": {},
   "outputs": [],
   "source": [
    "a /= 2\n",
    "a\n",
    "# Devuelve 2.0"
   ]
  },
  {
   "cell_type": "markdown",
   "metadata": {},
   "source": [
    "Como se observa en el ejemplo, al ingresar como instrucción el nombre de una variable, en el intérprete muestra el valor de la misma. Sin embargo, hay otra forma de mostrar información y es utilizando la instrucción `print()`:"
   ]
  },
  {
   "cell_type": "code",
   "execution_count": null,
   "metadata": {},
   "outputs": [],
   "source": [
    "print(b)"
   ]
  },
  {
   "cell_type": "markdown",
   "metadata": {},
   "source": [
    "Es posible ingresar varios parámetros y se presentarán todos separados por espacios:"
   ]
  },
  {
   "cell_type": "code",
   "execution_count": null,
   "metadata": {},
   "outputs": [],
   "source": [
    "print(\"cadena\", 1, 2, b)"
   ]
  },
  {
   "cell_type": "markdown",
   "metadata": {},
   "source": [
    "## 4. Cadenas de texto\n",
    "\n",
    "Existen tres maneras de ingresar texto con Python:\n",
    "\n",
    "- \"texto\"\n",
    "- 'texto'\n",
    "- \"\"\"texto\n",
    "  multilínea\"\"\"\n",
    "\n",
    "Pueden utilizarse de forma indistinta pero en las cadenas de texto encerradas por comillas simples, pueden ingresarse comillas dobles y viceversa.\n",
    "\n",
    "Existen cadenas de textos especiales que sirven para incluir variables dentro de ellas. Se denominan *f-strings* y se utilizan colocando una `f` delante de las comillas. Un f-string es una forma conveniente y rápida de formatear cadenas de texto. Su nombre viene de \"formatted string\" y permite incrustar expresiones directamente en una cadena, sin necesidad de concatenarlas manualmente. Dentro de la cadena se pueden indicar el nombre de las variables, su formato y algunos otros parámetros como por ejemplo:"
   ]
  },
  {
   "cell_type": "code",
   "execution_count": null,
   "metadata": {},
   "outputs": [],
   "source": [
    "pi = 3.14159\n",
    "print(f\"La variable pi contiene el valor {pi}\")"
   ]
  },
  {
   "cell_type": "code",
   "execution_count": null,
   "metadata": {},
   "outputs": [],
   "source": [
    "# Formateo de cadenas\n",
    "print(f\"{pi=}\")"
   ]
  },
  {
   "cell_type": "code",
   "execution_count": null,
   "metadata": {},
   "outputs": [],
   "source": [
    "# Formateo de cadenas\n",
    "pi=3.14159\n",
    "print(f\"Ahora con menos decimales: {pi:.2f}\")"
   ]
  },
  {
   "cell_type": "markdown",
   "metadata": {},
   "source": [
    "Las cadenas de texto tienen métodos asociados (funciones pertenecientes a objetos) que permiten manipularlas y obtener información relevante sobre ella. Se puede encontrar en el [manual de referencia](https://docs.python.org/es/3/library/stdtypes.html#string-methods) un listado de todos esos métodos. A continuación se presentan algunos ejemplos útiles:"
   ]
  },
  {
   "cell_type": "code",
   "execution_count": null,
   "metadata": {},
   "outputs": [],
   "source": [
    "# Divide el string en una lista de palabras, separadas por espacios\n",
    "texto = \"abc def ghi jkl\"\n",
    "texto.split(\" \")"
   ]
  },
  {
   "cell_type": "code",
   "execution_count": null,
   "metadata": {},
   "outputs": [],
   "source": [
    "# Busca la primera aparición de una subcadena dentro de la cadena texto. \n",
    "# Devuelve el índice; si no, devuelve -1.\n",
    "texto.find(\"def\")"
   ]
  },
  {
   "cell_type": "markdown",
   "metadata": {},
   "source": [
    "Los índices en las cadenas de Python comienzan desde 0. Cada carácter tiene una posición numérica en la cadena, y se cuentan desde el inicio. Así, para \"abc def ghi jkl\":\n",
    "\n",
    "- 'a' está en el índice 0\n",
    "- 'b' está en el índice 1\n",
    "- 'c' está en el índice 2\n",
    "- ' ' (espacio) está en el índice 3\n",
    "- 'd' está en el índice 4 (donde comienza \"def\")"
   ]
  },
  {
   "cell_type": "code",
   "execution_count": null,
   "metadata": {},
   "outputs": [],
   "source": [
    "# Devuelve el carácter en la posición 4\n",
    "texto[texto.find(\"def\")]"
   ]
  },
  {
   "cell_type": "code",
   "execution_count": null,
   "metadata": {},
   "outputs": [],
   "source": [
    "# Reemplaza todas las apariciones de la subcadena \"def\" en la cadena texto con la subcadena \"abc\".\n",
    "texto.replace(\"def\", \"abc\")"
   ]
  },
  {
   "cell_type": "markdown",
   "metadata": {},
   "source": [
    "El cambio anterior no modifica la cadena original *texto*, ya que las cadenas en Python son inmutables. En su lugar, `.replace()` devuelve una nueva cadena con los reemplazos realizados."
   ]
  },
  {
   "cell_type": "code",
   "execution_count": null,
   "metadata": {},
   "outputs": [],
   "source": [
    "texto"
   ]
  },
  {
   "cell_type": "markdown",
   "metadata": {},
   "source": [
    "## 5. Estructuras de datos\n",
    "\n",
    "Las estructuras de datos en Python se pueden entender como un tipo de dato compuesto, debido a que en una misma variable podemos almacenar una estructura completa con información.\n",
    "\n",
    "Las estructuras de datos son útiles para solucionar una gran variedad de problemas que serían complejos de resolver con las herramientas que hemos visto hasta ahora. Nos permiten *agrupar* fácilmente un conjunto de datos, normalmente relacionados entre si, y operar fácilmente con ellos.\n",
    "\n",
    "Python nos proporciona métodos para ordenar, agregar, eliminar, mostrar, recorrer, entre otros, los elementos de estas estructura, de una forma sencilla.\n",
    "\n",
    "### 5.1 Listas\n",
    "\n",
    "Las listas permiten almacenar múltiples valores en una variable. Son similares a lo que en otros lenguajes denominan arrays o vectores. Estas estructuras son dinámicas por lo que se pueden agregar o quitar elementos una vez creados. Para crear una lista se utilizan el par de corchetes `[]` con los elementos separados por comas o mediante el método `list()`:"
   ]
  },
  {
   "cell_type": "code",
   "execution_count": null,
   "metadata": {},
   "outputs": [],
   "source": [
    "# Listas vacías\n",
    "mi_lista = []\n",
    "otra_lista = list()"
   ]
  },
  {
   "cell_type": "code",
   "execution_count": null,
   "metadata": {},
   "outputs": [],
   "source": [
    "# Listas con valores\n",
    "alumnos = [\"Juan\", \"María\", \"Luis\"]\n",
    "notas = [7, 8, 5, 9]"
   ]
  },
  {
   "cell_type": "code",
   "execution_count": null,
   "metadata": {},
   "outputs": [],
   "source": [
    "# Listas con diferentes tipos de datos\n",
    "datos = [1, \"texto\", 3.14, True]"
   ]
  },
  {
   "cell_type": "code",
   "execution_count": null,
   "metadata": {},
   "outputs": [],
   "source": [
    "a = [1, 2, 3]"
   ]
  },
  {
   "cell_type": "markdown",
   "metadata": {},
   "source": [
    "Para acceder a los elementos de una lista, se selecciona el índice comenzando por `0`. También podemos acceder mediante un índice negativo:"
   ]
  },
  {
   "cell_type": "code",
   "execution_count": null,
   "metadata": {},
   "outputs": [],
   "source": [
    "a[0]\n",
    "# Devuelve 1"
   ]
  },
  {
   "cell_type": "code",
   "execution_count": null,
   "metadata": {},
   "outputs": [],
   "source": [
    "a[-3]\n",
    "# Devuelve 1"
   ]
  },
  {
   "cell_type": "code",
   "execution_count": null,
   "metadata": {},
   "outputs": [],
   "source": [
    "a[1]\n",
    "# Devuelve 2"
   ]
  },
  {
   "cell_type": "markdown",
   "metadata": {},
   "source": [
    "Podemos agregar elementos o combinar listas simplemente concatenando:"
   ]
  },
  {
   "cell_type": "code",
   "execution_count": null,
   "metadata": {},
   "outputs": [],
   "source": [
    "a = [1, 2, 3]\n",
    "b = a + [4, 5, 6]\n",
    "print(b)"
   ]
  },
  {
   "cell_type": "markdown",
   "metadata": {},
   "source": [
    "También se puede obtener una sublista (tajada o slice), a partir del rango de los índices indicando desde qué índice, hasta cuál y con qué paso. Estos valores pueden omitirse. El primero corresponde al primer índice de la lista y, en caso de omitirse, corresponde al primero de la lista. El segundo, es el último índice no inclusive de la lista que si se omite es el último de la lista. Por último el paso es en cuánto incrementa el índice que, al omitirlo, es 1. En resumen: `lista[inicio:fin:paso]`.\n",
    "\n",
    "Si se omiten estos valores, por defecto se asume inicio como 0, fin como la cantidad de elementos de la lista y paso como 1. A continuación se muestran unos ejemplos de su uso:"
   ]
  },
  {
   "cell_type": "code",
   "execution_count": null,
   "metadata": {},
   "outputs": [],
   "source": [
    "a[1:2]\n",
    "# Devuelve [2]"
   ]
  },
  {
   "cell_type": "code",
   "execution_count": null,
   "metadata": {},
   "outputs": [],
   "source": [
    "a[:2]\n",
    "# Devuelve [1, 2]"
   ]
  },
  {
   "cell_type": "code",
   "execution_count": null,
   "metadata": {},
   "outputs": [],
   "source": [
    "a[1:]\n",
    "# Devuelve [2, 3]"
   ]
  },
  {
   "cell_type": "code",
   "execution_count": null,
   "metadata": {},
   "outputs": [],
   "source": [
    "a[0:3]\n",
    "# Devuelve [1, 2, 3]"
   ]
  },
  {
   "cell_type": "code",
   "execution_count": null,
   "metadata": {},
   "outputs": [],
   "source": [
    "a[0:3:2]\n",
    "# Devuelve [1, 3]"
   ]
  },
  {
   "cell_type": "code",
   "execution_count": null,
   "metadata": {},
   "outputs": [],
   "source": [
    "a[::2]\n",
    "# Notación de paso, toma todas las posiciones pares. Devuelve [1, 3]"
   ]
  },
  {
   "cell_type": "markdown",
   "metadata": {},
   "source": [
    "Podemos iterar una lista utilizando un bucle `for`. El bucle recorre la lista `b`, asignando sus elementos a `elemento`, de uno en uno. El elemento con índice `0` se asigna en la primer iteración, el que tiene indice `1` en la segunda, y así hasta recorrer la lista completa."
   ]
  },
  {
   "cell_type": "code",
   "execution_count": null,
   "metadata": {},
   "outputs": [],
   "source": [
    "for elemento in b:\n",
    "    print(elemento)"
   ]
  },
  {
   "cell_type": "markdown",
   "metadata": {},
   "source": [
    "Para agregar un elemento a la lista, se pueden usar los métodos (propios de cada lista) `append()` para agregar al final e `insert()` para agregar en un índice determinado. También se puede utilizar la función `len()` para consultar la cantidad de elementos que contiene. Por último, se puede utilizar la palabra clave del para eliminar un elemento de la lista:"
   ]
  },
  {
   "cell_type": "code",
   "execution_count": null,
   "metadata": {},
   "outputs": [],
   "source": [
    "a"
   ]
  },
  {
   "cell_type": "code",
   "execution_count": null,
   "metadata": {},
   "outputs": [],
   "source": [
    "# lista.append(elemento) añade elemento al final de la lista\n",
    "a.append(4)\n",
    "a"
   ]
  },
  {
   "cell_type": "code",
   "execution_count": null,
   "metadata": {},
   "outputs": [],
   "source": [
    "# len() devuelve la longitud de la lista\n",
    "len(a)"
   ]
  },
  {
   "cell_type": "code",
   "execution_count": null,
   "metadata": {},
   "outputs": [],
   "source": [
    "# insert(posición, elemento) inserta elemento en la posición indicada\n",
    "a.insert(1, 100)\n",
    "a"
   ]
  },
  {
   "cell_type": "code",
   "execution_count": null,
   "metadata": {},
   "outputs": [],
   "source": [
    "# sort() ordena la lista\n",
    "a.sort()\n",
    "print(a)"
   ]
  },
  {
   "cell_type": "code",
   "execution_count": null,
   "metadata": {},
   "outputs": [],
   "source": [
    "# reverse() invierte la lista\n",
    "a.reverse()\n",
    "print(a)"
   ]
  },
  {
   "cell_type": "code",
   "execution_count": null,
   "metadata": {},
   "outputs": [],
   "source": [
    "len(a)"
   ]
  },
  {
   "cell_type": "code",
   "execution_count": null,
   "metadata": {},
   "outputs": [],
   "source": [
    "# remove(elemento) elimina el elemento indicado\n",
    "a.remove(100)"
   ]
  },
  {
   "cell_type": "code",
   "execution_count": null,
   "metadata": {},
   "outputs": [],
   "source": [
    "# del lista[posición] elimina el elemento en la posición indicada\n",
    "del a[1]\n",
    "a"
   ]
  },
  {
   "cell_type": "code",
   "execution_count": null,
   "metadata": {},
   "outputs": [],
   "source": [
    "# pop(indice) elimina el elemento en la posición indicada y lo devuelve\n",
    "a.pop(1)"
   ]
  },
  {
   "cell_type": "code",
   "execution_count": null,
   "metadata": {},
   "outputs": [],
   "source": [
    "# pop() elimina el último elemento de la lista y lo devuelve\n",
    "a.pop()"
   ]
  },
  {
   "cell_type": "markdown",
   "metadata": {},
   "source": [
    "### 5.1 Tuplas\n",
    "\n",
    "Las tuplas son secuencias ordenadas de datos. A diferencia de las listas, las tuplas son *inmutables*. Se representan mediante valores separados por comas, entre paréntesis. Los elementos de las tuplas pueden ser de tipos diferentes:"
   ]
  },
  {
   "cell_type": "code",
   "execution_count": null,
   "metadata": {},
   "outputs": [],
   "source": [
    "tupla = (\"Juan\", 9, 12.35, False)"
   ]
  },
  {
   "cell_type": "markdown",
   "metadata": {},
   "source": [
    "Podemos acceder a los elementos de la tupla mediante un índice positivo o negativo:"
   ]
  },
  {
   "cell_type": "code",
   "execution_count": null,
   "metadata": {},
   "outputs": [],
   "source": [
    "tupla[0]"
   ]
  },
  {
   "cell_type": "code",
   "execution_count": null,
   "metadata": {},
   "outputs": [],
   "source": [
    "tupla[-4]"
   ]
  },
  {
   "cell_type": "markdown",
   "metadata": {},
   "source": [
    "Podemos agregar elementos o combinar tuplas simplemente concatenando:"
   ]
  },
  {
   "cell_type": "code",
   "execution_count": null,
   "metadata": {},
   "outputs": [],
   "source": [
    "tupla2 = tupla + (\"María\", 8)\n",
    "print(tupla2)"
   ]
  },
  {
   "cell_type": "markdown",
   "metadata": {},
   "source": [
    "Podemos obtener una “tajada” (slice) de una tupla mediante la siguiente operación: `tupla[inicio:fin]`. Si pasamos tres valores, `tupla[inicio:fin:paso]`, el tercero indica el “salto” entre uno y el siguiente."
   ]
  },
  {
   "cell_type": "code",
   "execution_count": null,
   "metadata": {},
   "outputs": [],
   "source": [
    "tupla2[1:3]\n",
    "# Devuelve (9, 12.35)"
   ]
  },
  {
   "cell_type": "code",
   "execution_count": null,
   "metadata": {},
   "outputs": [],
   "source": [
    "tupla2[0:5:2]\n",
    "# Devuelve ('Juan', 12.35, 'María')"
   ]
  },
  {
   "cell_type": "markdown",
   "metadata": {},
   "source": [
    "### 5.3. Diccionarios\n",
    "\n",
    "Los diccionarios en Python nos permiten almacenar relaciones entre dos conjuntos de elementos, llamados `keys` and `values` (Claves y Valores).\n",
    "\n",
    "- Todos los elementos en el diccionario se encuentran encerrados en un par de llaves `{ }`.\n",
    "- Cada elemento en un diccionario contiene una clave y un valor, es decir, un par de clave-valor.\n",
    "- Cada par de clave-valor es elemento (ítem) del diccionario.\n",
    "- La ventaja de esto es que puedes acceder a todos los valores almacenados usando simplemente las claves.\n",
    "\n",
    "El diccionario `notas` posee 4 elementos. Sus “índices” son los nombres que aparecen antes de los `:`, y el valor es el número que corresponde, en este caso, a la nota del alumno:"
   ]
  },
  {
   "cell_type": "code",
   "execution_count": null,
   "metadata": {},
   "outputs": [],
   "source": [
    "notas = {\"Juan\": 9, \"María\": 8, \"Luis\": 5}"
   ]
  },
  {
   "cell_type": "code",
   "execution_count": null,
   "metadata": {},
   "outputs": [],
   "source": [
    "# Se accede a los elementos del diccionario utilizando las claves a modo de índice\n",
    "notas[\"Juan\"]"
   ]
  },
  {
   "cell_type": "markdown",
   "metadata": {},
   "source": [
    "Las claves de un diccionario son únicas. Si intentamos agregar a un diccionario un nuevo elemento y su clave ya existe en el mismo, lo que ocurre es que reemplazamos el valor asociado a esa clave:"
   ]
  },
  {
   "cell_type": "code",
   "execution_count": null,
   "metadata": {},
   "outputs": [],
   "source": [
    "# El valor de una clave se puede modificar\n",
    "notas[\"Juan\"] = 10\n",
    "print(notas)"
   ]
  },
  {
   "cell_type": "code",
   "execution_count": null,
   "metadata": {},
   "outputs": [],
   "source": [
    "# Se añade un nuevo elemento al diccionario\n",
    "notas[\"Marta\"] = 7\n",
    "print(notas)"
   ]
  },
  {
   "cell_type": "markdown",
   "metadata": {},
   "source": [
    "Y si queremos recorrer un diccionario, tal como hicimos con las listas, podemos usar bucles:"
   ]
  },
  {
   "cell_type": "code",
   "execution_count": null,
   "metadata": {},
   "outputs": [],
   "source": [
    "for alumnos in notas:\n",
    "    print(\"El alumno\", alumnos, \"tiene un\", notas[alumnos])"
   ]
  },
  {
   "cell_type": "markdown",
   "metadata": {},
   "source": [
    "## 6. Control de flujo\n",
    "\n",
    "Para controlar la forma en la que se ejecuta una porción de código, podemos encontrar a la palabra clave `if` para ejecutar algo bajo ciertas condiciones y las palabras claves `for` y `while` para repetir un bloque de código.\n",
    "\n",
    "Otros lenguajes utilizan símbolos como `\\{\\}` o `begin-end` para encerrar un bloque, sin embargo, Python requiere ubicarlos dentro de cierto nivel de indentación, es decir las instrucciones deben tener la misma cantidad de espacios al comienzo de la línea. Una forma de garantizarlo es usando la tecla `<Tab>` donde, según el editor, usa el caracter especial de tabulación o convierte automáticamente a una cantidad de espacios.\n",
    "\n",
    "### 6.1. Condicionales\n",
    "\n",
    "Se componen de la palabra clave `if` seguida de una condición que pueda evaluarse como verdadero (`True`) o falso (`False`) y dos puntos `:`. El bloque siguiente de código se evalúa siempre y cuando la condición sea verdadera:"
   ]
  },
  {
   "cell_type": "code",
   "execution_count": null,
   "metadata": {},
   "outputs": [],
   "source": [
    "a = 1\n",
    "\n",
    "if a == 1:\n",
    "    print(\"La condición es verdadera\")\n",
    "    print(\"Esto se ejecuta siempre\")"
   ]
  },
  {
   "cell_type": "markdown",
   "metadata": {},
   "source": [
    "Algunos operadores que se pueden utilizar para generar las condiciones son:\n",
    "\n",
    "- `==` compara igualdad\n",
    "- `!=` compara desigualdad\n",
    "- `>` compara si es mayor\n",
    "- `<` compara si es menor\n",
    "- `>=` compara si es mayor o igual\n",
    "- `<=` compara si es menor o igual\n",
    "- `in` verifica pertenencia en una lista, en una cadena de caracteres, etc.\n",
    "\n",
    "Operadores lógicos:\n",
    "\n",
    "- `and` (y) Es verdadero cuando ambas condiciones son verdaderas\n",
    "- `or` (o) Es falso cuando ambas condiciones son falsas\n",
    "- `not` (no) Cambia falso por verdadero y viceversa.\n",
    "\n",
    "Estos operadores producen un valor booleano:"
   ]
  },
  {
   "cell_type": "code",
   "execution_count": null,
   "metadata": {},
   "outputs": [],
   "source": [
    "# Igualdad\n",
    "1 == 2"
   ]
  },
  {
   "cell_type": "code",
   "execution_count": null,
   "metadata": {},
   "outputs": [],
   "source": [
    "# Desigualdad\n",
    "1 != 2"
   ]
  },
  {
   "cell_type": "code",
   "execution_count": null,
   "metadata": {},
   "outputs": [],
   "source": [
    "# Pertenencia\n",
    "\"a\" in \"abcdef\""
   ]
  },
  {
   "cell_type": "code",
   "execution_count": null,
   "metadata": {},
   "outputs": [],
   "source": [
    "# Pertenece a la lista\n",
    "4 in [1, 2]"
   ]
  },
  {
   "cell_type": "markdown",
   "metadata": {},
   "source": [
    "Si la condición no es verdadera, es posible redireccionar el flujo a otro bloque usando las palabras claves `else` y `elif`. Ambas se utilizan para los casos en que la condición inicial es falsa pero, en la segunda, vuelve a evaluar una nueva condición como si fuera else seguido de `if`:"
   ]
  },
  {
   "cell_type": "code",
   "execution_count": null,
   "metadata": {},
   "outputs": [],
   "source": [
    "a = 1\n",
    "\n",
    "if a == 1:\n",
    "    print(\"a es 1\")\n",
    "elif a > 1:\n",
    "    print(\"a no es 1 pero es mayor a 1, es:\", a)\n",
    "else:\n",
    "    print(\"a no es 1 ni es mayor a 1, es:\", a)"
   ]
  },
  {
   "cell_type": "code",
   "execution_count": 4,
   "metadata": {},
   "outputs": [],
   "source": [
    "a = 0\n",
    "\n",
    "if a > 0 and a < 10:\n",
    "    print(\"a es un número positivo menor a 10\")"
   ]
  },
  {
   "cell_type": "markdown",
   "metadata": {},
   "source": [
    "### 6.2. Ciclos\n",
    "\n",
    "Podemos distinguir dos tipos de bucles: for y while. El primero repite un bloque de código hasta agotar un conjunto de valores iterables, mientras que el segundo se repite hasta que se cumpla cierta condición. Para ambos casos, el ciclo puede ser interrumpido arbitrariamente usando la palabra clave `break`.\n",
    "\n",
    "Para el caso del ciclo `for`, lo que se ingresa a continuación es una (o varias) variables que se asignan al comienzo de cada repetición seguido de la palabra clave `in` y un *iterable*. Esto último se refiere a algo que contenga o genere una cantidad limitada elementos de forma ordenada. Dos formas básicas de utilizarlo es con el iterable que genera la función `range()` y la otra es recorriendo los elementos de una lista. \n",
    "\n",
    "A `range()` se le pueden pasar hasta tres parámetros separados por coma, donde el primero es el inicio de la secuencia, el segundo es el final y el tercero es el salto que se desea entre números.\n",
    "\n",
    "`range(inicio, final, salto)`"
   ]
  },
  {
   "cell_type": "code",
   "execution_count": null,
   "metadata": {},
   "outputs": [],
   "source": [
    "range(5)\n",
    "# 1, 2, 3, 4\n",
    "\n",
    "range(4,8)\n",
    "# 4, 5, 6, 7\n",
    "\n",
    "range(5, 12, 3)\n",
    "# 5, 8, 11"
   ]
  },
  {
   "cell_type": "markdown",
   "metadata": {},
   "source": [
    "Ejemplo de uso de `for` y `range()`:"
   ]
  },
  {
   "cell_type": "code",
   "execution_count": null,
   "metadata": {},
   "outputs": [],
   "source": [
    "for i in range(5):\n",
    "    print(i)"
   ]
  },
  {
   "cell_type": "code",
   "execution_count": null,
   "metadata": {},
   "outputs": [],
   "source": [
    "for i in range(1, 5):\n",
    "    print(i)"
   ]
  },
  {
   "cell_type": "code",
   "execution_count": null,
   "metadata": {},
   "outputs": [],
   "source": [
    "for i in [1, 2, 3, 4]:\n",
    "    print(i)"
   ]
  },
  {
   "cell_type": "markdown",
   "metadata": {},
   "source": [
    "Por otro lado, el ciclo `while` se repite hasta que la condición sea falsa:"
   ]
  },
  {
   "cell_type": "code",
   "execution_count": null,
   "metadata": {},
   "outputs": [],
   "source": [
    "a = 0\n",
    "\n",
    "while a < 3:\n",
    "    print(a)\n",
    "    a += 1"
   ]
  },
  {
   "cell_type": "markdown",
   "metadata": {},
   "source": [
    "Se puede generar un ciclo infinito colocando siempre el valor verdadero:"
   ]
  },
  {
   "cell_type": "code",
   "execution_count": null,
   "metadata": {},
   "outputs": [],
   "source": [
    "while True:\n",
    "    print(\"Se repite infinitamente\")"
   ]
  },
  {
   "cell_type": "markdown",
   "metadata": {},
   "source": [
    "En este caso, podemos interrumpir la ejecución del ciclo usando la combinación `<Ctrl-C>`.\n",
    "\n",
    "## 6.3. Excepciones\n",
    "\n",
    "Al producirse algún error durante la ejecución, Python corta la ejecución y muestra una excepción que permite dar una idea de dónde puede prevenir el error. Normalmente vienen asociadas a un tipo (`ValueError`, `IndexError`, `NameError`, etc.) en relación al error producido. Sin embargo, es posible capturar estos errores utilizando las palabras claves `try` y `except` durante ejecución y realizar algo al respecto. Esto se puede usar para salvar el error y continuar con la ejecución. Por ejemplo, si queremos acceder a una variable que no existe:"
   ]
  },
  {
   "cell_type": "code",
   "execution_count": null,
   "metadata": {},
   "outputs": [],
   "source": [
    "variable"
   ]
  },
  {
   "cell_type": "markdown",
   "metadata": {},
   "source": [
    "En este caso, se produce un `NameError` indicando que la variable no está definida. Si colocamos un bloque `try`, podemos capturar esta excepción:"
   ]
  },
  {
   "cell_type": "code",
   "execution_count": null,
   "metadata": {},
   "outputs": [],
   "source": [
    "try:\n",
    "    variable\n",
    "except:\n",
    "    print(\"La variable no existe, le asignamos un valor\")\n",
    "variable = 1"
   ]
  },
  {
   "cell_type": "code",
   "execution_count": null,
   "metadata": {},
   "outputs": [],
   "source": [
    "variable"
   ]
  },
  {
   "cell_type": "markdown",
   "metadata": {},
   "source": [
    "Es buena práctica luego de `except`, indicar el tipo de excepción a capturar. En caso de omitirlo, captura todas. En nuestro caso sería `NameError`. Esto es útil a la hora de capturar cierto tipo de errores como pueden ser que no exista un archivo, que no pueda conectarse a la red, etc.\n",
    "\n",
    "## 7. Funciones\n",
    "\n",
    "Las funciones en Python, y en cualquier lenguaje de programación, son estructuras esenciales de código. Una función es un grupo de instrucciones que constituyen una unidad lógica del programa y resuelven un problema muy concreto. Las funciones nos permiten:\n",
    "\n",
    "- Dividir y organizar el código en partes más sencillas.\n",
    "- Encapsular el código que se repite a lo largo de un programa para ser reutilizado.\n",
    "\n",
    "Python tiene muchas funciones implementadas, como `print()` o `len()`. Pero lo interesante es que nos permite crear nuestras propias funciones. Para definirlas, incluimos en cualquier parte del código la palabra `def` seguida del nombre de la función y sus parámetros:"
   ]
  },
  {
   "cell_type": "code",
   "execution_count": null,
   "metadata": {},
   "outputs": [],
   "source": [
    "# def nombre_funcion(parametros):\n",
    "def funcion(a, b, c):\n",
    "    print(\"Se llamó a la función con parámetros\", a, b, c)\n",
    "\n",
    "# Se llama a la función\n",
    "funcion(1, 2, 3)"
   ]
  },
  {
   "cell_type": "code",
   "execution_count": null,
   "metadata": {},
   "outputs": [],
   "source": [
    "funcion(\"a\", 0, True)"
   ]
  },
  {
   "cell_type": "markdown",
   "metadata": {},
   "source": [
    "En este caso, la función no devuelve ningún valor, solo muestra información en pantalla. Por otro lado, podemos definir una función que realice una operación específica y devuelva un valor utilizando la palabra clave `return`.\n",
    "\n",
    "`return` hace que termine la ejecución de la función. Además, `return` se puede utilizar para devolver un valor. La sentencia `return` es opcional, puede devolver, o no, un valor y es posible que aparezca más de una vez dentro de una misma función."
   ]
  },
  {
   "cell_type": "code",
   "execution_count": null,
   "metadata": {},
   "outputs": [],
   "source": [
    "def suma_primeros_n_numeros(n):\n",
    "    total = 0\n",
    "    for i in range(1, n + 1):\n",
    "        total += i\n",
    "    return total\n",
    "\n",
    "suma_primeros_n_numeros(5)"
   ]
  },
  {
   "cell_type": "markdown",
   "metadata": {},
   "source": [
    "En resumen:\n",
    "\n",
    "Para definir una función en Python se utiliza la palabra reservada `def`. A continuación, ponemos el nombre que se utiliza para invocarla. Después hay que incluir los paréntesis y una lista opcional de parámetros. Por último, la definición de la función\n",
    "termina con dos puntos.\n",
    "\n",
    "Tras los dos puntos se incluye el cuerpo de la función (con un sangrado mayor, generalmente cuatro espacios) que no es más que el conjunto de instrucciones que se encapsulan en dicha función y que le dan significado.\n",
    "\n",
    "En último lugar y de manera opcional, se añade la instrucción con la palabra reservada `return` para devolver un resultado."
   ]
  },
  {
   "cell_type": "markdown",
   "metadata": {},
   "source": [
    "## 8. Módulos\n",
    "\n",
    "El lenguaje Python permite modularizar código de una forma muy sencilla. Es posible acceder a definiciones en otro archivo a partir de la palabra clave `import`. Supongamos que existe un archivo que se llama `modulo.py` en el directorio actual de trabajo con el siguiente contenido:"
   ]
  },
  {
   "cell_type": "code",
   "execution_count": null,
   "metadata": {},
   "outputs": [],
   "source": [
    "def opuesto(a):\n",
    "    return -a\n",
    "\n",
    "def saludo():\n",
    "    print(\"Hola\")"
   ]
  },
  {
   "cell_type": "markdown",
   "metadata": {},
   "source": [
    "Podemos acceder a estas funciones de la siguiente manera:"
   ]
  },
  {
   "cell_type": "code",
   "execution_count": null,
   "metadata": {},
   "outputs": [],
   "source": [
    "import modulo\n",
    "modulo.saludo()"
   ]
  },
  {
   "cell_type": "code",
   "execution_count": null,
   "metadata": {},
   "outputs": [],
   "source": [
    "modulo.opuesto(1)"
   ]
  },
  {
   "cell_type": "markdown",
   "metadata": {},
   "source": [
    "Una forma alternativa de acceder a estas funciones es importándolas individualmente de la siguiente manera:"
   ]
  },
  {
   "cell_type": "code",
   "execution_count": null,
   "metadata": {},
   "outputs": [],
   "source": [
    "from modulo import saludo\n",
    "saludo()"
   ]
  }
 ],
 "metadata": {
  "kernelspec": {
   "display_name": "Python 3",
   "language": "python",
   "name": "python3"
  },
  "language_info": {
   "codemirror_mode": {
    "name": "ipython",
    "version": 3
   },
   "file_extension": ".py",
   "mimetype": "text/x-python",
   "name": "python",
   "nbconvert_exporter": "python",
   "pygments_lexer": "ipython3",
   "version": "3.12.3"
  }
 },
 "nbformat": 4,
 "nbformat_minor": 2
}
