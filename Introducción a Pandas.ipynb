{
 "cells": [
  {
   "cell_type": "markdown",
   "metadata": {},
   "source": [
    "# **Introducción a Pandas**"
   ]
  },
  {
   "cell_type": "markdown",
   "metadata": {},
   "source": [
    "## Bloque 1: Introducción a Pandas\n",
    "\n",
    "### 1.1. ¿Qué es Pandas?\n",
    "\n",
    "[Pandas](https://pandas.pydata.org/) es una biblioteca de Python especializada en la manipulación y el análisis de datos. Ofrece estructuras de datos y operaciones para manipular tablas numéricas y series temporales. Es un software libre distribuido bajo la licencia BSD. Es especialmente útil para:\n",
    "\n",
    "- Manipulación y análisis de datos.\n",
    "- Operaciones rápidas y eficientes con estructuras de datos como *DataFrames* y *Series*.\n",
    "\n",
    "La documentación oficial se encuentra en [https://pandas.pydata.org/docs](https://pandas.pydata.org/docs). En esta etapa, se puede trabajar y prácticar mediante el uso de *Notebooks* de forma local usando [Jupyter](https://jupyter.org/) o en la nube mediante [Google Colab](https://colab.research.google.com/).\n",
    "\n",
    "### 1.2. Instalación\n",
    "\n",
    "Si no tienes Pandas instalado, puedes hacerlo con:\n",
    "\n",
    "```bash\n",
    "pip install pandas\n",
    "```"
   ]
  },
  {
   "cell_type": "markdown",
   "metadata": {},
   "source": [
    "### 1.3. Conceptos básicos\n",
    "\n",
    "- **Series:** Una columna de datos (unidimensional).\n",
    "- **DataFrame:** Una tabla de datos (bidimensional).\n",
    "\n",
    "Una *Series* es un n-arreglo unidimensional con etiquetas de eje (incluyendo series de tiempo). Es decir, un tipo de arreglo que permite almacenar información de diversa tipología; sea por medio de cadenas de texto, flotantes o enteros, dtype, entre otros. En un nivel más sutil puedes incluso trabajar con constructores y toda una diversidad de métodos.\n",
    "\n",
    "Un *DataFrame* es una serie de Series Pandas indexadas por un valor. El formato de estas estructuras puede compararse con los diccionarios de Python. Efectivamente, las claves son los nombres de las columnas y los valores son las Series. Cada fila contiene datos específicos de varias columnas, que son variables. El nombre de las filas de un DataFrame se llama *index* que, por defecto, empieza siempre por 0.\n",
    "\n",
    "### 1.4. Crear una Series"
   ]
  },
  {
   "cell_type": "code",
   "execution_count": null,
   "metadata": {},
   "outputs": [],
   "source": [
    "import pandas as pd\n",
    "from pandas import Series\n",
    "\n",
    "# Definimos una Series\n",
    "mi_series = Series([17,5,7,5,67,84,29,52,12,53,1,10])\n",
    "\n",
    "# El patrón de sintaxis es el siguiente: Series([valores])\n",
    "# Donde valores es una lista de valores que queremos que tenga la Serie\n",
    "print(mi_series)"
   ]
  },
  {
   "cell_type": "markdown",
   "metadata": {},
   "source": [
    "### 1.5. Crear un DataFrame"
   ]
  },
  {
   "cell_type": "code",
   "execution_count": null,
   "metadata": {},
   "outputs": [],
   "source": [
    "# Crear un DataFrame desde un diccionario\n",
    "data = {\n",
    "    \"Nombre\": [\"Juan\", \"Ana\", \"Luis\"],\n",
    "    \"Edad\": [25, 30, 22],\n",
    "    \"Ciudad\": [\"Buenos Aires\", \"Mar del Plata\", \"Tandil\"]\n",
    "}\n",
    "\n",
    "mi_dataframe = pd.DataFrame(data)\n",
    "print(mi_dataframe)"
   ]
  },
  {
   "cell_type": "markdown",
   "metadata": {},
   "source": [
    "### 1.6. Ejercitación\n",
    "\n",
    "1. Crear un DataFrame con tus datos favoritos (nombres, edades, ciudades, etc.).\n",
    "2. Explorar la función `pd.Series` para crear una columna individual."
   ]
  },
  {
   "cell_type": "markdown",
   "metadata": {},
   "source": [
    "---\n",
    "\n",
    "## Bloque 2: Carga y Exploración de Datos\n",
    "\n",
    "### 2.1. Leer archivos\n",
    "\n",
    "Pandas permite cargar datos de varios formatos:"
   ]
  },
  {
   "cell_type": "code",
   "execution_count": 1,
   "metadata": {},
   "outputs": [],
   "source": [
    "import pandas as pd\n",
    "\n",
    "# Leer un archivo CSV\n",
    "df_messi = pd.read_csv(\"./Ejemplos/messi_goals.csv\")"
   ]
  },
  {
   "cell_type": "markdown",
   "metadata": {},
   "source": [
    "### 2.2. Métodos para explorar datos"
   ]
  },
  {
   "cell_type": "code",
   "execution_count": null,
   "metadata": {},
   "outputs": [],
   "source": [
    "# Ver la estructura del DataFrame\n",
    "print(df_messi.info())"
   ]
  },
  {
   "cell_type": "code",
   "execution_count": null,
   "metadata": {},
   "outputs": [],
   "source": [
    "# Ver los tipos de datos de las columnas del dataset\n",
    "print(df_messi.dtypes)"
   ]
  },
  {
   "cell_type": "code",
   "execution_count": null,
   "metadata": {},
   "outputs": [],
   "source": [
    "# Ver la cantidad de registros y columnas del dataset\n",
    "print(df_messi.shape)"
   ]
  },
  {
   "cell_type": "code",
   "execution_count": null,
   "metadata": {},
   "outputs": [],
   "source": [
    "# Estadísticas descriptivas\n",
    "print(df_messi.describe())  # Media, desviación estándar, etc."
   ]
  },
  {
   "cell_type": "code",
   "execution_count": null,
   "metadata": {},
   "outputs": [],
   "source": [
    "# Ver la cantidad de valores unicos de una columna\n",
    "print(df_messi.Club.unique())"
   ]
  },
  {
   "cell_type": "code",
   "execution_count": null,
   "metadata": {},
   "outputs": [],
   "source": [
    "# Ver la cantidad de veces que se repite cada valor único en una columna\n",
    "print(df_messi.Club.value_counts())"
   ]
  },
  {
   "cell_type": "code",
   "execution_count": null,
   "metadata": {},
   "outputs": [],
   "source": [
    "# Ver las primeras 5 filas\n",
    "print(df_messi.head(5))"
   ]
  },
  {
   "cell_type": "code",
   "execution_count": null,
   "metadata": {},
   "outputs": [],
   "source": [
    "# Ver los últimos 4 registros del dataset\n",
    "print(df_messi.tail(4))"
   ]
  },
  {
   "cell_type": "code",
   "execution_count": null,
   "metadata": {},
   "outputs": [],
   "source": [
    "# Ver 3 registros aleatorios del dataset\n",
    "print(df_messi.sample(3))"
   ]
  },
  {
   "cell_type": "code",
   "execution_count": null,
   "metadata": {},
   "outputs": [],
   "source": [
    "# Retorna el valor numérico más pequeño\n",
    "# En un string, retorna el valor que sería el \"menor\" en orden alfabético\n",
    "df[\"columna\"].min()"
   ]
  },
  {
   "cell_type": "code",
   "execution_count": null,
   "metadata": {},
   "outputs": [],
   "source": [
    "# Retorna el valor numérico más grande\n",
    "# En un string, retorna el valor que sería el \"mayor\" en orden alfabético\n",
    "df[\"columna\"].max()"
   ]
  },
  {
   "cell_type": "code",
   "execution_count": null,
   "metadata": {},
   "outputs": [],
   "source": [
    "\n",
    "# Calcula la suma de todos los valores numéricos\n",
    "# En un string, concatenará todos los valores string en la columna\n",
    "df[\"columna\"].sum()"
   ]
  },
  {
   "cell_type": "markdown",
   "metadata": {},
   "source": [
    "### 2.3. Indexación básica"
   ]
  },
  {
   "cell_type": "code",
   "execution_count": null,
   "metadata": {},
   "outputs": [],
   "source": [
    "# Acceder a una columna\n",
    "print(df_messi[\"Club\"])"
   ]
  },
  {
   "cell_type": "code",
   "execution_count": null,
   "metadata": {},
   "outputs": [],
   "source": [
    "# Notación de punto\n",
    "print(df_messi.Club)"
   ]
  },
  {
   "cell_type": "markdown",
   "metadata": {},
   "source": [
    "**`loc`** (Selection by Label), se utiliza para seleccionar datos *por etiquetas* (nombres de filas y columnas). Admite rangos con nombres de índices, y el límite superior está incluido. Es útil cuando los índices no son enteros secuenciales (pueden ser strings, fechas, etc.). Puede aceptar:\n",
    "\n",
    "- Etiquetas individuales (una fila/columna).\n",
    "- Listas de etiquetas.\n",
    "- Condiciones booleanas para filtrar datos."
   ]
  },
  {
   "cell_type": "code",
   "execution_count": null,
   "metadata": {},
   "outputs": [],
   "source": [
    "df = pd.DataFrame({\n",
    "    \"A\": [10, 20, 30],\n",
    "    \"B\": [40, 50, 60],\n",
    "}, index=[\"uno\", \"dos\", \"tres\"])\n",
    "\n",
    "# Seleccionar una fila por etiqueta\n",
    "print(df.loc[\"dos\"])  # Devuelve la fila con índice \"dos\""
   ]
  },
  {
   "cell_type": "code",
   "execution_count": null,
   "metadata": {},
   "outputs": [],
   "source": [
    "# Seleccionar múltiples filas y columnas\n",
    "print(df.loc[[\"uno\", \"tres\"], [\"A\"]])  # Devuelve A para índices \"uno\" y \"tres\""
   ]
  },
  {
   "cell_type": "code",
   "execution_count": null,
   "metadata": {},
   "outputs": [],
   "source": [
    "# Filtrar con condiciones\n",
    "print(df.loc[df[\"A\"] > 15])  # Filas donde el valor de A es mayor que 15"
   ]
  },
  {
   "cell_type": "markdown",
   "metadata": {},
   "source": [
    "**`iloc`** (Selection by Position), se utiliza para seleccionar datos por *posición numérica* (índices enteros). Admite índices basados en posiciones (similares a listas de Python), y el límite superior está excluido (rango estilo `slice`). Es útil para operaciones cuando el índice no importa o es desconocido."
   ]
  },
  {
   "cell_type": "code",
   "execution_count": null,
   "metadata": {},
   "outputs": [],
   "source": [
    "# Acceder a una fila por índice\n",
    "print(df_messi.iloc[0])  # Primera fila"
   ]
  },
  {
   "cell_type": "code",
   "execution_count": null,
   "metadata": {},
   "outputs": [],
   "source": [
    "# Seleccionar la segunda fila\n",
    "print(df_messi.iloc[1])  # Devuelve la segunda fila (índice 1 en base 0)"
   ]
  },
  {
   "cell_type": "code",
   "execution_count": null,
   "metadata": {},
   "outputs": [],
   "source": [
    "# Seleccionar un rango de filas\n",
    "print(df_messi.iloc[0:2])  # Devuelve las filas 0 y 1"
   ]
  },
  {
   "cell_type": "code",
   "execution_count": null,
   "metadata": {},
   "outputs": [],
   "source": [
    "# Seleccionar un rango de filas y columnas\n",
    "print(df_messi.iloc[0:2, 0:1])  # Filas 0 a 1, columna 0"
   ]
  },
  {
   "cell_type": "markdown",
   "metadata": {},
   "source": [
    "### 2.4. Ejercitación\n",
    "\n",
    "1. Cargar un archivo CSV y mostrar las primeras 10 filas.\n",
    "2. Usar `.info()` para entender la estructura de tu DataFrame.\n",
    "3. Seleccionar y mostrar las filas del 100 al 150."
   ]
  },
  {
   "cell_type": "markdown",
   "metadata": {},
   "source": [
    "---\n",
    "\n",
    "## Bloque 3: Manipulación de Datos\n",
    "\n",
    "### 3.1. Convertir datos"
   ]
  },
  {
   "cell_type": "code",
   "execution_count": null,
   "metadata": {},
   "outputs": [],
   "source": [
    "import pandas as pd\n",
    "\n",
    "df_messi = pd.read_csv(\"./Ejemplos/messi_goals.csv\")\n",
    "\n",
    "# Para verificar el tipo de datos actual\n",
    "print(df_messi.dtypes)"
   ]
  },
  {
   "cell_type": "code",
   "execution_count": null,
   "metadata": {},
   "outputs": [],
   "source": [
    "# Verificar el tipo específico de una columna\n",
    "print(type(df_messi[\"Minute\"].iloc[0]))"
   ]
  },
  {
   "cell_type": "markdown",
   "metadata": {},
   "source": [
    "#### Convertir a números"
   ]
  },
  {
   "cell_type": "code",
   "execution_count": null,
   "metadata": {},
   "outputs": [],
   "source": [
    "# Datos están en object (texto) pero representan números\n",
    "# pd.to_numeric convierte los valores a números\n",
    "# El parámetro errors=\"coerce\" maneja valores no convertibles\n",
    "# Los valores no convertibles se convierten en NaN\n",
    "\n",
    "df_messi[\"Minute\"] = pd.to_numeric(df_messi[\"Minute\"], errors=\"coerce\")\n",
    "print(df_messi[\"Minute\"].info())"
   ]
  },
  {
   "cell_type": "code",
   "execution_count": null,
   "metadata": {},
   "outputs": [],
   "source": [
    "# Forzar a valores enteros: eliminar los NaN y convertir a int\n",
    "df_messi[\"Minute\"] = pd.to_numeric(df_messi[\"Minute\"], errors=\"coerce\").fillna(0).astype(int)\n",
    "print(df_messi[\"Minute\"].info())"
   ]
  },
  {
   "cell_type": "code",
   "execution_count": null,
   "metadata": {},
   "outputs": [],
   "source": [
    "# Convertir int a float\n",
    "df_messi[\"Minute\"] = df_messi[\"Minute\"].astype(float)\n",
    "print(df_messi[\"Minute\"].info())"
   ]
  },
  {
   "cell_type": "code",
   "execution_count": null,
   "metadata": {},
   "outputs": [],
   "source": [
    "# Convertir float a int\n",
    "df_messi[\"Minute\"] = df_messi[\"Minute\"].astype(int)\n",
    "print(df_messi[\"Minute\"].info())"
   ]
  },
  {
   "cell_type": "markdown",
   "metadata": {},
   "source": [
    "#### Convertir a Strings"
   ]
  },
  {
   "cell_type": "code",
   "execution_count": null,
   "metadata": {},
   "outputs": [],
   "source": [
    "# .astype(str) convierte todos los valores a cadenas\n",
    "df_messi[\"Minute\"] = df_messi[\"Minute\"].astype(str)\n",
    "print(df_messi[\"Minute\"].info())"
   ]
  },
  {
   "cell_type": "code",
   "execution_count": null,
   "metadata": {},
   "outputs": [],
   "source": [
    "# Convertir incluso valores nulos\n",
    "df_messi[\"Minute\"] = df_messi[\"Minute\"].fillna(\"\").astype(str)\n",
    "print(df_messi[\"Minute\"].info())"
   ]
  },
  {
   "cell_type": "markdown",
   "metadata": {},
   "source": [
    "#### Convertir a fecha"
   ]
  },
  {
   "cell_type": "code",
   "execution_count": null,
   "metadata": {},
   "outputs": [],
   "source": [
    "# Convertir a formato datetime (maneja formatos mixtos automáticamente)\n",
    "# También es posible establecer el formato pd.to_datetime(df[\"column\"], format=\"%d/%m/%y\")\n",
    "df_messi[\"Date\"] = pd.to_datetime(df_messi[\"Date\"], dayfirst=True)\n",
    "print(df_messi[\"Date\"].info())"
   ]
  },
  {
   "cell_type": "markdown",
   "metadata": {},
   "source": [
    "### 3.2. Filtrar datos"
   ]
  },
  {
   "cell_type": "code",
   "execution_count": null,
   "metadata": {},
   "outputs": [],
   "source": [
    "# Filtrar filas donde el tiempo de juego sea menor a 5\n",
    "filtro = df_messi[df_messi[\"Minute\"] < 5]\n",
    "print(filtro)"
   ]
  },
  {
   "cell_type": "code",
   "execution_count": null,
   "metadata": {},
   "outputs": [],
   "source": [
    "# Filtrar solo los goles anotados en LaLiga\n",
    "mask_laliga = df_messi[\"Competition\"] == \"LaLiga\"\n",
    "df_laliga = df_messi.loc[mask_laliga]\n",
    "\n",
    "cant_laliga = df_laliga[\"GoalID\"].count()\n",
    "total_goles = df_messi[\"GoalID\"].count()\n",
    "print(f\"Messi anotó {cant_laliga} goles en LaLiga de un total de {total_goles} goles registrados.\")"
   ]
  },
  {
   "cell_type": "code",
   "execution_count": null,
   "metadata": {},
   "outputs": [],
   "source": [
    "# Filtrar los goles anotados contra el equipo que menos goles recibió\n",
    "min_opponent = df_messi[\"Opponent\"].value_counts().idxmin()\n",
    "mask_opponent = df_messi[\"Opponent\"] == min_opponent\n",
    "df_min_opponent = df_messi.loc[mask_opponent]\n",
    "\n",
    "cant_goles_min = df_min_opponent[\"GoalID\"].count()\n",
    "print(f\"El equipo que menos goles recibió de Messi fue {min_opponent} con {cant_goles_min} goles.\")"
   ]
  },
  {
   "cell_type": "code",
   "execution_count": null,
   "metadata": {},
   "outputs": [],
   "source": [
    "# Filtrar los goles en una temporada específica (ejemplo: 2014/15)\n",
    "mask_season = df_messi[\"Season\"] == \"2014/15\"\n",
    "df_season = df_messi.loc[mask_season]\n",
    "cant_goles_season = df_season[\"GoalID\"].count()\n",
    "print(f\"En la temporada 2014/15, Messi anotó {cant_goles_season} goles.\")"
   ]
  },
  {
   "cell_type": "code",
   "execution_count": null,
   "metadata": {},
   "outputs": [],
   "source": [
    "# Filtrar los goles anotados en el minuto inicial (0 a 5 minutos)\n",
    "mask_minuto_inicial = df_messi[\"Minute\"] <= 5\n",
    "df_minuto_inicial = df_messi.loc[mask_minuto_inicial]\n",
    "cant_minuto_inicial = df_minuto_inicial[\"GoalID\"].count()\n",
    "print(f\"Messi anotó {cant_minuto_inicial} goles en los primeros 5 minutos de juego.\")"
   ]
  },
  {
   "cell_type": "code",
   "execution_count": null,
   "metadata": {},
   "outputs": [],
   "source": [
    "# Filtrar los goles anotados en finales de competiciones\n",
    "mask_finales = df_messi[\"Matchday\"] == \"Final\"\n",
    "# mask_finales = df_messi[\"Matchday\"].str.lower() == \"final\"\n",
    "df_finales = df_messi.loc[mask_finales]\n",
    "cant_finales = df_finales[\"GoalID\"].count()\n",
    "print(f\"Messi anotó {cant_finales} goles en finales.\")"
   ]
  },
  {
   "cell_type": "code",
   "execution_count": null,
   "metadata": {},
   "outputs": [],
   "source": [
    "# Filtrar los goles con asistencia de un jugador específico (ejemplo: Iniesta)\n",
    "mask_asistencia = df_messi[\"Goal_assist\"] == \"Andres Iniesta\"\n",
    "df_asistencias = df_messi.loc[mask_asistencia]\n",
    "cant_asistencias = df_asistencias[\"GoalID\"].count()\n",
    "print(f\"Iniesta asistió en {cant_asistencias} goles de Messi.\")"
   ]
  },
  {
   "cell_type": "code",
   "execution_count": null,
   "metadata": {},
   "outputs": [],
   "source": [
    "# Filtrar los goles en partidos jugados fuera de casa\n",
    "mask_away = df_messi[\"Venue\"] == \"A\"\n",
    "df_away = df_messi.loc[mask_away]\n",
    "cant_away = df_away[\"GoalID\"].count()\n",
    "print(f\"Messi anotó {cant_away} goles en partidos fuera de casa.\")"
   ]
  },
  {
   "cell_type": "code",
   "execution_count": null,
   "metadata": {},
   "outputs": [],
   "source": [
    "# Filtrar los goles contra equipos específicos (ejemplo: Real Madrid y Atlético Madrid)\n",
    "mask_big_rivals = df_messi[\"Opponent\"].isin([\"Real Madrid\", \"Atlético Madrid\"])\n",
    "df_big_rivals = df_messi.loc[mask_big_rivals]\n",
    "cant_big_rivals = df_big_rivals[\"GoalID\"].count()\n",
    "print(f\"Messi anotó {cant_big_rivals} goles contra Real Madrid y Atlético Madrid.\")"
   ]
  },
  {
   "cell_type": "code",
   "execution_count": null,
   "metadata": {},
   "outputs": [],
   "source": [
    "\n",
    "# Filtrar los goles en competencias internacionales (Champions League)\n",
    "mask_international = df_messi[\"Competition\"] == \"UEFA Champions League\"\n",
    "df_international = df_messi.loc[mask_international]\n",
    "cant_international = df_international[\"GoalID\"].count()\n",
    "print(f\"Messi anotó {cant_international} goles en la Champions League.\")"
   ]
  },
  {
   "cell_type": "code",
   "execution_count": null,
   "metadata": {},
   "outputs": [],
   "source": [
    "# Filtrar los goles en partidos jugados en una fecha específica (ejemplo: 01/01/2020)\n",
    "mask_fecha = df_messi[\"Date\"] == \"01/01/2020\"\n",
    "df_fecha = df_messi.loc[mask_fecha]\n",
    "cant_fecha = df_fecha[\"GoalID\"].count()\n",
    "print(f\"El 01/01/2020, Messi anotó {cant_fecha} goles.\")"
   ]
  },
  {
   "cell_type": "markdown",
   "metadata": {},
   "source": [
    "### 3.3. Manipular columnas"
   ]
  },
  {
   "cell_type": "code",
   "execution_count": null,
   "metadata": {},
   "outputs": [],
   "source": [
    "# Crear una nueva columna\n",
    "df_messi[\"Minutos\"] = df_messi[\"Minute\"]\n",
    "print(df_messi.info)"
   ]
  },
  {
   "cell_type": "code",
   "execution_count": null,
   "metadata": {},
   "outputs": [],
   "source": [
    "# Modificar el nombre de una columna\n",
    "df_messi = df_messi.rename(columns = {\"Minutos\": \"Minutitos\"})\n",
    "print(df_messi.info)"
   ]
  },
  {
   "cell_type": "code",
   "execution_count": null,
   "metadata": {},
   "outputs": [],
   "source": [
    "# Eliminar la columna \"Minutitos\"\n",
    "df_messi = df_messi.drop(\"Minutitos\", axis=1)\n",
    "print(df_messi.info)"
   ]
  },
  {
   "cell_type": "markdown",
   "metadata": {},
   "source": [
    "### 3.4. Agrupar datos"
   ]
  },
  {
   "cell_type": "code",
   "execution_count": null,
   "metadata": {},
   "outputs": [],
   "source": [
    "# Agrupar por una columna según los valores únicos en la columna Date\n",
    "# Todas las filas que tienen el mismo valor en Date se agrupan juntas\n",
    "agrupado = df_messi.groupby(\"Date\")[\"Minute\"]\n",
    "\n",
    "for grupo, datos in agrupado:\n",
    "    print(f\"Grupo: {grupo}\")\n",
    "    print(datos)"
   ]
  },
  {
   "cell_type": "markdown",
   "metadata": {},
   "source": [
    "### 3.5. Ejercitación\n",
    "\n",
    "1. Filtra las filas que cumplan una condición.\n",
    "2. Crea una nueva columna calculada.\n",
    "3. Renombrar la columna anterior.\n",
    "4. Eliminar una columna del dataset."
   ]
  },
  {
   "cell_type": "markdown",
   "metadata": {},
   "source": [
    "---\n",
    "\n",
    "## Bloque 4: Transformaciones, Funciones y Exportar\n",
    "\n",
    "### 4.1. Ordenar datos"
   ]
  },
  {
   "cell_type": "code",
   "execution_count": null,
   "metadata": {},
   "outputs": [],
   "source": [
    "import pandas as pd\n",
    "\n",
    "df_messi = pd.read_csv(\"./Ejemplos/messi_goals.csv\")\n",
    "df_messi[\"Date\"] = pd.to_datetime(df_messi[\"Date\"], dayfirst=True)\n",
    "\n",
    "# Ordenar por fecha de manera descendente\n",
    "df_messi = df_messi.sort_values(\"Date\", ascending=False)\n",
    "print(df_messi.head())"
   ]
  },
  {
   "cell_type": "markdown",
   "metadata": {},
   "source": [
    "### 4.2. Trabajar con valores nulos"
   ]
  },
  {
   "cell_type": "code",
   "execution_count": null,
   "metadata": {},
   "outputs": [],
   "source": [
    "# Detectar valores nulos\n",
    "print(df_messi.isnull().sum())"
   ]
  },
  {
   "cell_type": "code",
   "execution_count": null,
   "metadata": {},
   "outputs": [],
   "source": [
    "# Rellenar valores nulos\n",
    "df_messi[\"Type\"].fillna(0, inplace=True)"
   ]
  },
  {
   "cell_type": "markdown",
   "metadata": {},
   "source": [
    "### 4.3. Cambiar índices"
   ]
  },
  {
   "cell_type": "code",
   "execution_count": 82,
   "metadata": {},
   "outputs": [],
   "source": [
    "# Usar una columna como índice\n",
    "df_messi.set_index(\"GoalID\", inplace=True)"
   ]
  },
  {
   "cell_type": "markdown",
   "metadata": {},
   "source": [
    "### 4.4. Aplicar funciones a columnas"
   ]
  },
  {
   "cell_type": "code",
   "execution_count": 83,
   "metadata": {},
   "outputs": [],
   "source": [
    "# Convertir todas las edades a string\n",
    "df_messi[\"Venue\"] = df_messi[\"Venue\"].apply(str)"
   ]
  },
  {
   "cell_type": "markdown",
   "metadata": {},
   "source": [
    "### 4.5. Exportar datos"
   ]
  },
  {
   "cell_type": "code",
   "execution_count": 84,
   "metadata": {},
   "outputs": [],
   "source": [
    "# A CSV\n",
    "df_messi.to_csv(\"output.csv\", index=False)"
   ]
  },
  {
   "cell_type": "code",
   "execution_count": 85,
   "metadata": {},
   "outputs": [],
   "source": [
    "# A Excel\n",
    "df_messi.to_excel(\"output.xlsx\", index=False)"
   ]
  },
  {
   "cell_type": "markdown",
   "metadata": {},
   "source": [
    "### 4.6. Ejercitación\n",
    "\n",
    "1. Ordena tu DataFrame por una columna.\n",
    "2. Reemplaza valores nulos en tu DataFrame.\n",
    "3. Usa `.apply()` para transformar los datos de una columna.\n",
    "4. Exporta un DataFrame a un archivo CSV."
   ]
  },
  {
   "cell_type": "markdown",
   "metadata": {},
   "source": [
    "---\n",
    "\n",
    "## Bloque 5: Proyecto Final\n",
    "\n",
    "Crear un script en Pandas que cargue un archivo CSV, limpie los datos y genere estadísticas útiles.\n",
    "\n",
    "1. Cargar datos mediante `df = pd.read_csv(\"ejemplo.csv\")`.\n",
    "2. Realizar una limpieza de los datos, por ejemplo, eliminar filas con valores nulos y filtrar datos irrelevantes.\n",
    "3. Realizar un análisis, por ejemplo, encontrar valores medios, mínimos y máximos; agrupar los datos y calcula promedios.\n",
    "4. Exportar resultados `df.to_csv(\"ejemplo_limpio.csv\", index=False)`."
   ]
  },
  {
   "cell_type": "markdown",
   "metadata": {},
   "source": [
    "---\n",
    "\n",
    "## Resumen Final\n",
    "\n",
    "| Método                        | Descripción                                                                 |\n",
    "|-------------------------------|-----------------------------------------------------------------------------|\n",
    "| `pd.read_csv`                 | Carga un archivo CSV en un DataFrame.                                       |\n",
    "| `pd.DataFrame`                | Crea un DataFrame a partir de un diccionario u otra estructura de datos.    |\n",
    "| `.info`                       | Muestra un resumen conciso de un DataFrame, incluyendo tipos y valores nulos. |\n",
    "| `.dtypes`                     | Devuelve los tipos de datos de cada columna en el DataFrame.                |\n",
    "| `.shape`                      | Obtiene las dimensiones del DataFrame (filas, columnas).                    |\n",
    "| `.describe`                   | Genera estadísticas descriptivas de las columnas numéricas.                |\n",
    "| `.unique`                     | Devuelve los valores únicos de una Serie.                                   |\n",
    "| `.value_counts`               | Cuenta la cantidad de ocurrencias de cada valor en una Serie.               |\n",
    "| `.head`                       | Devuelve las primeras n filas de un DataFrame.                              |\n",
    "| `.tail`                       | Devuelve las últimas n filas de un DataFrame.                               |\n",
    "| `.sample`                     | Retorna una muestra aleatoria de filas del DataFrame.                       |\n",
    "| `.set_index`                  | Define una columna como el índice del DataFrame.                            |\n",
    "| `.min`                        | Retorna el valor mínimo de una Serie o columna.                             |\n",
    "| `.max`                        | Retorna el valor máximo de una Serie o columna.                             |\n",
    "| `.sum`                        | Retorna la suma de los valores en una Serie o columna.                      |\n",
    "| `.nunique`                    | Devuelve el número de valores únicos en una Serie.                          |\n",
    "| `.count`                      | Cuenta los valores no nulos en una Serie o DataFrame.                       |\n",
    "| `.loc`                        | Accede a filas y columnas por etiquetas o un array booleano.                |\n",
    "| `.iloc`                       | Accede a filas y columnas por posición (indexación basada en enteros).      |\n",
    "| `.apply`                      | Aplica una función a lo largo de un eje del DataFrame (filas o columnas).   |\n",
    "| `.astype`                     | Convierte una Serie u objeto del DataFrame a un tipo de datos específico.    |\n",
    "| `.isnull`                     | Devuelve un DataFrame indicando valores nulos con `True`.                   |\n",
    "| `.rename`                     | Cambia los nombres de las columnas o el índice.                             |\n",
    "| `.drop`                       | Elimina filas o columnas del DataFrame.                                     |\n",
    "| `.groupby`                    | Agrupa los datos por una o más columnas y permite aplicar funciones a grupos. |\n",
    "| `.sort_values`                | Ordena un DataFrame por los valores de una o más columnas.                  |\n",
    "| `.to_csv`                     | Exporta el DataFrame a un archivo CSV.                                      |\n",
    "| `.to_excel`                   | Exporta el DataFrame a un archivo Excel.                                    |\n",
    "| `.datetime`                   | Manipula valores de tiempo y fecha.                                         |"
   ]
  }
 ],
 "metadata": {
  "kernelspec": {
   "display_name": "Python 3",
   "language": "python",
   "name": "python3"
  },
  "language_info": {
   "codemirror_mode": {
    "name": "ipython",
    "version": 3
   },
   "file_extension": ".py",
   "mimetype": "text/x-python",
   "name": "python",
   "nbconvert_exporter": "python",
   "pygments_lexer": "ipython3",
   "version": "3.12.3"
  }
 },
 "nbformat": 4,
 "nbformat_minor": 2
}
