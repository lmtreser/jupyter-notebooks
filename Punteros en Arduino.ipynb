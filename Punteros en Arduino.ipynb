{
 "cells": [
  {
   "cell_type": "markdown",
   "metadata": {},
   "source": [
    "# Punteros en Arduino\n",
    "\n",
    "Los **punteros** en Arduino, como en otros lenguajes basados en C/C++, son variables que almacenan la **dirección de memoria** de otra variable. En lugar de guardar un valor directo, los punteros guardan la ubicación en memoria donde ese valor está almacenado. Esto permite manipular directamente la memoria, hacer referencias a objetos sin copiarlos, y modificar datos en ubicaciones específicas de manera eficiente.\n",
    "\n",
    "## ¿Por qué usar punteros?\n",
    "\n",
    "- **Ahorro de memoria**: Al pasar grandes estructuras de datos (por ejemplo, arrays o estructuras) entre funciones, puedes usar punteros en lugar de pasar una copia completa de los datos.\n",
    "- **Eficiencia**: Manipular datos directamente en memoria es más rápido que crear copias.\n",
    "- **Flexibilidad**: Se puede acceder a distintos tipos de datos y manipular directamente registros, buffers o periféricos del microcontrolador.\n",
    "\n",
    "## Definición de un puntero"
   ]
  },
  {
   "cell_type": "code",
   "execution_count": null,
   "metadata": {
    "vscode": {
     "languageId": "cpp"
    }
   },
   "outputs": [],
   "source": [
    "int valor = 10;      // Variable de tipo entero\n",
    "int *puntero;        // Declaración de un puntero a entero\n",
    "puntero = &valor;    // El puntero almacena la dirección de 'valor'"
   ]
  },
  {
   "cell_type": "markdown",
   "metadata": {},
   "source": [
    "En este ejemplo:\n",
    "\n",
    "- `int *puntero;` define un puntero que puede almacenar la dirección de un entero.\n",
    "- `&valor` es la dirección en memoria de la variable `valor`.\n",
    "\n",
    "## Acceso a valores a través del puntero\n",
    "\n",
    "Una vez que un puntero está apuntando a una variable, puedes acceder o modificar el valor de la variable original a través del puntero usando el operador de **desreferencia** `*`."
   ]
  },
  {
   "cell_type": "code",
   "execution_count": null,
   "metadata": {
    "vscode": {
     "languageId": "cpp"
    }
   },
   "outputs": [],
   "source": [
    "Serial.println(*puntero);  // Imprime el valor de 'valor' usando el puntero\n",
    "*puntero = 20;             // Cambia el valor de 'valor' a 20\n",
    "Serial.println(valor);      // Ahora 'valor' es 20"
   ]
  },
  {
   "cell_type": "markdown",
   "metadata": {},
   "source": [
    "## Ejemplo: Uso de punteros para modificar valores"
   ]
  },
  {
   "cell_type": "code",
   "execution_count": null,
   "metadata": {
    "vscode": {
     "languageId": "cpp"
    }
   },
   "outputs": [],
   "source": [
    "void modificarValor(int *ptr) {\n",
    "  *ptr = 50;  // Cambia el valor de la variable a la que apunta el puntero\n",
    "}\n",
    "\n",
    "void setup() {\n",
    "  Serial.begin(9600);\n",
    "\n",
    "  int numero = 10;\n",
    "  Serial.println(numero);  // Imprime 10\n",
    "\n",
    "  modificarValor(&numero);  // Pasa la dirección de 'numero' a la función\n",
    "  Serial.println(numero);  // Ahora imprime 50\n",
    "}\n",
    "\n",
    "void loop() { }"
   ]
  },
  {
   "cell_type": "markdown",
   "metadata": {},
   "source": [
    "En este ejemplo, la función `modificarValor` recibe un puntero que apunta a la dirección de la variable `numero`. Al modificar el valor al que apunta el puntero, cambiamos directamente la variable original sin necesidad de devolver nada.\n",
    "\n",
    "## Casos típicos de uso\n",
    "\n",
    "1. **Pasar arrays o grandes estructuras a funciones**: Los arrays en C/C++ son esencialmente punteros, y pasarlos a funciones como punteros evita copiar toda la estructura de datos."
   ]
  },
  {
   "cell_type": "code",
   "execution_count": null,
   "metadata": {
    "vscode": {
     "languageId": "cpp"
    }
   },
   "outputs": [],
   "source": [
    "  void modificarArray(int *arr, int longitud) {\n",
    "    for (int i = 0; i < longitud; i++) {\n",
    "      arr[i] = i * 10;  // Modifica los valores del array original\n",
    "    }\n",
    "  }\n",
    "\n",
    "  void setup() {\n",
    "    Serial.begin(9600);\n",
    "    int valores[5] = {1, 2, 3, 4, 5};\n",
    "    modificarArray(valores, 5);  // Pasamos el array como puntero\n",
    "\n",
    "    for (int i = 0; i < 5; i++) {\n",
    "      Serial.println(valores[i]);  // Imprime 0, 10, 20, 30, 40\n",
    "    }\n",
    "  }\n",
    "\n",
    "  void loop() { }"
   ]
  },
  {
   "cell_type": "markdown",
   "metadata": {},
   "source": [
    "2. **Manipulación de registros de hardware**: Al trabajar con microcontroladores, es común acceder a registros de memoria específicos para controlar hardware. Usar punteros permite manipular directamente estos registros.\n",
    "\n",
    "3. **Buffers de comunicación**: En protocolos como I2C, SPI o UART, los punteros se usan comúnmente para manejar buffers de datos grandes, lo que mejora la eficiencia en la transferencia de datos.\n",
    "\n",
    "## Cuándo no es conveniente usarlos\n",
    "\n",
    "- Si no es necesario modificar los datos originales, es mejor no usar punteros, ya que pueden complicar el código y aumentar el riesgo de errores.\n",
    "- Los punteros mal gestionados pueden causar **errores de segmentación**, donde el programa accede a memoria fuera de los límites definidos, provocando comportamientos inesperados o bloqueos en el microcontrolador."
   ]
  },
  {
   "cell_type": "markdown",
   "metadata": {},
   "source": [
    "## Operador `&` (operador de dirección)\n",
    "\n",
    "Este operador se utiliza para **obtener la dirección de memoria** de una variable. Cuando aplicas `&` a una variable, te devuelve su dirección en memoria. Por ejemplo:"
   ]
  },
  {
   "cell_type": "code",
   "execution_count": null,
   "metadata": {
    "vscode": {
     "languageId": "cpp"
    }
   },
   "outputs": [],
   "source": [
    "int valor = 10;\n",
    "int *puntero = &valor;  // Aquí usamos & para obtener la dirección de 'valor'"
   ]
  },
  {
   "cell_type": "markdown",
   "metadata": {},
   "source": [
    "En este caso, `&valor` obtiene la dirección en memoria de la variable `valor` y se asigna al puntero `puntero`.\n",
    "\n",
    "## Operador `*` (operador de desreferencia)\n",
    "\n",
    "Este operador se utiliza para **acceder al valor** almacenado en la dirección de memoria a la que apunta un puntero. Es decir, permite \"desreferenciar\" un puntero para acceder al valor que está en la dirección que almacena el puntero. Por ejemplo:"
   ]
  },
  {
   "cell_type": "code",
   "execution_count": null,
   "metadata": {
    "vscode": {
     "languageId": "cpp"
    }
   },
   "outputs": [],
   "source": [
    "int valor = 10;\n",
    "int *puntero = &valor;   // puntero almacena la dirección de 'valor'\n",
    "Serial.println(*puntero);  // Imprime el valor de 'valor' (10)"
   ]
  },
  {
   "cell_type": "markdown",
   "metadata": {},
   "source": [
    "Aquí, `*puntero` te da el valor almacenado en la dirección de memoria que `puntero` contiene, en este caso, el valor de la variable `valor`.\n",
    "\n",
    "### ¿Cuándo usar cada uno?\n",
    "\n",
    "- **Usar `&`**: Se utiliza cuando quieres **obtener la dirección de memoria** de una variable. Esto es útil cuando necesitas pasar un puntero a una función o asignar la dirección de una variable a un puntero. Por ejemplo:"
   ]
  },
  {
   "cell_type": "code",
   "execution_count": null,
   "metadata": {
    "vscode": {
     "languageId": "cpp"
    }
   },
   "outputs": [],
   "source": [
    "int numero = 25;\n",
    "int *ptr = &numero;  // Almacena la dirección de 'numero' en 'ptr'"
   ]
  },
  {
   "cell_type": "markdown",
   "metadata": {},
   "source": [
    "- **Usar `*`**: Se usa cuando ya tienes un puntero y quieres **acceder o modificar el valor** al que apunta. Por ejemplo:"
   ]
  },
  {
   "cell_type": "code",
   "execution_count": null,
   "metadata": {
    "vscode": {
     "languageId": "cpp"
    }
   },
   "outputs": [],
   "source": [
    "int numero = 25;\n",
    "int *ptr = &numero;  // Almacena la dirección de 'numero' en 'ptr'\n",
    "*ptr = 100;          // Cambia el valor de 'numero' a 100\n",
    "Serial.println(numero);  // Imprime 100"
   ]
  },
  {
   "cell_type": "markdown",
   "metadata": {},
   "source": [
    "### Ejemplo de uso de ambos operadores"
   ]
  },
  {
   "cell_type": "code",
   "execution_count": null,
   "metadata": {
    "vscode": {
     "languageId": "cpp"
    }
   },
   "outputs": [],
   "source": [
    "void cambiarValor(int *ptr) {\n",
    "  *ptr = 200;  // Cambia el valor al que apunta el puntero\n",
    "}\n",
    "\n",
    "void setup() {\n",
    "  Serial.begin(9600);\n",
    "\n",
    "  int numero = 50;\n",
    "  Serial.println(numero);  // Imprime 50\n",
    "\n",
    "  cambiarValor(&numero);   // Pasa la dirección de 'numero' usando &\n",
    "  Serial.println(numero);  // Ahora imprime 200\n",
    "}\n",
    "\n",
    "void loop() { }"
   ]
  },
  {
   "cell_type": "markdown",
   "metadata": {},
   "source": [
    "En este caso:\n",
    "\n",
    "1. La función `cambiarValor` recibe un puntero (dirección) de una variable.\n",
    "2. Dentro de la función, el operador `*` se usa para modificar el valor al que apunta el puntero.\n",
    "3. El operador `&` se usa al llamar la función para pasar la **dirección de la variable** `numero`."
   ]
  },
  {
   "cell_type": "markdown",
   "metadata": {},
   "source": [
    "## Arreglo de caracteres (string)\n",
    "\n",
    "La expresión `const char* var = \"hola mundo\";` es una manera de declarar un puntero constante a una cadena de caracteres (string) en C/C++. En este caso `var` no es un simple carácter, sino un **puntero** a una posición en memoria que almacena un carácter, en este caso, el puntero apunta al primer carácter de una cadena de caracteres. En C y C++, una cadena como `\"hola mundo\"` se almacena en memoria como una secuencia de caracteres seguida por un carácter nulo (`\\0`), que indica el final de la cadena.\n",
    "\n",
    "### Ejemplo en Arduino:"
   ]
  },
  {
   "cell_type": "code",
   "execution_count": null,
   "metadata": {
    "vscode": {
     "languageId": "cpp"
    }
   },
   "outputs": [],
   "source": [
    "void setup() {\n",
    "  Serial.begin(9600);\n",
    "  const char* var = \"hola mundo\";  // 'var' apunta al string literal \"hola mundo\"\n",
    "  Serial.println(var);            // Imprime \"hola mundo\"\n",
    "}\n",
    "\n",
    "void loop() { }"
   ]
  },
  {
   "cell_type": "markdown",
   "metadata": {},
   "source": [
    "### ¿Por qué se usa `const char*`?\n",
    "\n",
    "**Seguridad**: El `const` garantiza que no accidentalmente se intente modificar el contenido de la cadena, ya que las cadenas literales como `\"hola mundo\"` están generalmente en una zona de memoria de solo lectura. Intentar modificar la cadena generaría un error o comportamiento inesperado."
   ]
  },
  {
   "cell_type": "code",
   "execution_count": null,
   "metadata": {
    "vscode": {
     "languageId": "cpp"
    }
   },
   "outputs": [],
   "source": [
    "const char* var = \"texto\";\n",
    "var[0] = 'T';  // Error, no se puede modificar una cadena constante"
   ]
  },
  {
   "cell_type": "markdown",
   "metadata": {},
   "source": [
    "**Eficiencia**: Al usar un puntero (`*`), no se hace una copia de la cadena literal, sino que se apunta directamente a su ubicación en memoria, ahorrando espacio y tiempo de procesamiento."
   ]
  },
  {
   "cell_type": "code",
   "execution_count": null,
   "metadata": {
    "vscode": {
     "languageId": "cpp"
    }
   },
   "outputs": [],
   "source": [
    "const char* var = \"hola mundo\";\n",
    "var = \"otra cadena\";  // Esto es válido porque puedes cambiar el puntero"
   ]
  },
  {
   "cell_type": "markdown",
   "metadata": {},
   "source": [
    "\n",
    "### Diferencias con `const char`\n",
    "\n",
    "En el caso de declarar una cadena de caracteres con la forma `const char var[] = \"Hola mundo\"`, se trata de un array de caracteres constante, y **la cadena completa se copia** en el array `var`. La diferencia clave es que, en este caso, el array es una copia local de la cadena, y no un puntero a una cadena literal en una región de solo lectura.\n",
    "\n",
    "- **Ventaja**: El contenido estático de la cadena se almacena en una variable local (en el stack), y aunque no es posible modificar los elementos del array por ser `const`, no es lo mismo que un puntero, es una copia completa de la cadena en memoria.\n",
    "- **Restricción**: No se puede reasignar el array a otra cadena, ya que es una estructura fija en memoria.\n",
    "\n",
    "Ejemplo:"
   ]
  },
  {
   "cell_type": "code",
   "execution_count": null,
   "metadata": {
    "vscode": {
     "languageId": "cpp"
    }
   },
   "outputs": [],
   "source": [
    "const char var[] = \"Hola Mundo\";\n",
    "var = \"otra cadena\";  // Error, no se puede reasignar un array"
   ]
  },
  {
   "cell_type": "markdown",
   "metadata": {},
   "source": [
    "Y como es `const`, tampoco se puede modificar los caracteres:"
   ]
  },
  {
   "cell_type": "code",
   "execution_count": null,
   "metadata": {
    "vscode": {
     "languageId": "cpp"
    }
   },
   "outputs": [],
   "source": [
    "var[0] = 'X';  // Error, no se puede modificar los caracteres"
   ]
  },
  {
   "cell_type": "markdown",
   "metadata": {},
   "source": [
    "\n",
    "### Diferencias clave\n",
    "\n",
    "| **Característica**          | **`const char*` (puntero)**            | **`const char[]` (array)**              |\n",
    "|-----------------------------|----------------------------------------|-----------------------------------------|\n",
    "| **Almacenamiento**           | Almacena una dirección de memoria.     | Almacena una copia de la cadena literal. |\n",
    "| **Modificación del contenido**| No se puede modificar el contenido literal. | No se puede modificar el contenido del array (por ser `const`). |\n",
    "| **Reasignación**             | Puedes hacer que el puntero apunte a otra cadena. | No puedes reasignar el array. |\n",
    "| **Memoria ocupada**          | Menos memoria (solo el tamaño de un puntero). | Más memoria (tamaño del array completo). |\n",
    "\n",
    "Ejemplo comparativo:"
   ]
  },
  {
   "cell_type": "code",
   "execution_count": null,
   "metadata": {
    "vscode": {
     "languageId": "cpp"
    }
   },
   "outputs": [],
   "source": [
    "void setup() {\n",
    "  Serial.begin(9600);\n",
    "\n",
    "  const char* puntero = \"cadena puntero\";\n",
    "  const char array[] = \"cadena array\";\n",
    "\n",
    "  Serial.println(puntero);  // Imprime \"cadena puntero\"\n",
    "  Serial.println(array);    // Imprime \"cadena array\"\n",
    "  \n",
    "  // puntero puede cambiar a otra cadena\n",
    "  puntero = \"nueva cadena\";\n",
    "  Serial.println(puntero);  // Imprime \"nueva cadena\"\n",
    "  \n",
    "  // array NO puede cambiarse a otra cadena (esto sería un error):\n",
    "  // array = \"nueva cadena\";  // Error de compilación\n",
    "}\n",
    "\n",
    "void loop() { }"
   ]
  },
  {
   "cell_type": "markdown",
   "metadata": {},
   "source": [
    "## Pasar un arreglo a una función y modificarlo\n",
    "\n",
    "En C/C++, los arreglos se pasan **por referencia** a las funciones, lo que significa que cualquier modificación dentro de la función afectará directamente al arreglo original.\n",
    "\n",
    "En el siguiente ejemplo:\n",
    "\n",
    "- **`modificarArreglo(int arr[], int tamano)`**: esta función recibe un arreglo de enteros y su tamaño, y modifica cada elemento multiplicándolo por 2.\n",
    "- Los cambios realizados dentro de la función afectan directamente al arreglo original, ya que los arreglos se pasan **por referencia**."
   ]
  },
  {
   "cell_type": "code",
   "execution_count": null,
   "metadata": {
    "vscode": {
     "languageId": "cpp"
    }
   },
   "outputs": [],
   "source": [
    "void modificarArreglo(int arr[], int tamano) {\n",
    "  for (int i = 0; i < tamano; i++) {\n",
    "    arr[i] *= 2;  // Multiplica cada elemento del arreglo por 2\n",
    "  }\n",
    "}\n",
    "\n",
    "void setup() {\n",
    "  Serial.begin(9600);\n",
    "\n",
    "  int miArreglo[5] = {1, 2, 3, 4, 5};  // Definir un arreglo\n",
    "  int tamano = 5;  // Tamaño del arreglo\n",
    "\n",
    "  modificarArreglo(miArreglo, tamano);  // Pasar el arreglo a la función\n",
    "\n",
    "  // Imprimir el arreglo modificado\n",
    "  for (int i = 0; i < tamano; i++) {\n",
    "    Serial.println(miArreglo[i]);  // Los valores serán 2, 4, 6, 8, 10\n",
    "  }\n",
    "}\n",
    "\n",
    "void loop() { }"
   ]
  },
  {
   "cell_type": "markdown",
   "metadata": {},
   "source": [
    "## Pasar un `struct` a una función y modificarlo\n",
    "\n",
    "Cuando se pasa un `struct` a una función en C/C++, por defecto se pasa **por valor**, lo que significa que cualquier cambio dentro de la función **no afectará** al `struct` original. Sin embargo, si se lo pasa como **puntero**, es posible modificar el `struct` original.\n",
    "\n",
    "En el siguiente ejemplo:\n",
    "\n",
    "- **`struct Persona`**: Define una estructura con un nombre y una edad.\n",
    "- **`modificarPersona(Persona *p)`**: Esta función recibe un puntero a un `struct` de tipo `Persona` y modifica sus campos directamente.\n",
    "  - El operador `->` se utiliza para acceder a los miembros de un `struct` a través de un puntero.\n",
    "  - Se usa la función `strcpy` para copiar una nueva cadena en el campo `nombre`."
   ]
  },
  {
   "cell_type": "code",
   "execution_count": null,
   "metadata": {
    "vscode": {
     "languageId": "cpp"
    }
   },
   "outputs": [],
   "source": [
    "struct Persona {\n",
    "  char nombre[20];\n",
    "  int edad;\n",
    "};\n",
    "\n",
    "// Función que modifica el struct\n",
    "void modificarPersona(Persona *p) {\n",
    "  p->edad = 30;  // Modifica la edad\n",
    "  strcpy(p->nombre, \"Modificado\");  // Modifica el nombre\n",
    "}\n",
    "\n",
    "void setup() {\n",
    "\n",
    "  Serial.begin(9600);\n",
    "  Persona persona1 = {\"Lucas\", 25};  // Crear un struct Persona\n",
    "  modificarPersona(&persona1);       // Pasar la dirección del struct a la función\n",
    "\n",
    "  // Imprimir los valores modificados\n",
    "  Serial.println(persona1.nombre);  // Imprime \"Modificado\"\n",
    "  Serial.println(persona1.edad);    // Imprime 30\n",
    "}\n",
    "\n",
    "void loop() { }"
   ]
  }
 ],
 "metadata": {
  "language_info": {
   "name": "python"
  }
 },
 "nbformat": 4,
 "nbformat_minor": 2
}
